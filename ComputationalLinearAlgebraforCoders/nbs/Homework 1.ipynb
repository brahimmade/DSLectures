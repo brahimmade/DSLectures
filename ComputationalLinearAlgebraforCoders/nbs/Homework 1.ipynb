{
 "cells": [
  {
   "cell_type": "markdown",
   "metadata": {},
   "source": [
    "## Homework 1"
   ]
  },
  {
   "cell_type": "code",
   "execution_count": 29,
   "metadata": {},
   "outputs": [],
   "source": [
    "# libraries\r\n",
    "import numpy as np\r\n",
    "import pandas as pd\r\n",
    "import matplotlib"
   ]
  },
  {
   "cell_type": "markdown",
   "metadata": {},
   "source": [
    "This is due on Thurs, 6/1"
   ]
  },
  {
   "cell_type": "markdown",
   "metadata": {},
   "source": [
    "1. Consider the polynomial $p(x) = (x-2)^9 = x^9 - 18x^8 + 144x^7 - 672x^6 + 2016x^5 - 4032x^4 + 5376x^3 - 4608x^2 + 2304x - 512$\r\n",
    "\r\n",
    "  a. Plot $p(x)$ for $x=1.920,\\,1.921,\\,1.922,\\ldots,2.080$ evaluating $p$ via its coefficients $1,\\,,-18,\\,144,\\ldots$\r\n",
    "\r\n",
    "  b. Plot the same plot again, now evaluating $p$ via the expression $(x-2)^9$.\r\n",
    "\r\n",
    "  c. Explain the difference.\r\n",
    "  \r\n",
    "  *(The numpy method linspace will be useful for this)*"
   ]
  },
  {
   "cell_type": "code",
   "execution_count": 53,
   "metadata": {},
   "outputs": [],
   "source": [
    "def expandedPolynomial(x):\r\n",
    "    return np.power(x,9) - 18 *np.power( x,8) + 144 *np.power( x,7) - 672 * np.power( x,6) + 2016 *np.power( x,5) - 4032 *np.power( x,4) + 5376 *np.power( x,3) - 4608 *np.power( x,2)  + 2304 *np.power( x,1) - 512\r\n",
    "\r\n",
    "def polynomial(x):\r\n",
    "    return np.power(x-2,9)"
   ]
  },
  {
   "cell_type": "code",
   "execution_count": 67,
   "metadata": {},
   "outputs": [],
   "source": [
    "def tabulariseResults(expanded):\r\n",
    "    index = []\r\n",
    "    value = []\r\n",
    "    x = 1.92\r\n",
    "    while x < 2.080:\r\n",
    "        index.append(x)\r\n",
    "        if expanded :\r\n",
    "            value.append(expandedPolynomial(x))\r\n",
    "        else :\r\n",
    "            value.append(polynomial(x))\r\n",
    "        x = np.add(x,0.001)\r\n",
    "\r\n",
    "    return pd.DataFrame({'value':value})"
   ]
  },
  {
   "cell_type": "code",
   "execution_count": 68,
   "metadata": {},
   "outputs": [
    {
     "data": {
      "text/html": [
       "<div>\n",
       "<style scoped>\n",
       "    .dataframe tbody tr th:only-of-type {\n",
       "        vertical-align: middle;\n",
       "    }\n",
       "\n",
       "    .dataframe tbody tr th {\n",
       "        vertical-align: top;\n",
       "    }\n",
       "\n",
       "    .dataframe thead th {\n",
       "        text-align: right;\n",
       "    }\n",
       "</style>\n",
       "<table border=\"1\" class=\"dataframe\">\n",
       "  <thead>\n",
       "    <tr style=\"text-align: right;\">\n",
       "      <th></th>\n",
       "      <th>value</th>\n",
       "    </tr>\n",
       "  </thead>\n",
       "  <tbody>\n",
       "    <tr>\n",
       "      <th>0</th>\n",
       "      <td>-1.346052e-10</td>\n",
       "    </tr>\n",
       "    <tr>\n",
       "      <th>1</th>\n",
       "      <td>-1.246008e-10</td>\n",
       "    </tr>\n",
       "    <tr>\n",
       "      <th>2</th>\n",
       "      <td>-1.173248e-10</td>\n",
       "    </tr>\n",
       "    <tr>\n",
       "      <th>3</th>\n",
       "      <td>-1.073204e-10</td>\n",
       "    </tr>\n",
       "    <tr>\n",
       "      <th>4</th>\n",
       "      <td>-7.821654e-11</td>\n",
       "    </tr>\n",
       "  </tbody>\n",
       "</table>\n",
       "</div>"
      ],
      "text/plain": [
       "          value\n",
       "0 -1.346052e-10\n",
       "1 -1.246008e-10\n",
       "2 -1.173248e-10\n",
       "3 -1.073204e-10\n",
       "4 -7.821654e-11"
      ]
     },
     "execution_count": 68,
     "metadata": {},
     "output_type": "execute_result"
    }
   ],
   "source": [
    "tabulariseResults(True).head()"
   ]
  },
  {
   "cell_type": "code",
   "execution_count": 69,
   "metadata": {},
   "outputs": [
    {
     "data": {
      "text/plain": [
       "<AxesSubplot:>"
      ]
     },
     "execution_count": 69,
     "metadata": {},
     "output_type": "execute_result"
    },
    {
     "data": {
      "image/png": "[encoded data removed]",
      "text/plain": [
       "<Figure size 432x288 with 1 Axes>"
      ]
     },
     "metadata": {
      "needs_background": "light"
     },
     "output_type": "display_data"
    }
   ],
   "source": [
    "tabulariseResults(True).plot()"
   ]
  },
  {
   "cell_type": "code",
   "execution_count": 70,
   "metadata": {},
   "outputs": [
    {
     "data": {
      "text/plain": [
       "<AxesSubplot:>"
      ]
     },
     "execution_count": 70,
     "metadata": {},
     "output_type": "execute_result"
    },
    {
     "data": {
      "image/png": "[encoded data removed]",
      "text/plain": [
       "<Figure size 432x288 with 1 Axes>"
      ]
     },
     "metadata": {
      "needs_background": "light"
     },
     "output_type": "display_data"
    }
   ],
   "source": [
    "tabulariseResults(False).plot()"
   ]
  },
  {
   "cell_type": "code",
   "execution_count": 63,
   "metadata": {},
   "outputs": [
    {
     "data": {
      "text/plain": [
       "1.9209999999999998"
      ]
     },
     "execution_count": 63,
     "metadata": {},
     "output_type": "execute_result"
    }
   ],
   "source": [
    "np.linspace(1.92, 2.08, 161)[1]"
   ]
  },
  {
   "cell_type": "code",
   "execution_count": 64,
   "metadata": {},
   "outputs": [],
   "source": [
    "# c) Difference due to floating point precision, can't increment by exactly 0.001"
   ]
  },
  {
   "cell_type": "markdown",
   "metadata": {},
   "source": [
    "2\\. How many different double-precision numbers are there?  Express your answer using powers of 2"
   ]
  },
  {
   "cell_type": "markdown",
   "metadata": {},
   "source": [
    "3\\. Using the updated [Numbers Every Programmer Should Know](https://people.eecs.berkeley.edu/~rcs/research/interactive_latency.html), how much longer does a main memory reference take than an L1 cache look-up?  How much longer does a disk seek take than a main memory reference?"
   ]
  },
  {
   "cell_type": "code",
   "execution_count": null,
   "metadata": {},
   "outputs": [],
   "source": [
    "# L1 cache reference: 1ns\r\n",
    "# Main Memory = 100ns\r\n",
    "# 100x\r\n",
    "\r\n",
    "# Disk Seek: 2,000,000ns\r\n",
    "# 20,000x"
   ]
  },
  {
   "cell_type": "markdown",
   "metadata": {},
   "source": [
    "4\\. From the Halide Video, what are 4 ways to traverse a 2d array?"
   ]
  },
  {
   "cell_type": "markdown",
   "metadata": {},
   "source": [
    "Scan Line order, sequentially across y, then sequentially across x (row traverse) \r\n",
    "We can transpose x and y, so we get a column traverse\r\n",
    "\r\n",
    "Scan line order, but do x in vectors of 4\r\n",
    "\r\n",
    "Distribute scanlines across threads so we have parrallel y and vectorize x by 4\r\n",
    "\r\n",
    "Split x and y dimensions into tiles (e.g. split x by 4 and split y by 4)"
   ]
  },
  {
   "cell_type": "markdown",
   "metadata": {},
   "source": [
    "5\\. Using the animations below ([source](https://www.youtube.com/watch?v=3uiEyEKji0M)), explain what the benefits and pitfalls of each approach. Green squares indicate that a value is being read; red indicates a value is being written. Your answers should be longer in length (give more detail) than just two words.\n",
    "\n",
    "  a. <img src=\"images/Halide1.gif\" alt=\"Halide\" style=\"width: 70%\"/>\n",
    "  \n",
    "  b. <img src=\"images/Halide2.gif\" alt=\"Halide\" style=\"width: 70%\"/>\n",
    "  \n",
    "  c. <img src=\"images/Halide3.gif\" alt=\"Halide\" style=\"width: 70%\"/>"
   ]
  },
  {
   "cell_type": "markdown",
   "metadata": {},
   "source": [
    "a) Computes all inputs ahead of time, before starting the output\r\n",
    "Poor locality, by the time we start computing the output, the required inputs have been removed from cache (limited by system memory)\r\n",
    "\r\n",
    "b) Maximum locality, use inputs for output immediately\r\n",
    "Lots of redundant calculations, the blurred in x stage is recomputed many times\r\n",
    "\r\n",
    "c) We've allocated enough memory to store all the intermediate stage\r\n",
    "We have locality and no redundant calculations\r\n",
    "Introduced serial dependence, we need scanline n-1, to compute scanline n\r\n",
    "Cannot parrallelise"
   ]
  },
  {
   "cell_type": "markdown",
   "metadata": {},
   "source": [
    "6\\. Prove that if $A = Q B Q^T$ for some orthnogonal matrix $Q$, the $A$ and $B$ have the same singular values.\r\n",
    "\r\n",
    "$A = Q B Q^T$\r\n",
    "\r\n",
    "$AQ = Q B Q^TQ$\r\n",
    "\r\n",
    "$Q^TAQ = Q^TQ B I$\r\n",
    "\r\n",
    "$Q^TAQ = I B$\r\n",
    "\r\n",
    "$Q^TAQ = B$"
   ]
  },
  {
   "cell_type": "markdown",
   "metadata": {},
   "source": [
    "7\\. What is the *stochastic* part of *stochastic gradient descent*?\r\n",
    "\r\n",
    "You calculate the gradient on random batches, and so the gradient is not predetermined. Depends on what's in the batches and the order"
   ]
  }
 ],
 "metadata": {
  "interpreter": {
   "hash": "323fd6ddc21dc43adaae05180d941bf4033bdcaf42cbc0ec9dcb2bf50a11676b"
  },
  "kernelspec": {
   "display_name": "Python 3.8.9 64-bit ('venv': venv)",
   "name": "python3"
  },
  "language_info": {
   "codemirror_mode": {
    "name": "ipython",
    "version": 3
   },
   "file_extension": ".py",
   "mimetype": "text/x-python",
   "name": "python",
   "nbconvert_exporter": "python",
   "pygments_lexer": "ipython3",
   "version": "3.8.9"
  }
 },
 "nbformat": 4,
 "nbformat_minor": 2
}