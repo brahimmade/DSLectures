{
 "cells": [
  {
   "cell_type": "markdown",
   "source": [
    "## Homework 1"
   ],
   "metadata": {}
  },
  {
   "cell_type": "code",
   "execution_count": 1,
   "source": [
    "# libraries\n",
    "import numpy as np\n",
    "import pandas as pd\n",
    "import matplotlib"
   ],
   "outputs": [
    {
     "output_type": "stream",
     "name": "stderr",
     "text": [
      "/Users/yeungadrian/Documents/repo/OnlineLearning/venv/lib/python3.8/site-packages/pandas/compat/__init__.py:124: UserWarning: Could not import the lzma module. Your installed Python is incomplete. Attempting to use lzma compression will result in a RuntimeError.\n",
      "  warnings.warn(msg)\n"
     ]
    }
   ],
   "metadata": {}
  },
  {
   "cell_type": "markdown",
   "source": [
    "This is due on Thurs, 6/1"
   ],
   "metadata": {}
  },
  {
   "cell_type": "markdown",
   "source": [
    "## 1.\n",
    "\n",
    " Consider the polynomial $p(x) = (x-2)^9 = x^9 - 18x^8 + 144x^7 - 672x^6 + 2016x^5 - 4032x^4 + 5376x^3 - 4608x^2 + 2304x - 512$\n",
    "\n",
    "  a. Plot $p(x)$ for $x=1.920,\\,1.921,\\,1.922,\\ldots,2.080$ evaluating $p$ via its coefficients $1,\\,,-18,\\,144,\\ldots$\n",
    "\n",
    "  b. Plot the same plot again, now evaluating $p$ via the expression $(x-2)^9$.\n",
    "\n",
    "  c. Explain the difference.\n",
    "  \n",
    "  *(The numpy method linspace will be useful for this)*"
   ],
   "metadata": {}
  },
  {
   "cell_type": "code",
   "execution_count": 43,
   "source": [
    "def expandedPolynomial(x):\n",
    "    return (\n",
    "        np.power(x, 9)\n",
    "        - np.prod([18, np.power(x, 8)])\n",
    "        + np.prod([144 , np.power(x, 7)])\n",
    "        - np.prod([672 , np.power(x, 6)])\n",
    "        + np.prod([2016 , np.power(x, 5)])\n",
    "        - np.prod([4032 , np.power(x, 4)])\n",
    "        + np.prod([5376 , np.power(x, 3)])\n",
    "        - np.prod([4608 , np.power(x, 2)])\n",
    "        + np.prod([2304 , np.power(x, 1)])\n",
    "        - 512\n",
    "    )\n",
    "\n",
    "\n",
    "def polynomial(x):\n",
    "    return np.power(x - 2, 9)\n"
   ],
   "outputs": [],
   "metadata": {}
  },
  {
   "cell_type": "code",
   "execution_count": 58,
   "source": [
    "def tabularisePolynomial(expanded):\n",
    "    index = []\n",
    "    value = []\n",
    "    x = 1.92\n",
    "    for x in np.linspace(1.92, 2.08, 161):\n",
    "        if expanded:\n",
    "            value.append(expandedPolynomial(x))\n",
    "        else:\n",
    "            value.append(polynomial(x))\n",
    "\n",
    "    return pd.DataFrame({'value':value})"
   ],
   "outputs": [],
   "metadata": {}
  },
  {
   "cell_type": "code",
   "execution_count": 59,
   "source": [
    "tabularisePolynomial(True).head()"
   ],
   "outputs": [
    {
     "output_type": "execute_result",
     "data": {
      "text/html": [
       "<div>\n",
       "<style scoped>\n",
       "    .dataframe tbody tr th:only-of-type {\n",
       "        vertical-align: middle;\n",
       "    }\n",
       "\n",
       "    .dataframe tbody tr th {\n",
       "        vertical-align: top;\n",
       "    }\n",
       "\n",
       "    .dataframe thead th {\n",
       "        text-align: right;\n",
       "    }\n",
       "</style>\n",
       "<table border=\"1\" class=\"dataframe\">\n",
       "  <thead>\n",
       "    <tr style=\"text-align: right;\">\n",
       "      <th></th>\n",
       "      <th>value</th>\n",
       "    </tr>\n",
       "  </thead>\n",
       "  <tbody>\n",
       "    <tr>\n",
       "      <th>0</th>\n",
       "      <td>-1.346052e-10</td>\n",
       "    </tr>\n",
       "    <tr>\n",
       "      <th>1</th>\n",
       "      <td>-1.246008e-10</td>\n",
       "    </tr>\n",
       "    <tr>\n",
       "      <th>2</th>\n",
       "      <td>-1.173248e-10</td>\n",
       "    </tr>\n",
       "    <tr>\n",
       "      <th>3</th>\n",
       "      <td>-9.094947e-11</td>\n",
       "    </tr>\n",
       "    <tr>\n",
       "      <th>4</th>\n",
       "      <td>-8.822099e-11</td>\n",
       "    </tr>\n",
       "  </tbody>\n",
       "</table>\n",
       "</div>"
      ],
      "text/plain": [
       "          value\n",
       "0 -1.346052e-10\n",
       "1 -1.246008e-10\n",
       "2 -1.173248e-10\n",
       "3 -9.094947e-11\n",
       "4 -8.822099e-11"
      ]
     },
     "metadata": {},
     "execution_count": 59
    }
   ],
   "metadata": {}
  },
  {
   "cell_type": "code",
   "execution_count": 60,
   "source": [
    "tabularisePolynomial(True).plot()"
   ],
   "outputs": [
    {
     "output_type": "execute_result",
     "data": {
      "text/plain": [
       "<AxesSubplot:>"
      ]
     },
     "metadata": {},
     "execution_count": 60
    },
    {
     "output_type": "display_data",
     "data": {
      "image/png": "[encoded data removed]",
      "text/plain": [
       "<Figure size 432x288 with 1 Axes>"
      ]
     },
     "metadata": {
      "needs_background": "light"
     }
    }
   ],
   "metadata": {}
  },
  {
   "cell_type": "code",
   "execution_count": 61,
   "source": [
    "tabularisePolynomial(False).plot()"
   ],
   "outputs": [
    {
     "output_type": "execute_result",
     "data": {
      "text/plain": [
       "<AxesSubplot:>"
      ]
     },
     "metadata": {},
     "execution_count": 61
    },
    {
     "output_type": "display_data",
     "data": {
      "image/png": "[encoded data removed]",
      "text/plain": [
       "<Figure size 432x288 with 1 Axes>"
      ]
     },
     "metadata": {
      "needs_background": "light"
     }
    }
   ],
   "metadata": {}
  },
  {
   "cell_type": "markdown",
   "source": [
    "c) Difference due to floating point precisio\n",
    "\n",
    "For example np.linspace(1.92, 2.08, 161)[86] is not exactly 2.006, which then causes large differences via the expansion"
   ],
   "metadata": {}
  },
  {
   "cell_type": "code",
   "execution_count": 69,
   "source": [
    "np.linspace(1.92, 2.08, 161)[86]"
   ],
   "outputs": [
    {
     "output_type": "execute_result",
     "data": {
      "text/plain": [
       "2.0060000000000002"
      ]
     },
     "metadata": {},
     "execution_count": 69
    }
   ],
   "metadata": {}
  },
  {
   "cell_type": "markdown",
   "source": [
    "## 2\\. How many different double-precision numbers are there?  Express your answer using powers of 2"
   ],
   "metadata": {}
  },
  {
   "cell_type": "markdown",
   "source": [
    "$$\\varepsilon_{machine} = 2^{-53} \\approx 1.11 \\times 10^{-16}$$\n",
    "- Numbers can be as large as $1.79 \\times 10^{308}$ and as small as $2.23 \\times 10^{-308}$."
   ],
   "metadata": {}
  },
  {
   "cell_type": "markdown",
   "source": [
    "Can't really trust numbers smaller than machine epsilon"
   ],
   "metadata": {}
  },
  {
   "cell_type": "markdown",
   "source": [
    "## 3\\. Using the updated [Numbers Every Programmer Should Know](https://people.eecs.berkeley.edu/~rcs/research/interactive_latency.html), how much longer does a main memory reference take than an L1 cache look-up?  How much longer does a disk seek take than a main memory reference?"
   ],
   "metadata": {}
  },
  {
   "cell_type": "markdown",
   "source": [
    "L1 cache reference: 1ns\n",
    "\n",
    "Main Memory = 100ns\n",
    "\n",
    "100x between L1 and main memory\n",
    "\n",
    "Disk Seek: 2,000,000ns\n",
    "\n",
    "20,000x between main memory and disk seek\n"
   ],
   "metadata": {}
  },
  {
   "cell_type": "markdown",
   "source": [
    "## 4\\. From the Halide Video, what are 4 ways to traverse a 2d array?"
   ],
   "metadata": {}
  },
  {
   "cell_type": "markdown",
   "source": [
    "1. Scan Line order, sequentially across y, then sequentially across x (row traverse) \n",
    "2. We can transpose x and y, so we get a column traverse\n",
    "3. Scan line order, but do x in vectors of 4\n",
    "4. Distribute scanlines across threads so we have parrallel y and vectorize x by 4, Split x and y dimensions into tiles (e.g. split x by 4 and split y by 4)"
   ],
   "metadata": {}
  },
  {
   "cell_type": "markdown",
   "source": [
    "## 5\\. Using the animations below ([source](https://www.youtube.com/watch?v=3uiEyEKji0M)), explain what the benefits and pitfalls of each approach. Green squares indicate that a value is being read; red indicates a value is being written. Your answers should be longer in length (give more detail) than just two words."
   ],
   "metadata": {}
  },
  {
   "cell_type": "markdown",
   "source": [
    "a. <img src=\"images/Halide1.gif\" alt=\"Halide\" style=\"width: 70%\"/>\n",
    "\n",
    "b. <img src=\"images/Halide2.gif\" alt=\"Halide\" style=\"width: 70%\"/>\n",
    "\n",
    "c. <img src=\"images/Halide3.gif\" alt=\"Halide\" style=\"width: 70%\"/>"
   ],
   "metadata": {}
  },
  {
   "cell_type": "markdown",
   "source": [
    "a) \n",
    "- Computes all inputs ahead of time, before starting the output\n",
    "- Poor locality, by the time we start computing the output, the required inputs have been removed from cache (limited by system memory)\n",
    "\n",
    "b) \n",
    "- Maximum locality, use inputs for output immediately\n",
    "- Lots of redundant calculations, the blurred in x stage is recomputed many times\n",
    "\n",
    "c) \n",
    "- We've allocated enough memory to store all the intermediate stage\n",
    "- We have locality and no redundant calculations\n",
    "- Introduced serial dependence, we need scanline n-1, to compute scanline n\n",
    "- Cannot parrallelise"
   ],
   "metadata": {}
  },
  {
   "cell_type": "markdown",
   "source": [
    "## 6\\. Prove that if $A = Q B Q^T$ for some orthnogonal matrix $Q$, the $A$ and $B$ have the same singular values.\n"
   ],
   "metadata": {}
  },
  {
   "cell_type": "markdown",
   "source": [
    "$A = Q B Q^T$\n",
    "\n",
    "$AQ = Q B Q^TQ$\n",
    "\n",
    "$AQ = Q B I $\n",
    "\n",
    "$AQ = Q B $\n",
    "\n",
    "Eigenvector of $Q B Q^T$ is ${\\mid \\mid B \\mid \\mid}^2 $\n",
    "\n",
    "For a square orthogonal matrix Q:\n",
    "\n",
    "${\\mid \\mid Qx \\mid \\mid}^2 = {\\mid \\mid x \\mid \\mid}^2$ (orthogonal transformation preserves lengths in the usual Euclidan norm, or 2-norm)\n",
    "\n",
    "And so singular values for A & B must be identical\n",
    "\n"
   ],
   "metadata": {}
  },
  {
   "cell_type": "markdown",
   "source": [
    "## 7\\. What is the *stochastic* part of *stochastic gradient descent*?\n",
    "\n",
    "- Stochastic means random\n",
    "- SGD randomly picks one data point from the whole data set at each iteration to reduce the computations enormously.\n",
    "- You calculate the gradient on random batches, and so the gradient is not predetermined. Depends on what's in the batches and the order"
   ],
   "metadata": {}
  },
  {
   "cell_type": "markdown",
   "source": [],
   "metadata": {}
  }
 ],
 "metadata": {
  "interpreter": {
   "hash": "49da1de80cb45c5c6192eccb955cb587c884be8f511c8b98ac86557bd55d710a"
  },
  "kernelspec": {
   "name": "python3",
   "display_name": "Python 3.8.9 64-bit ('venv': venv)"
  },
  "language_info": {
   "codemirror_mode": {
    "name": "ipython",
    "version": 3
   },
   "file_extension": ".py",
   "mimetype": "text/x-python",
   "name": "python",
   "nbconvert_exporter": "python",
   "pygments_lexer": "ipython3",
   "version": "3.8.9"
  }
 },
 "nbformat": 4,
 "nbformat_minor": 2
}