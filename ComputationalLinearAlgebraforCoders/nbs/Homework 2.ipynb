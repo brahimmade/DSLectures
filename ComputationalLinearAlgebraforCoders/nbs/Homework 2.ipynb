{
 "cells": [
  {
   "cell_type": "markdown",
   "source": [
    "# Homework 2"
   ],
   "metadata": {}
  },
  {
   "cell_type": "markdown",
   "source": [
    "This homework covers the material in Lessons 3 & 4.  It is due **Thurday, June 15**.  Please submit your **answers as a PDF**."
   ],
   "metadata": {}
  },
  {
   "cell_type": "markdown",
   "source": [
    "## 1\\. Modify the LU method (without pivoting) to work **in-place**.  That is, it should not allocate any new memory for L or U, but instead overwrite A."
   ],
   "metadata": {}
  },
  {
   "cell_type": "code",
   "execution_count": 1,
   "source": [
    "import numpy as np"
   ],
   "outputs": [],
   "metadata": {}
  },
  {
   "cell_type": "code",
   "execution_count": 137,
   "source": [
    "A = np.array([[1e-20, 1], [1,1]])"
   ],
   "outputs": [],
   "metadata": {}
  },
  {
   "cell_type": "code",
   "execution_count": 138,
   "source": [
    "def LU(A):\n",
    "    U = np.copy(A)\n",
    "    m, n = A.shape\n",
    "    L = np.eye(n)\n",
    "    for k in range(n-1):\n",
    "        for j in range(k+1,n):\n",
    "            L[j,k] = U[j,k]/U[k,k]\n",
    "            U[j,k:n] -= L[j,k] * U[k,k:n]\n",
    "    return L, U"
   ],
   "outputs": [],
   "metadata": {
    "collapsed": true
   }
  },
  {
   "cell_type": "code",
   "execution_count": 139,
   "source": [
    "LU(A)"
   ],
   "outputs": [
    {
     "output_type": "execute_result",
     "data": {
      "text/plain": [
       "(array([[1.e+00, 0.e+00],\n",
       "        [1.e+20, 1.e+00]]),\n",
       " array([[ 1.e-20,  1.e+00],\n",
       "        [ 0.e+00, -1.e+20]]))"
      ]
     },
     "metadata": {},
     "execution_count": 139
    }
   ],
   "metadata": {}
  },
  {
   "cell_type": "code",
   "execution_count": 140,
   "source": [
    "def LUInplace(A):\n",
    "    m, n = A.shape\n",
    "    L = np.eye(n)\n",
    "    for k in range(n-1):\n",
    "        for j in range(k+1,n):\n",
    "            L[j,k] = A[j,k]/A[k,k]\n",
    "            A[j,k:n] -= L[j,k] * A[k,k:n]\n",
    "    return L, A"
   ],
   "outputs": [],
   "metadata": {}
  },
  {
   "cell_type": "code",
   "execution_count": 129,
   "source": [
    "LUInplace(A)"
   ],
   "outputs": [],
   "metadata": {}
  },
  {
   "cell_type": "code",
   "execution_count": 119,
   "source": [
    "A = np.array([[1e-20, 1], [1,1]])\n",
    "A"
   ],
   "outputs": [
    {
     "output_type": "execute_result",
     "data": {
      "text/plain": [
       "array([[1.e-20, 1.e+00],\n",
       "       [1.e+00, 1.e+00]])"
      ]
     },
     "metadata": {},
     "execution_count": 119
    }
   ],
   "metadata": {}
  },
  {
   "cell_type": "markdown",
   "source": [
    "## 2. Modify our LU method from class to add pivoting, as described in the lesson. Hint: the swap method below will be useful"
   ],
   "metadata": {}
  },
  {
   "cell_type": "code",
   "execution_count": null,
   "source": [
    "def swap(a,b):\n",
    "    temp = np.copy(a)\n",
    "    a[:] = b\n",
    "    b[:] = temp"
   ],
   "outputs": [],
   "metadata": {}
  },
  {
   "cell_type": "code",
   "execution_count": 121,
   "source": [
    "def LUPivot(A):\n",
    "    U = np.copy(A)\n",
    "    print(U)\n",
    "    m, n = U.shape\n",
    "    L = np.eye(n)\n",
    "    for k in range(n-1):\n",
    "        maxPosition = np.argmax(U[:,k])\n",
    "        swap(U[maxPosition],U[k])\n",
    "        for j in range(k+1,n):\n",
    "            L[j,k] = U[j,k]/U[k,k]\n",
    "            U[j,k:n] -= L[j,k] * U[k,k:n]\n",
    "        \n",
    "    return L, U"
   ],
   "outputs": [],
   "metadata": {}
  },
  {
   "cell_type": "code",
   "execution_count": 123,
   "source": [
    "a , b = LUPivot(A)"
   ],
   "outputs": [
    {
     "output_type": "stream",
     "name": "stdout",
     "text": [
      "[[1.e-20 1.e+00]\n",
      " [1.e+00 1.e+00]]\n",
      "1\n",
      "[[1.e+00 1.e+00]\n",
      " [1.e-20 1.e+00]]\n"
     ]
    }
   ],
   "metadata": {}
  },
  {
   "cell_type": "code",
   "execution_count": 126,
   "source": [
    "b"
   ],
   "outputs": [
    {
     "output_type": "execute_result",
     "data": {
      "text/plain": [
       "array([[1., 1.],\n",
       "       [0., 1.]])"
      ]
     },
     "metadata": {},
     "execution_count": 126
    }
   ],
   "metadata": {}
  },
  {
   "cell_type": "code",
   "execution_count": 124,
   "source": [
    "np.matmul(a,b)"
   ],
   "outputs": [
    {
     "output_type": "execute_result",
     "data": {
      "text/plain": [
       "array([[1.e+00, 1.e+00],\n",
       "       [1.e-20, 1.e+00]])"
      ]
     },
     "metadata": {},
     "execution_count": 124
    }
   ],
   "metadata": {}
  },
  {
   "cell_type": "markdown",
   "source": [
    "## 3\\. For each of the following sets of dimensions, either\n",
    "  - give the dimensions of the output of an operation on A and B, **or** \n",
    "  - answer *incompatible* if the dimensions are incompatible according to the [numpy rules of broadcasting](https://docs.scipy.org/doc/numpy-1.10.0/user/basics.broadcasting.html)."
   ],
   "metadata": {}
  },
  {
   "cell_type": "markdown",
   "source": [
    "    a.  A      (2d array):  3 x 3\n",
    "        B      (1d array):      1\n",
    "\n",
    "    b.  A      (2d array):      2 x 1\n",
    "        B      (3d array):  6 x 4 x 2\n",
    "\n",
    "    c.  A      (2d array):  5 x 4\n",
    "        B      (1d array):      4\n",
    "\n",
    "    d.  A      (3d array):  32 x 64 x 8\n",
    "        B      (3d array):   32 x 1 x 8\n",
    "\n",
    "    e.  A      (3d array):       64 x 1\n",
    "        B      (3d array):  32 x 1 x 16\n",
    "\n",
    "    f.  A      (3d array):  32 x 64 x 2\n",
    "        B      (3d array):   32 x 1 x 8"
   ],
   "metadata": {
    "collapsed": true
   }
  },
  {
   "cell_type": "markdown",
   "source": [
    "3.\r\n",
    "a) 3 X 3\r\n",
    "\r\n",
    "b) incomptabile\r\n",
    "\r\n",
    "c) 5 x 4\r\n",
    "\r\n",
    "d) 32 x 64 x 8\r\n",
    "\r\n",
    "e) 32 x 64 x 16\r\n",
    "\r\n",
    "f) incompatible"
   ],
   "metadata": {}
  },
  {
   "cell_type": "markdown",
   "source": [
    "## 4\\. Write how this matrix would be stored in compressed row format:\n",
    "\n",
    "$\\begin{pmatrix}\n",
    "  1 & & & & -2 & -3 \\\\\n",
    "  & 3 &  & & & -9 \\\\\n",
    "  &  &  & -7 & 4 & \\\\ \n",
    "  -1 & 2 & & 7 & & \\\\\n",
    "  -3 & & & 26 & &\n",
    " \\end{pmatrix} $"
   ],
   "metadata": {
    "collapsed": true
   }
  },
  {
   "cell_type": "markdown",
   "source": [],
   "metadata": {}
  }
 ],
 "metadata": {
  "interpreter": {
   "hash": "323fd6ddc21dc43adaae05180d941bf4033bdcaf42cbc0ec9dcb2bf50a11676b"
  },
  "kernelspec": {
   "display_name": "Python 3.8.9 64-bit ('venv': venv)",
   "name": "python3"
  },
  "language_info": {
   "codemirror_mode": {
    "name": "ipython",
    "version": 3
   },
   "file_extension": ".py",
   "mimetype": "text/x-python",
   "name": "python",
   "nbconvert_exporter": "python",
   "pygments_lexer": "ipython3",
   "version": "3.8.9"
  }
 },
 "nbformat": 4,
 "nbformat_minor": 2
}