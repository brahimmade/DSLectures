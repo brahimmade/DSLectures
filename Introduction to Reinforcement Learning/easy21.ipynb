{
 "cells": [
  {
   "cell_type": "code",
   "execution_count": 1,
   "source": [
    "from enum import Enum\r\n",
    "import copy\r\n",
    "import random\r\n",
    "import numpy as np\r\n",
    "import matplotlib.pyplot as plt\r\n",
    "from easy21 import *\r\n",
    "\r\n",
    "random.seed(1)"
   ],
   "outputs": [],
   "metadata": {}
  },
  {
   "cell_type": "code",
   "execution_count": 2,
   "source": [
    "def animate(frame):\r\n",
    "    i = agent.iterations\r\n",
    "    step_size = i\r\n",
    "    step_size = max(1, step_size)\r\n",
    "    step_size = min(step_size, 2 ** 16)\r\n",
    "    agent.train(step_size)\r\n",
    "\r\n",
    "    ax.clear()\r\n",
    "    surf =  agent.plot_frame(ax)\r\n",
    "    plt.title('MC score:%s frame:%s step_size:%s ' % (float(agent.count_wins)/agent.iterations*100, frame, step_size) )\r\n",
    "    # plt.draw()\r\n",
    "    fig.canvas.draw()\r\n",
    "    return surf"
   ],
   "outputs": [],
   "metadata": {}
  },
  {
   "cell_type": "code",
   "execution_count": 3,
   "source": [
    "import matplotlib.pyplot as plt\r\n",
    "import matplotlib.animation as animation\r\n",
    "from mpl_toolkits.mplot3d import Axes3D\r\n",
    "from matplotlib import cm\r\n",
    "%matplotlib inline \r\n",
    "\r\n",
    "N0 = 100\r\n",
    "agent = MC_Agent(Environment(), N0)\r\n",
    "fig = plt.figure(\"N100\")\r\n",
    "ax = fig.add_subplot(111, projection='3d')\r\n",
    "\r\n",
    "ani = animation.FuncAnimation(fig, animate, 32, repeat=False)\r\n",
    "\r\n",
    "# note: requires gif writer; swap with plt.show()\r\n",
    "ani.save('MC_Agent.gif', writer='imagemagick', fps=3)\r\n",
    "# plt.show()"
   ],
   "outputs": [
    {
     "output_type": "stream",
     "name": "stderr",
     "text": [
      "MovieWriter imagemagick unavailable; using Pillow instead.\n",
      "100%|██████████| 1/1 [00:00<00:00, 998.88it/s]\n"
     ]
    },
    {
     "output_type": "stream",
     "name": "stdout",
     "text": [
      "100.0\n",
      "done  0 1 0\n"
     ]
    },
    {
     "output_type": "stream",
     "name": "stderr",
     "text": [
      "100%|██████████| 1/1 [00:00<00:00, 998.88it/s]\n"
     ]
    },
    {
     "output_type": "stream",
     "name": "stdout",
     "text": [
      "50.0\n",
      "done  0 1 1\n"
     ]
    },
    {
     "output_type": "stream",
     "name": "stderr",
     "text": [
      "100%|██████████| 2/2 [00:00<?, ?it/s]\n"
     ]
    },
    {
     "output_type": "stream",
     "name": "stdout",
     "text": [
      "50.0\n",
      "done  1 2 2\n"
     ]
    },
    {
     "output_type": "stream",
     "name": "stderr",
     "text": [
      "100%|██████████| 4/4 [00:00<00:00, 4002.20it/s]\n"
     ]
    },
    {
     "output_type": "stream",
     "name": "stdout",
     "text": [
      "37.5\n",
      "done  2 4 4\n"
     ]
    },
    {
     "output_type": "stream",
     "name": "stderr",
     "text": [
      "100%|██████████| 8/8 [00:00<00:00, 8000.58it/s]\n"
     ]
    },
    {
     "output_type": "stream",
     "name": "stdout",
     "text": [
      "37.5\n",
      "done  3 8 8\n"
     ]
    },
    {
     "output_type": "stream",
     "name": "stderr",
     "text": [
      "100%|██████████| 16/16 [00:00<00:00, 16008.79it/s]\n"
     ]
    },
    {
     "output_type": "stream",
     "name": "stdout",
     "text": [
      "43.75\n",
      "done  4 16 16\n"
     ]
    },
    {
     "output_type": "stream",
     "name": "stderr",
     "text": [
      "100%|██████████| 32/32 [00:00<00:00, 15984.01it/s]\n"
     ]
    },
    {
     "output_type": "stream",
     "name": "stdout",
     "text": [
      "51.5625\n",
      "done  5 32 32\n"
     ]
    },
    {
     "output_type": "stream",
     "name": "stderr",
     "text": [
      "100%|██████████| 64/64 [00:00<00:00, 21324.71it/s]"
     ]
    },
    {
     "output_type": "stream",
     "name": "stdout",
     "text": [
      "42.96875\n"
     ]
    },
    {
     "output_type": "stream",
     "name": "stderr",
     "text": [
      "\n"
     ]
    },
    {
     "output_type": "stream",
     "name": "stdout",
     "text": [
      "done  6 64 64\n"
     ]
    },
    {
     "output_type": "stream",
     "name": "stderr",
     "text": [
      "100%|██████████| 128/128 [00:00<00:00, 21307.78it/s]\n"
     ]
    },
    {
     "output_type": "stream",
     "name": "stdout",
     "text": [
      "45.3125\n",
      "done  7 128 128\n"
     ]
    },
    {
     "output_type": "stream",
     "name": "stderr",
     "text": [
      "100%|██████████| 256/256 [00:00<00:00, 21312.86it/s]\n"
     ]
    },
    {
     "output_type": "stream",
     "name": "stdout",
     "text": [
      "44.3359375\n",
      "done  8 256 256\n"
     ]
    },
    {
     "output_type": "stream",
     "name": "stderr",
     "text": [
      "100%|██████████| 512/512 [00:00<00:00, 21313.49it/s]\n"
     ]
    },
    {
     "output_type": "stream",
     "name": "stdout",
     "text": [
      "45.01953125\n",
      "done  9 512 512\n"
     ]
    },
    {
     "output_type": "stream",
     "name": "stderr",
     "text": [
      "100%|██████████| 1024/1024 [00:00<00:00, 17948.72it/s]"
     ]
    },
    {
     "output_type": "stream",
     "name": "stdout",
     "text": [
      "46.630859375\n"
     ]
    },
    {
     "output_type": "stream",
     "name": "stderr",
     "text": [
      "\n"
     ]
    },
    {
     "output_type": "stream",
     "name": "stdout",
     "text": [
      "done  10 1024 1024\n"
     ]
    },
    {
     "output_type": "stream",
     "name": "stderr",
     "text": [
      "100%|██████████| 2048/2048 [00:00<00:00, 11242.56it/s]\n"
     ]
    },
    {
     "output_type": "stream",
     "name": "stdout",
     "text": [
      "47.4853515625\n",
      "done  11 2048 2048\n"
     ]
    },
    {
     "output_type": "stream",
     "name": "stderr",
     "text": [
      "100%|██████████| 4096/4096 [00:00<00:00, 18187.94it/s]\n"
     ]
    },
    {
     "output_type": "stream",
     "name": "stdout",
     "text": [
      "47.6318359375\n",
      "done  12 4096 4096\n"
     ]
    },
    {
     "output_type": "stream",
     "name": "stderr",
     "text": [
      "100%|██████████| 8192/8192 [00:00<00:00, 24504.39it/s]\n"
     ]
    },
    {
     "output_type": "stream",
     "name": "stdout",
     "text": [
      "48.114013671875\n",
      "done  13 8192 8192\n"
     ]
    },
    {
     "output_type": "stream",
     "name": "stderr",
     "text": [
      "100%|██████████| 16384/16384 [00:00<00:00, 23620.70it/s]\n"
     ]
    },
    {
     "output_type": "stream",
     "name": "stdout",
     "text": [
      "49.4293212890625\n",
      "done  14 16384 16384\n"
     ]
    },
    {
     "output_type": "stream",
     "name": "stderr",
     "text": [
      "100%|██████████| 32768/32768 [00:01<00:00, 23120.19it/s]\n"
     ]
    },
    {
     "output_type": "stream",
     "name": "stdout",
     "text": [
      "50.32501220703125\n",
      "done  15 32768 32768\n"
     ]
    },
    {
     "output_type": "stream",
     "name": "stderr",
     "text": [
      "100%|██████████| 65536/65536 [00:02<00:00, 23504.08it/s]\n"
     ]
    },
    {
     "output_type": "stream",
     "name": "stdout",
     "text": [
      "51.13372802734375\n",
      "done  16 65536 65536\n"
     ]
    },
    {
     "output_type": "stream",
     "name": "stderr",
     "text": [
      "100%|██████████| 65536/65536 [00:02<00:00, 23519.11it/s]\n"
     ]
    },
    {
     "output_type": "stream",
     "name": "stdout",
     "text": [
      "51.467386881510414\n",
      "done  17 65536 131072\n"
     ]
    },
    {
     "output_type": "stream",
     "name": "stderr",
     "text": [
      "100%|██████████| 65536/65536 [00:02<00:00, 22692.23it/s]\n"
     ]
    },
    {
     "output_type": "stream",
     "name": "stdout",
     "text": [
      "51.6754150390625\n",
      "done  18 65536 196608\n"
     ]
    },
    {
     "output_type": "stream",
     "name": "stderr",
     "text": [
      "100%|██████████| 65536/65536 [00:02<00:00, 23951.25it/s]\n"
     ]
    },
    {
     "output_type": "stream",
     "name": "stdout",
     "text": [
      "51.77032470703124\n",
      "done  19 65536 262144\n"
     ]
    },
    {
     "output_type": "stream",
     "name": "stderr",
     "text": [
      "100%|██████████| 65536/65536 [00:02<00:00, 22807.33it/s]\n"
     ]
    },
    {
     "output_type": "stream",
     "name": "stdout",
     "text": [
      "51.82011922200521\n",
      "done  20 65536 327680\n"
     ]
    },
    {
     "output_type": "stream",
     "name": "stderr",
     "text": [
      "100%|██████████| 65536/65536 [00:02<00:00, 23258.75it/s]\n"
     ]
    },
    {
     "output_type": "stream",
     "name": "stdout",
     "text": [
      "51.91105433872768\n",
      "done  21 65536 393216\n"
     ]
    },
    {
     "output_type": "stream",
     "name": "stderr",
     "text": [
      "100%|██████████| 65536/65536 [00:02<00:00, 22986.96it/s]\n"
     ]
    },
    {
     "output_type": "stream",
     "name": "stdout",
     "text": [
      "51.975059509277344\n",
      "done  22 65536 458752\n"
     ]
    },
    {
     "output_type": "stream",
     "name": "stderr",
     "text": [
      "100%|██████████| 65536/65536 [00:02<00:00, 23518.71it/s]\n"
     ]
    },
    {
     "output_type": "stream",
     "name": "stdout",
     "text": [
      "51.985677083333336\n",
      "done  23 65536 524288\n"
     ]
    },
    {
     "output_type": "stream",
     "name": "stderr",
     "text": [
      "100%|██████████| 65536/65536 [00:02<00:00, 23420.13it/s]\n"
     ]
    },
    {
     "output_type": "stream",
     "name": "stdout",
     "text": [
      "52.01461791992188\n",
      "done  24 65536 589824\n"
     ]
    },
    {
     "output_type": "stream",
     "name": "stderr",
     "text": [
      "100%|██████████| 65536/65536 [00:02<00:00, 22051.68it/s]\n"
     ]
    },
    {
     "output_type": "stream",
     "name": "stdout",
     "text": [
      "52.03455144708807\n",
      "done  25 65536 655360\n"
     ]
    },
    {
     "output_type": "stream",
     "name": "stderr",
     "text": [
      "100%|██████████| 65536/65536 [00:02<00:00, 23426.29it/s]\n"
     ]
    },
    {
     "output_type": "stream",
     "name": "stdout",
     "text": [
      "52.065277099609375\n",
      "done  26 65536 720896\n"
     ]
    },
    {
     "output_type": "stream",
     "name": "stderr",
     "text": [
      "100%|██████████| 65536/65536 [00:02<00:00, 23084.88it/s]\n"
     ]
    },
    {
     "output_type": "stream",
     "name": "stdout",
     "text": [
      "52.08658071664664\n",
      "done  27 65536 786432\n"
     ]
    },
    {
     "output_type": "stream",
     "name": "stderr",
     "text": [
      "100%|██████████| 65536/65536 [00:02<00:00, 23181.80it/s]\n"
     ]
    },
    {
     "output_type": "stream",
     "name": "stdout",
     "text": [
      "52.125440325055806\n",
      "done  28 65536 851968\n"
     ]
    },
    {
     "output_type": "stream",
     "name": "stderr",
     "text": [
      "100%|██████████| 65536/65536 [00:02<00:00, 23177.50it/s]\n"
     ]
    },
    {
     "output_type": "stream",
     "name": "stdout",
     "text": [
      "52.144775390625\n",
      "done  29 65536 917504\n"
     ]
    },
    {
     "output_type": "stream",
     "name": "stderr",
     "text": [
      "100%|██████████| 65536/65536 [00:02<00:00, 23359.41it/s]\n"
     ]
    },
    {
     "output_type": "stream",
     "name": "stdout",
     "text": [
      "52.1510124206543\n",
      "done  30 65536 983040\n"
     ]
    },
    {
     "output_type": "stream",
     "name": "stderr",
     "text": [
      "100%|██████████| 65536/65536 [00:02<00:00, 23281.37it/s]\n"
     ]
    },
    {
     "output_type": "stream",
     "name": "stdout",
     "text": [
      "52.15552834903493\n",
      "done  31 65536 1048576\n"
     ]
    },
    {
     "output_type": "display_data",
     "data": {
      "text/plain": [
       "<Figure size 432x288 with 1 Axes>"
      ],
      "image/svg+xml": "<?xml version=\"1.0\" encoding=\"utf-8\" standalone=\"no\"?>\r\n<!DOCTYPE svg PUBLIC \"-//W3C//DTD SVG 1.1//EN\"\r\n  \"http://www.w3.org/Graphics/SVG/1.1/DTD/svg11.dtd\">\r\n<svg height=\"252.746224pt\" version=\"1.1\" viewBox=\"0 0 362.98125 252.746224\" width=\"362.98125pt\" xmlns=\"http://www.w3.org/2000/svg\" xmlns:xlink=\"http://www.w3.org/1999/xlink\">\r\n <metadata>\r\n  <rdf:RDF xmlns:cc=\"http://creativecommons.org/ns#\" xmlns:dc=\"http://purl.org/dc/elements/1.1/\" xmlns:rdf=\"http://www.w3.org/1999/02/22-rdf-syntax-ns#\">\r\n   <cc:Work>\r\n    <dc:type rdf:resource=\"http://purl.org/dc/dcmitype/StillImage\"/>\r\n    <dc:date>2021-08-22T21:59:14.768754</dc:date>\r\n    <dc:format>image/svg+xml</dc:format>\r\n    <dc:creator>\r\n     <cc:Agent>\r\n      <dc:title>Matplotlib v3.4.3, https://matplotlib.org/</dc:title>\r\n     </cc:Agent>\r\n    </dc:creator>\r\n   </cc:Work>\r\n  </rdf:RDF>\r\n </metadata>\r\n <defs>\r\n  <style type=\"text/css\">*{stroke-linecap:butt;stroke-linejoin:round;}</style>\r\n </defs>\r\n <g id=\"figure_1\">\r\n  <g id=\"patch_1\">\r\n   <path d=\"M 0 252.746224 \r\nL 362.98125 252.746224 \r\nL 362.98125 0 \r\nL 0 0 \r\nz\r\n\" style=\"fill:none;\"/>\r\n  </g>\r\n  <g id=\"patch_2\">\r\n   <path d=\"M 72.770625 239.758125 \r\nL 290.210625 239.758125 \r\nL 290.210625 22.318125 \r\nL 72.770625 22.318125 \r\nz\r\n\" style=\"fill:#ffffff;\"/>\r\n  </g>\r\n  <g id=\"pane3d_1\">\r\n   <g id=\"patch_3\">\r\n    <path d=\"M 89.188845 186.144389 \r\nL 160.994634 125.955353 \r\nL 159.996465 39.152003 \r\nL 84.754398 94.060236 \r\n\" style=\"fill:#f2f2f2;opacity:0.5;stroke:#f2f2f2;stroke-linejoin:miter;\"/>\r\n   </g>\r\n  </g>\r\n  <g id=\"pane3d_2\">\r\n   <g id=\"patch_4\">\r\n    <path d=\"M 160.994634 125.955353 \r\nL 276.217305 159.446035 \r\nL 280.329196 69.652843 \r\nL 159.996465 39.152003 \r\n\" style=\"fill:#e6e6e6;opacity:0.5;stroke:#e6e6e6;stroke-linejoin:miter;\"/>\r\n   </g>\r\n  </g>\r\n  <g id=\"pane3d_3\">\r\n   <g id=\"patch_5\">\r\n    <path d=\"M 89.188845 186.144389 \r\nL 211.330504 226.035855 \r\nL 276.217305 159.446035 \r\nL 160.994634 125.955353 \r\n\" style=\"fill:#ececec;opacity:0.5;stroke:#ececec;stroke-linejoin:miter;\"/>\r\n   </g>\r\n  </g>\r\n  <g id=\"axis3d_1\">\r\n   <g id=\"line2d_1\">\r\n    <path d=\"M 89.188845 186.144389 \r\nL 211.330504 226.035855 \r\n\" style=\"fill:none;stroke:#000000;stroke-linecap:square;stroke-width:0.8;\"/>\r\n   </g>\r\n   <g id=\"Line3DCollection_1\">\r\n    <path d=\"M 96.586384 188.560426 \r\nL 168.002124 127.992154 \r\nL 167.300237 41.003296 \r\n\" style=\"fill:none;stroke:#b0b0b0;stroke-width:0.8;\"/>\r\n    <path d=\"M 119.433584 196.022321 \r\nL 189.620974 134.2759 \r\nL 189.844959 46.717726 \r\n\" style=\"fill:none;stroke:#b0b0b0;stroke-width:0.8;\"/>\r\n    <path d=\"M 142.746848 203.636433 \r\nL 211.644012 140.677128 \r\nL 212.829542 52.543648 \r\n\" style=\"fill:none;stroke:#b0b0b0;stroke-width:0.8;\"/>\r\n    <path d=\"M 166.540584 211.407467 \r\nL 234.082681 147.199163 \r\nL 236.266984 58.484356 \r\n\" style=\"fill:none;stroke:#b0b0b0;stroke-width:0.8;\"/>\r\n    <path d=\"M 190.8298 219.340325 \r\nL 256.948858 153.845458 \r\nL 260.170803 64.543277 \r\n\" style=\"fill:none;stroke:#b0b0b0;stroke-width:0.8;\"/>\r\n   </g>\r\n   <g id=\"xtick_1\">\r\n    <g id=\"line2d_2\">\r\n     <path d=\"M 97.208269 188.033001 \r\nL 95.339947 189.617539 \r\n\" style=\"fill:none;stroke:#000000;stroke-linecap:square;stroke-width:0.8;\"/>\r\n    </g>\r\n    <g id=\"text_1\">\r\n     <!-- 0 -->\r\n     <g transform=\"translate(85.869815 211.882658)scale(0.1 -0.1)\">\r\n      <defs>\r\n       <path d=\"M 2034 4250 \r\nQ 1547 4250 1301 3770 \r\nQ 1056 3291 1056 2328 \r\nQ 1056 1369 1301 889 \r\nQ 1547 409 2034 409 \r\nQ 2525 409 2770 889 \r\nQ 3016 1369 3016 2328 \r\nQ 3016 3291 2770 3770 \r\nQ 2525 4250 2034 4250 \r\nz\r\nM 2034 4750 \r\nQ 2819 4750 3233 4129 \r\nQ 3647 3509 3647 2328 \r\nQ 3647 1150 3233 529 \r\nQ 2819 -91 2034 -91 \r\nQ 1250 -91 836 529 \r\nQ 422 1150 422 2328 \r\nQ 422 3509 836 4129 \r\nQ 1250 4750 2034 4750 \r\nz\r\n\" id=\"DejaVuSans-30\" transform=\"scale(0.015625)\"/>\r\n      </defs>\r\n      <use xlink:href=\"#DejaVuSans-30\"/>\r\n     </g>\r\n    </g>\r\n   </g>\r\n   <g id=\"xtick_2\">\r\n    <g id=\"line2d_3\">\r\n     <path d=\"M 120.045274 195.484196 \r\nL 118.207555 197.100905 \r\n\" style=\"fill:none;stroke:#000000;stroke-linecap:square;stroke-width:0.8;\"/>\r\n    </g>\r\n    <g id=\"text_2\">\r\n     <!-- 2 -->\r\n     <g transform=\"translate(108.745665 219.53836)scale(0.1 -0.1)\">\r\n      <defs>\r\n       <path d=\"M 1228 531 \r\nL 3431 531 \r\nL 3431 0 \r\nL 469 0 \r\nL 469 531 \r\nQ 828 903 1448 1529 \r\nQ 2069 2156 2228 2338 \r\nQ 2531 2678 2651 2914 \r\nQ 2772 3150 2772 3378 \r\nQ 2772 3750 2511 3984 \r\nQ 2250 4219 1831 4219 \r\nQ 1534 4219 1204 4116 \r\nQ 875 4013 500 3803 \r\nL 500 4441 \r\nQ 881 4594 1212 4672 \r\nQ 1544 4750 1819 4750 \r\nQ 2544 4750 2975 4387 \r\nQ 3406 4025 3406 3419 \r\nQ 3406 3131 3298 2873 \r\nQ 3191 2616 2906 2266 \r\nQ 2828 2175 2409 1742 \r\nQ 1991 1309 1228 531 \r\nz\r\n\" id=\"DejaVuSans-32\" transform=\"scale(0.015625)\"/>\r\n      </defs>\r\n      <use xlink:href=\"#DejaVuSans-32\"/>\r\n     </g>\r\n    </g>\r\n   </g>\r\n   <g id=\"xtick_3\">\r\n    <g id=\"line2d_4\">\r\n     <path d=\"M 143.347795 203.087279 \r\nL 141.542323 204.737147 \r\n\" style=\"fill:none;stroke:#000000;stroke-linecap:square;stroke-width:0.8;\"/>\r\n    </g>\r\n    <g id=\"text_3\">\r\n     <!-- 4 -->\r\n     <g transform=\"translate(132.090332 227.350958)scale(0.1 -0.1)\">\r\n      <defs>\r\n       <path d=\"M 2419 4116 \r\nL 825 1625 \r\nL 2419 1625 \r\nL 2419 4116 \r\nz\r\nM 2253 4666 \r\nL 3047 4666 \r\nL 3047 1625 \r\nL 3713 1625 \r\nL 3713 1100 \r\nL 3047 1100 \r\nL 3047 0 \r\nL 2419 0 \r\nL 2419 1100 \r\nL 313 1100 \r\nL 313 1709 \r\nL 2253 4666 \r\nz\r\n\" id=\"DejaVuSans-34\" transform=\"scale(0.015625)\"/>\r\n      </defs>\r\n      <use xlink:href=\"#DejaVuSans-34\"/>\r\n     </g>\r\n    </g>\r\n   </g>\r\n   <g id=\"xtick_4\">\r\n    <g id=\"line2d_5\">\r\n     <path d=\"M 167.130214 210.846941 \r\nL 165.358716 212.531 \r\n\" style=\"fill:none;stroke:#000000;stroke-linecap:square;stroke-width:0.8;\"/>\r\n    </g>\r\n    <g id=\"text_4\">\r\n     <!-- 6 -->\r\n     <g transform=\"translate(155.918377 235.325325)scale(0.1 -0.1)\">\r\n      <defs>\r\n       <path d=\"M 2113 2584 \r\nQ 1688 2584 1439 2293 \r\nQ 1191 2003 1191 1497 \r\nQ 1191 994 1439 701 \r\nQ 1688 409 2113 409 \r\nQ 2538 409 2786 701 \r\nQ 3034 994 3034 1497 \r\nQ 3034 2003 2786 2293 \r\nQ 2538 2584 2113 2584 \r\nz\r\nM 3366 4563 \r\nL 3366 3988 \r\nQ 3128 4100 2886 4159 \r\nQ 2644 4219 2406 4219 \r\nQ 1781 4219 1451 3797 \r\nQ 1122 3375 1075 2522 \r\nQ 1259 2794 1537 2939 \r\nQ 1816 3084 2150 3084 \r\nQ 2853 3084 3261 2657 \r\nQ 3669 2231 3669 1497 \r\nQ 3669 778 3244 343 \r\nQ 2819 -91 2113 -91 \r\nQ 1303 -91 875 529 \r\nQ 447 1150 447 2328 \r\nQ 447 3434 972 4092 \r\nQ 1497 4750 2381 4750 \r\nQ 2619 4750 2861 4703 \r\nQ 3103 4656 3366 4563 \r\nz\r\n\" id=\"DejaVuSans-36\" transform=\"scale(0.015625)\"/>\r\n      </defs>\r\n      <use xlink:href=\"#DejaVuSans-36\"/>\r\n     </g>\r\n    </g>\r\n   </g>\r\n   <g id=\"xtick_5\">\r\n    <g id=\"line2d_6\">\r\n     <path d=\"M 191.407509 218.76807 \r\nL 189.671799 220.487394 \r\n\" style=\"fill:none;stroke:#000000;stroke-linecap:square;stroke-width:0.8;\"/>\r\n    </g>\r\n    <g id=\"text_5\">\r\n     <!-- 8 -->\r\n     <g transform=\"translate(180.244969 243.466536)scale(0.1 -0.1)\">\r\n      <defs>\r\n       <path d=\"M 2034 2216 \r\nQ 1584 2216 1326 1975 \r\nQ 1069 1734 1069 1313 \r\nQ 1069 891 1326 650 \r\nQ 1584 409 2034 409 \r\nQ 2484 409 2743 651 \r\nQ 3003 894 3003 1313 \r\nQ 3003 1734 2745 1975 \r\nQ 2488 2216 2034 2216 \r\nz\r\nM 1403 2484 \r\nQ 997 2584 770 2862 \r\nQ 544 3141 544 3541 \r\nQ 544 4100 942 4425 \r\nQ 1341 4750 2034 4750 \r\nQ 2731 4750 3128 4425 \r\nQ 3525 4100 3525 3541 \r\nQ 3525 3141 3298 2862 \r\nQ 3072 2584 2669 2484 \r\nQ 3125 2378 3379 2068 \r\nQ 3634 1759 3634 1313 \r\nQ 3634 634 3220 271 \r\nQ 2806 -91 2034 -91 \r\nQ 1263 -91 848 271 \r\nQ 434 634 434 1313 \r\nQ 434 1759 690 2068 \r\nQ 947 2378 1403 2484 \r\nz\r\nM 1172 3481 \r\nQ 1172 3119 1398 2916 \r\nQ 1625 2713 2034 2713 \r\nQ 2441 2713 2670 2916 \r\nQ 2900 3119 2900 3481 \r\nQ 2900 3844 2670 4047 \r\nQ 2441 4250 2034 4250 \r\nQ 1625 4250 1398 4047 \r\nQ 1172 3844 1172 3481 \r\nz\r\n\" id=\"DejaVuSans-38\" transform=\"scale(0.015625)\"/>\r\n      </defs>\r\n      <use xlink:href=\"#DejaVuSans-38\"/>\r\n     </g>\r\n    </g>\r\n   </g>\r\n  </g>\r\n  <g id=\"axis3d_2\">\r\n   <g id=\"line2d_7\">\r\n    <path d=\"M 276.217305 159.446035 \r\nL 211.330504 226.035855 \r\n\" style=\"fill:none;stroke:#000000;stroke-linecap:square;stroke-width:0.8;\"/>\r\n   </g>\r\n   <g id=\"Line3DCollection_2\">\r\n    <path d=\"M 89.957573 90.263196 \r\nL 94.13687 181.996856 \r\nL 215.820168 221.428355 \r\n\" style=\"fill:none;stroke:#b0b0b0;stroke-width:0.8;\"/>\r\n    <path d=\"M 107.340837 77.577681 \r\nL 110.686535 168.124599 \r\nL 230.816885 206.038034 \r\n\" style=\"fill:none;stroke:#b0b0b0;stroke-width:0.8;\"/>\r\n    <path d=\"M 124.049162 65.384707 \r\nL 126.620996 154.768018 \r\nL 245.227289 191.249414 \r\n\" style=\"fill:none;stroke:#b0b0b0;stroke-width:0.8;\"/>\r\n    <path d=\"M 140.121108 53.656133 \r\nL 141.973931 141.898883 \r\nL 259.085106 177.027886 \r\n\" style=\"fill:none;stroke:#b0b0b0;stroke-width:0.8;\"/>\r\n    <path d=\"M 155.592352 42.365924 \r\nL 156.776605 129.490989 \r\nL 272.421521 163.341442 \r\n\" style=\"fill:none;stroke:#b0b0b0;stroke-width:0.8;\"/>\r\n   </g>\r\n   <g id=\"xtick_6\">\r\n    <g id=\"line2d_8\">\r\n     <path d=\"M 214.79474 221.096064 \r\nL 217.873678 222.093795 \r\n\" style=\"fill:none;stroke:#000000;stroke-linecap:square;stroke-width:0.8;\"/>\r\n    </g>\r\n    <g id=\"text_6\">\r\n     <!-- 0 -->\r\n     <g transform=\"translate(225.521279 242.451884)scale(0.1 -0.1)\">\r\n      <use xlink:href=\"#DejaVuSans-30\"/>\r\n     </g>\r\n    </g>\r\n   </g>\r\n   <g id=\"xtick_7\">\r\n    <g id=\"line2d_9\">\r\n     <path d=\"M 229.805565 205.718859 \r\nL 232.842088 206.677193 \r\n\" style=\"fill:none;stroke:#000000;stroke-linecap:square;stroke-width:0.8;\"/>\r\n    </g>\r\n    <g id=\"text_7\">\r\n     <!-- 5 -->\r\n     <g transform=\"translate(240.271737 226.782651)scale(0.1 -0.1)\">\r\n      <defs>\r\n       <path d=\"M 691 4666 \r\nL 3169 4666 \r\nL 3169 4134 \r\nL 1269 4134 \r\nL 1269 2991 \r\nQ 1406 3038 1543 3061 \r\nQ 1681 3084 1819 3084 \r\nQ 2600 3084 3056 2656 \r\nQ 3513 2228 3513 1497 \r\nQ 3513 744 3044 326 \r\nQ 2575 -91 1722 -91 \r\nQ 1428 -91 1123 -41 \r\nQ 819 9 494 109 \r\nL 494 744 \r\nQ 775 591 1075 516 \r\nQ 1375 441 1709 441 \r\nQ 2250 441 2565 725 \r\nQ 2881 1009 2881 1497 \r\nQ 2881 1984 2565 2268 \r\nQ 2250 2553 1709 2553 \r\nQ 1456 2553 1204 2497 \r\nQ 953 2441 691 2322 \r\nL 691 4666 \r\nz\r\n\" id=\"DejaVuSans-35\" transform=\"scale(0.015625)\"/>\r\n      </defs>\r\n      <use xlink:href=\"#DejaVuSans-35\"/>\r\n     </g>\r\n    </g>\r\n   </g>\r\n   <g id=\"xtick_8\">\r\n    <g id=\"line2d_10\">\r\n     <path d=\"M 244.22977 190.942593 \r\nL 247.224807 191.863819 \r\n\" style=\"fill:none;stroke:#000000;stroke-linecap:square;stroke-width:0.8;\"/>\r\n    </g>\r\n    <g id=\"text_8\">\r\n     <!-- 10 -->\r\n     <g transform=\"translate(251.263855 211.726453)scale(0.1 -0.1)\">\r\n      <defs>\r\n       <path d=\"M 794 531 \r\nL 1825 531 \r\nL 1825 4091 \r\nL 703 3866 \r\nL 703 4441 \r\nL 1819 4666 \r\nL 2450 4666 \r\nL 2450 531 \r\nL 3481 531 \r\nL 3481 0 \r\nL 794 0 \r\nL 794 531 \r\nz\r\n\" id=\"DejaVuSans-31\" transform=\"scale(0.015625)\"/>\r\n      </defs>\r\n      <use xlink:href=\"#DejaVuSans-31\"/>\r\n      <use x=\"63.623047\" xlink:href=\"#DejaVuSans-30\"/>\r\n     </g>\r\n    </g>\r\n   </g>\r\n   <g id=\"xtick_9\">\r\n    <g id=\"line2d_11\">\r\n     <path d=\"M 258.101082 176.732715 \r\nL 261.055552 177.618946 \r\n\" style=\"fill:none;stroke:#000000;stroke-linecap:square;stroke-width:0.8;\"/>\r\n    </g>\r\n    <g id=\"text_9\">\r\n     <!-- 15 -->\r\n     <g transform=\"translate(264.893349 197.248007)scale(0.1 -0.1)\">\r\n      <use xlink:href=\"#DejaVuSans-31\"/>\r\n      <use x=\"63.623047\" xlink:href=\"#DejaVuSans-35\"/>\r\n     </g>\r\n    </g>\r\n   </g>\r\n   <g id=\"xtick_10\">\r\n    <g id=\"line2d_12\">\r\n     <path d=\"M 271.450693 163.057271 \r\nL 274.3655 163.910465 \r\n\" style=\"fill:none;stroke:#000000;stroke-linecap:square;stroke-width:0.8;\"/>\r\n    </g>\r\n    <g id=\"text_10\">\r\n     <!-- 20 -->\r\n     <g transform=\"translate(278.009685 183.314681)scale(0.1 -0.1)\">\r\n      <use xlink:href=\"#DejaVuSans-32\"/>\r\n      <use x=\"63.623047\" xlink:href=\"#DejaVuSans-30\"/>\r\n     </g>\r\n    </g>\r\n   </g>\r\n  </g>\r\n  <g id=\"axis3d_3\">\r\n   <g id=\"line2d_13\">\r\n    <path d=\"M 276.217305 159.446035 \r\nL 280.329196 69.652843 \r\n\" style=\"fill:none;stroke:#000000;stroke-linecap:square;stroke-width:0.8;\"/>\r\n   </g>\r\n   <g id=\"Line3DCollection_3\">\r\n    <path d=\"M 276.610736 150.854519 \r\nL 160.898945 117.63404 \r\nL 88.765198 177.347097 \r\n\" style=\"fill:none;stroke:#b0b0b0;stroke-width:0.8;\"/>\r\n    <path d=\"M 277.196922 138.053714 \r\nL 160.756447 105.242058 \r\nL 88.133739 164.234436 \r\n\" style=\"fill:none;stroke:#b0b0b0;stroke-width:0.8;\"/>\r\n    <path d=\"M 277.79061 125.089066 \r\nL 160.612213 92.69907 \r\nL 87.493888 150.947516 \r\n\" style=\"fill:none;stroke:#b0b0b0;stroke-width:0.8;\"/>\r\n    <path d=\"M 278.391947 111.957409 \r\nL 160.46621 80.002299 \r\nL 86.845477 137.48284 \r\n\" style=\"fill:none;stroke:#b0b0b0;stroke-width:0.8;\"/>\r\n    <path d=\"M 279.00108 98.655495 \r\nL 160.318407 67.148899 \r\nL 86.188333 123.836817 \r\n\" style=\"fill:none;stroke:#b0b0b0;stroke-width:0.8;\"/>\r\n    <path d=\"M 279.618163 85.179991 \r\nL 160.168768 54.135955 \r\nL 85.522278 110.005759 \r\n\" style=\"fill:none;stroke:#b0b0b0;stroke-width:0.8;\"/>\r\n    <path d=\"M 280.243351 71.527477 \r\nL 160.017261 40.960476 \r\nL 84.84713 95.985876 \r\n\" style=\"fill:none;stroke:#b0b0b0;stroke-width:0.8;\"/>\r\n   </g>\r\n   <g id=\"xtick_11\">\r\n    <g id=\"line2d_14\">\r\n     <path d=\"M 275.6394 150.575652 \r\nL 278.555726 151.41292 \r\n\" style=\"fill:none;stroke:#000000;stroke-linecap:square;stroke-width:0.8;\"/>\r\n    </g>\r\n    <g id=\"text_11\">\r\n     <!-- −0.2 -->\r\n     <g transform=\"translate(282.782159 155.870228)scale(0.1 -0.1)\">\r\n      <defs>\r\n       <path d=\"M 678 2272 \r\nL 4684 2272 \r\nL 4684 1741 \r\nL 678 1741 \r\nL 678 2272 \r\nz\r\n\" id=\"DejaVuSans-2212\" transform=\"scale(0.015625)\"/>\r\n       <path d=\"M 684 794 \r\nL 1344 794 \r\nL 1344 0 \r\nL 684 0 \r\nL 684 794 \r\nz\r\n\" id=\"DejaVuSans-2e\" transform=\"scale(0.015625)\"/>\r\n      </defs>\r\n      <use xlink:href=\"#DejaVuSans-2212\"/>\r\n      <use x=\"83.789062\" xlink:href=\"#DejaVuSans-30\"/>\r\n      <use x=\"147.412109\" xlink:href=\"#DejaVuSans-2e\"/>\r\n      <use x=\"179.199219\" xlink:href=\"#DejaVuSans-32\"/>\r\n     </g>\r\n    </g>\r\n   </g>\r\n   <g id=\"xtick_12\">\r\n    <g id=\"line2d_15\">\r\n     <path d=\"M 276.219177 137.778197 \r\nL 279.15476 138.605412 \r\n\" style=\"fill:none;stroke:#000000;stroke-linecap:square;stroke-width:0.8;\"/>\r\n    </g>\r\n    <g id=\"text_12\">\r\n     <!-- 0.0 -->\r\n     <g transform=\"translate(287.672037 143.100498)scale(0.1 -0.1)\">\r\n      <use xlink:href=\"#DejaVuSans-30\"/>\r\n      <use x=\"63.623047\" xlink:href=\"#DejaVuSans-2e\"/>\r\n      <use x=\"95.410156\" xlink:href=\"#DejaVuSans-30\"/>\r\n     </g>\r\n    </g>\r\n   </g>\r\n   <g id=\"xtick_13\">\r\n    <g id=\"line2d_16\">\r\n     <path d=\"M 276.806372 124.817007 \r\nL 279.761468 125.633843 \r\n\" style=\"fill:none;stroke:#000000;stroke-linecap:square;stroke-width:0.8;\"/>\r\n    </g>\r\n    <g id=\"text_13\">\r\n     <!-- 0.2 -->\r\n     <g transform=\"translate(288.380998 130.167933)scale(0.1 -0.1)\">\r\n      <use xlink:href=\"#DejaVuSans-30\"/>\r\n      <use x=\"63.623047\" xlink:href=\"#DejaVuSans-2e\"/>\r\n      <use x=\"95.410156\" xlink:href=\"#DejaVuSans-32\"/>\r\n     </g>\r\n    </g>\r\n   </g>\r\n   <g id=\"xtick_14\">\r\n    <g id=\"line2d_17\">\r\n     <path d=\"M 277.401129 111.688921 \r\nL 280.375997 112.49504 \r\n\" style=\"fill:none;stroke:#000000;stroke-linecap:square;stroke-width:0.8;\"/>\r\n    </g>\r\n    <g id=\"text_14\">\r\n     <!-- 0.4 -->\r\n     <g transform=\"translate(289.099056 117.069397)scale(0.1 -0.1)\">\r\n      <use xlink:href=\"#DejaVuSans-30\"/>\r\n      <use x=\"63.623047\" xlink:href=\"#DejaVuSans-2e\"/>\r\n      <use x=\"95.410156\" xlink:href=\"#DejaVuSans-34\"/>\r\n     </g>\r\n    </g>\r\n   </g>\r\n   <g id=\"xtick_15\">\r\n    <g id=\"line2d_18\">\r\n     <path d=\"M 278.003593 98.390693 \r\nL 280.9985 99.185749 \r\n\" style=\"fill:none;stroke:#000000;stroke-linecap:square;stroke-width:0.8;\"/>\r\n    </g>\r\n    <g id=\"text_15\">\r\n     <!-- 0.6 -->\r\n     <g transform=\"translate(289.82639 103.801676)scale(0.1 -0.1)\">\r\n      <use xlink:href=\"#DejaVuSans-30\"/>\r\n      <use x=\"63.623047\" xlink:href=\"#DejaVuSans-2e\"/>\r\n      <use x=\"95.410156\" xlink:href=\"#DejaVuSans-36\"/>\r\n     </g>\r\n    </g>\r\n   </g>\r\n   <g id=\"xtick_16\">\r\n    <g id=\"line2d_19\">\r\n     <path d=\"M 278.613916 84.918995 \r\nL 281.629134 85.702628 \r\n\" style=\"fill:none;stroke:#000000;stroke-linecap:square;stroke-width:0.8;\"/>\r\n    </g>\r\n    <g id=\"text_16\">\r\n     <!-- 0.8 -->\r\n     <g transform=\"translate(290.56318 90.361468)scale(0.1 -0.1)\">\r\n      <use xlink:href=\"#DejaVuSans-30\"/>\r\n      <use x=\"63.623047\" xlink:href=\"#DejaVuSans-2e\"/>\r\n      <use x=\"95.410156\" xlink:href=\"#DejaVuSans-38\"/>\r\n     </g>\r\n    </g>\r\n   </g>\r\n   <g id=\"xtick_17\">\r\n    <g id=\"line2d_20\">\r\n     <path d=\"M 279.232253 71.270409 \r\nL 282.268058 72.042251 \r\n\" style=\"fill:none;stroke:#000000;stroke-linecap:square;stroke-width:0.8;\"/>\r\n    </g>\r\n    <g id=\"text_17\">\r\n     <!-- 1.0 -->\r\n     <g transform=\"translate(291.30961 76.74539)scale(0.1 -0.1)\">\r\n      <use xlink:href=\"#DejaVuSans-31\"/>\r\n      <use x=\"63.623047\" xlink:href=\"#DejaVuSans-2e\"/>\r\n      <use x=\"95.410156\" xlink:href=\"#DejaVuSans-30\"/>\r\n     </g>\r\n    </g>\r\n   </g>\r\n  </g>\r\n  <g id=\"axes_1\">\r\n   <g id=\"Poly3DCollection_1\">\r\n    <path clip-path=\"url(#p956a828ecb)\" d=\"M 148.4225 105.970594 \r\nL 159.537329 107.906159 \r\nL 162.489489 99.033846 \r\nL 151.416863 100.33974 \r\nz\r\n\" style=\"fill:#d9dce1;\"/>\r\n    <path clip-path=\"url(#p956a828ecb)\" d=\"M 151.416863 100.33974 \r\nL 162.489489 99.033846 \r\nL 165.4321 89.537278 \r\nL 154.163986 78.592851 \r\nz\r\n\" style=\"fill:#f2cab5;\"/>\r\n    <path clip-path=\"url(#p956a828ecb)\" d=\"M 154.163986 78.592851 \r\nL 165.4321 89.537278 \r\nL 168.321666 73.411108 \r\nL 157.165149 73.697388 \r\nz\r\n\" style=\"fill:#f59c7d;\"/>\r\n    <path clip-path=\"url(#p956a828ecb)\" d=\"M 145.270436 104.017889 \r\nL 156.518679 112.17683 \r\nL 159.537329 107.906159 \r\nL 148.4225 105.970594 \r\nz\r\n\" style=\"fill:#d3dbe7;\"/>\r\n    <path clip-path=\"url(#p956a828ecb)\" d=\"M 157.165149 73.697388 \r\nL 168.321666 73.411108 \r\nL 171.260709 62.444926 \r\nL 160.009908 56.62736 \r\nz\r\n\" style=\"fill:#de614d;\"/>\r\n    <path clip-path=\"url(#p956a828ecb)\" d=\"M 160.009908 56.62736 \r\nL 171.260709 62.444926 \r\nL 174.19587 50.224562 \r\nL 162.988852 50.810734 \r\nz\r\n\" style=\"fill:#b50927;\"/>\r\n    <path clip-path=\"url(#p956a828ecb)\" d=\"M 162.489489 99.033846 \r\nL 173.769334 107.752675 \r\nL 176.691497 92.0805 \r\nL 165.4321 89.537278 \r\nz\r\n\" style=\"fill:#eed0c0;\"/>\r\n    <path clip-path=\"url(#p956a828ecb)\" d=\"M 159.537329 107.906159 \r\nL 170.798266 113.668018 \r\nL 173.769334 107.752675 \r\nL 162.489489 99.033846 \r\nz\r\n\" style=\"fill:#d7dce3;\"/>\r\n    <path clip-path=\"url(#p956a828ecb)\" d=\"M 170.798266 113.668018 \r\nL 182.153442 131.53056 \r\nL 185.096424 117.999549 \r\nL 173.769334 107.752675 \r\nz\r\n\" style=\"fill:#b9d0f9;\"/>\r\n    <path clip-path=\"url(#p956a828ecb)\" d=\"M 165.4321 89.537278 \r\nL 176.691497 92.0805 \r\nL 179.628713 76.114296 \r\nL 168.321666 73.411108 \r\nz\r\n\" style=\"fill:#f5a081;\"/>\r\n    <path clip-path=\"url(#p956a828ecb)\" d=\"M 156.518679 112.17683 \r\nL 167.795931 117.292941 \r\nL 170.798266 113.668018 \r\nL 159.537329 107.906159 \r\nz\r\n\" style=\"fill:#cbd8ee;\"/>\r\n    <path clip-path=\"url(#p956a828ecb)\" d=\"M 173.769334 107.752675 \r\nL 185.096424 117.999549 \r\nL 188.055019 101.025763 \r\nL 176.691497 92.0805 \r\nz\r\n\" style=\"fill:#e1dad6;\"/>\r\n    <path clip-path=\"url(#p956a828ecb)\" d=\"M 168.321666 73.411108 \r\nL 179.628713 76.114296 \r\nL 182.590322 69.329621 \r\nL 171.260709 62.444926 \r\nz\r\n\" style=\"fill:#e0654f;\"/>\r\n    <path clip-path=\"url(#p956a828ecb)\" d=\"M 142.031414 99.629069 \r\nL 153.409596 111.646012 \r\nL 156.518679 112.17683 \r\nL 145.270436 104.017889 \r\nz\r\n\" style=\"fill:#dddcdc;\"/>\r\n    <path clip-path=\"url(#p956a828ecb)\" d=\"M 171.260709 62.444926 \r\nL 182.590322 69.329621 \r\nL 185.547847 51.847228 \r\nL 174.19587 50.224562 \r\nz\r\n\" style=\"fill:#b8122a;\"/>\r\n    <path clip-path=\"url(#p956a828ecb)\" d=\"M 167.795931 117.292941 \r\nL 179.170281 125.726448 \r\nL 182.153442 131.53056 \r\nL 170.798266 113.668018 \r\nz\r\n\" style=\"fill:#b1cbfc;\"/>\r\n    <path clip-path=\"url(#p956a828ecb)\" d=\"M 182.153442 131.53056 \r\nL 193.596808 117.819944 \r\nL 196.474281 125.003255 \r\nL 185.096424 117.999549 \r\nz\r\n\" style=\"fill:#afcafc;\"/>\r\n    <path clip-path=\"url(#p956a828ecb)\" d=\"M 153.409596 111.646012 \r\nL 164.79121 122.716135 \r\nL 167.795931 117.292941 \r\nL 156.518679 112.17683 \r\nz\r\n\" style=\"fill:#c9d7f0;\"/>\r\n    <path clip-path=\"url(#p956a828ecb)\" d=\"M 176.691497 92.0805 \r\nL 188.055019 101.025763 \r\nL 191.043893 80.556794 \r\nL 179.628713 76.114296 \r\nz\r\n\" style=\"fill:#f7a889;\"/>\r\n    <path clip-path=\"url(#p956a828ecb)\" d=\"M 139.300395 120.282166 \r\nL 150.333896 115.091499 \r\nL 153.409596 111.646012 \r\nL 142.031414 99.629069 \r\nz\r\n\" style=\"fill:#d6dce4;\"/>\r\n    <path clip-path=\"url(#p956a828ecb)\" d=\"M 185.096424 117.999549 \r\nL 196.474281 125.003255 \r\nL 199.598477 91.725962 \r\nL 188.055019 101.025763 \r\nz\r\n\" style=\"fill:#dddcdc;\"/>\r\n    <path clip-path=\"url(#p956a828ecb)\" d=\"M 179.170281 125.726448 \r\nL 190.589632 136.786782 \r\nL 193.596808 117.819944 \r\nL 182.153442 131.53056 \r\nz\r\n\" style=\"fill:#a5c3fe;\"/>\r\n    <path clip-path=\"url(#p956a828ecb)\" d=\"M 164.79121 122.716135 \r\nL 176.191185 132.562234 \r\nL 179.170281 125.726448 \r\nL 167.795931 117.292941 \r\nz\r\n\" style=\"fill:#b1cbfc;\"/>\r\n    <path clip-path=\"url(#p956a828ecb)\" d=\"M 179.628713 76.114296 \r\nL 191.043893 80.556794 \r\nL 194.054599 61.589697 \r\nL 182.590322 69.329621 \r\nz\r\n\" style=\"fill:#dc5d4a;\"/>\r\n    <path clip-path=\"url(#p956a828ecb)\" d=\"M 182.590322 69.329621 \r\nL 194.054599 61.589697 \r\nL 196.99174 58.988489 \r\nL 185.547847 51.847228 \r\nz\r\n\" style=\"fill:#b40426;\"/>\r\n    <path clip-path=\"url(#p956a828ecb)\" d=\"M 135.72301 103.76512 \r\nL 147.238714 118.621672 \r\nL 150.333896 115.091499 \r\nL 139.300395 120.282166 \r\nz\r\n\" style=\"fill:#d5dbe5;\"/>\r\n    <path clip-path=\"url(#p956a828ecb)\" d=\"M 150.333896 115.091499 \r\nL 161.673612 119.305508 \r\nL 164.79121 122.716135 \r\nL 153.409596 111.646012 \r\nz\r\n\" style=\"fill:#cdd9ec;\"/>\r\n    <path clip-path=\"url(#p956a828ecb)\" d=\"M 176.191185 132.562234 \r\nL 187.637496 136.880182 \r\nL 190.589632 136.786782 \r\nL 179.170281 125.726448 \r\nz\r\n\" style=\"fill:#9abbff;\"/>\r\n    <path clip-path=\"url(#p956a828ecb)\" d=\"M 193.596808 117.819944 \r\nL 205.099473 128.201358 \r\nL 207.946989 129.762194 \r\nL 196.474281 125.003255 \r\nz\r\n\" style=\"fill:#b5cdfa;\"/>\r\n    <path clip-path=\"url(#p956a828ecb)\" d=\"M 196.474281 125.003255 \r\nL 207.946989 129.762194 \r\nL 211.147312 101.530184 \r\nL 199.598477 91.725962 \r\nz\r\n\" style=\"fill:#dedcdb;\"/>\r\n    <path clip-path=\"url(#p956a828ecb)\" d=\"M 188.055019 101.025763 \r\nL 199.598477 91.725962 \r\nL 202.594675 80.520035 \r\nL 191.043893 80.556794 \r\nz\r\n\" style=\"fill:#f59d7e;\"/>\r\n    <path clip-path=\"url(#p956a828ecb)\" d=\"M 191.043893 80.556794 \r\nL 202.594675 80.520035 \r\nL 205.442656 84.216471 \r\nL 194.054599 61.589697 \r\nz\r\n\" style=\"fill:#e16751;\"/>\r\n    <path clip-path=\"url(#p956a828ecb)\" d=\"M 161.673612 119.305508 \r\nL 173.118203 124.315151 \r\nL 176.191185 132.562234 \r\nL 164.79121 122.716135 \r\nz\r\n\" style=\"fill:#bbd1f8;\"/>\r\n    <path clip-path=\"url(#p956a828ecb)\" d=\"M 194.054599 61.589697 \r\nL 205.442656 84.216471 \r\nL 208.598223 57.750776 \r\nL 196.99174 58.988489 \r\nz\r\n\" style=\"fill:#be242e;\"/>\r\n    <path clip-path=\"url(#p956a828ecb)\" d=\"M 190.589632 136.786782 \r\nL 202.113673 138.619978 \r\nL 205.099473 128.201358 \r\nL 193.596808 117.819944 \r\nz\r\n\" style=\"fill:#a9c6fd;\"/>\r\n    <path clip-path=\"url(#p956a828ecb)\" d=\"M 187.637496 136.880182 \r\nL 199.187203 140.936654 \r\nL 202.113673 138.619978 \r\nL 190.589632 136.786782 \r\nz\r\n\" style=\"fill:#90b2fe;\"/>\r\n    <path clip-path=\"url(#p956a828ecb)\" d=\"M 147.238714 118.621672 \r\nL 158.602709 122.881129 \r\nL 161.673612 119.305508 \r\nL 150.333896 115.091499 \r\nz\r\n\" style=\"fill:#cfdaea;\"/>\r\n    <path clip-path=\"url(#p956a828ecb)\" d=\"M 205.099473 128.201358 \r\nL 216.530812 145.140743 \r\nL 219.87201 113.9104 \r\nL 207.946989 129.762194 \r\nz\r\n\" style=\"fill:#b1cbfc;\"/>\r\n    <path clip-path=\"url(#p956a828ecb)\" d=\"M 132.672746 111.489124 \r\nL 144.049612 118.462021 \r\nL 147.238714 118.621672 \r\nL 135.72301 103.76512 \r\nz\r\n\" style=\"fill:#e2dad5;\"/>\r\n    <path clip-path=\"url(#p956a828ecb)\" d=\"M 173.118203 124.315151 \r\nL 184.655802 133.204448 \r\nL 187.637496 136.880182 \r\nL 176.191185 132.562234 \r\nz\r\n\" style=\"fill:#abc8fd;\"/>\r\n    <path clip-path=\"url(#p956a828ecb)\" d=\"M 202.113673 138.619978 \r\nL 213.839154 135.597945 \r\nL 216.530812 145.140743 \r\nL 205.099473 128.201358 \r\nz\r\n\" style=\"fill:#9bbcff;\"/>\r\n    <path clip-path=\"url(#p956a828ecb)\" d=\"M 228.08506 154.454147 \r\nL 239.735896 161.950147 \r\nL 242.754389 150.738642 \r\nL 231.135787 141.289042 \r\nz\r\n\" style=\"fill:#6788ee;\"/>\r\n    <path clip-path=\"url(#p956a828ecb)\" d=\"M 216.530812 145.140743 \r\nL 228.08506 154.454147 \r\nL 231.135787 141.289042 \r\nL 219.87201 113.9104 \r\nz\r\n\" style=\"fill:#96b7ff;\"/>\r\n    <path clip-path=\"url(#p956a828ecb)\" d=\"M 213.839154 135.597945 \r\nL 225.237622 158.008292 \r\nL 228.08506 154.454147 \r\nL 216.530812 145.140743 \r\nz\r\n\" style=\"fill:#7597f6;\"/>\r\n    <path clip-path=\"url(#p956a828ecb)\" d=\"M 205.442656 84.216471 \r\nL 217.260706 72.778454 \r\nL 220.232875 64.312097 \r\nL 208.598223 57.750776 \r\nz\r\n\" style=\"fill:#c32e31;\"/>\r\n    <path clip-path=\"url(#p956a828ecb)\" d=\"M 202.594675 80.520035 \r\nL 214.273239 81.943237 \r\nL 217.260706 72.778454 \r\nL 205.442656 84.216471 \r\nz\r\n\" style=\"fill:#e26952;\"/>\r\n    <path clip-path=\"url(#p956a828ecb)\" d=\"M 158.602709 122.881129 \r\nL 170.131996 136.289787 \r\nL 173.118203 124.315151 \r\nL 161.673612 119.305508 \r\nz\r\n\" style=\"fill:#c3d5f4;\"/>\r\n    <path clip-path=\"url(#p956a828ecb)\" d=\"M 207.946989 129.762194 \r\nL 219.87201 113.9104 \r\nL 222.828417 106.375318 \r\nL 211.147312 101.530184 \r\nz\r\n\" style=\"fill:#e6d7cf;\"/>\r\n    <path clip-path=\"url(#p956a828ecb)\" d=\"M 199.598477 91.725962 \r\nL 211.147312 101.530184 \r\nL 214.273239 81.943237 \r\nL 202.594675 80.520035 \r\nz\r\n\" style=\"fill:#f18f71;\"/>\r\n    <path clip-path=\"url(#p956a828ecb)\" d=\"M 225.237622 158.008292 \r\nL 236.923863 165.388208 \r\nL 239.735896 161.950147 \r\nL 228.08506 154.454147 \r\nz\r\n\" style=\"fill:#516ddb;\"/>\r\n    <path clip-path=\"url(#p956a828ecb)\" d=\"M 199.187203 140.936654 \r\nL 210.662999 158.784644 \r\nL 213.839154 135.597945 \r\nL 202.113673 138.619978 \r\nz\r\n\" style=\"fill:#88abfd;\"/>\r\n    <path clip-path=\"url(#p956a828ecb)\" d=\"M 129.582988 118.050252 \r\nL 140.943838 123.760586 \r\nL 144.049612 118.462021 \r\nL 132.672746 111.489124 \r\nz\r\n\" style=\"fill:#dadce0;\"/>\r\n    <path clip-path=\"url(#p956a828ecb)\" d=\"M 184.655802 133.204448 \r\nL 196.229005 144.696925 \r\nL 199.187203 140.936654 \r\nL 187.637496 136.880182 \r\nz\r\n\" style=\"fill:#9abbff;\"/>\r\n    <path clip-path=\"url(#p956a828ecb)\" d=\"M 144.049612 118.462021 \r\nL 155.393271 118.164147 \r\nL 158.602709 122.881129 \r\nL 147.238714 118.621672 \r\nz\r\n\" style=\"fill:#d7dce3;\"/>\r\n    <path clip-path=\"url(#p956a828ecb)\" d=\"M 196.229005 144.696925 \r\nL 207.759777 161.683793 \r\nL 210.662999 158.784644 \r\nL 199.187203 140.936654 \r\nz\r\n\" style=\"fill:#6f92f3;\"/>\r\n    <path clip-path=\"url(#p956a828ecb)\" d=\"M 239.735896 161.950147 \r\nL 251.4557 169.448562 \r\nL 254.451494 159.250125 \r\nL 242.754389 150.738642 \r\nz\r\n\" style=\"fill:#536edd;\"/>\r\n    <path clip-path=\"url(#p956a828ecb)\" d=\"M 210.662999 158.784644 \r\nL 222.475587 156.055793 \r\nL 225.237622 158.008292 \r\nL 213.839154 135.597945 \r\nz\r\n\" style=\"fill:#7093f3;\"/>\r\n    <path clip-path=\"url(#p956a828ecb)\" d=\"M 231.135787 141.289042 \r\nL 242.754389 150.738642 \r\nL 246.202768 125.415227 \r\nL 234.433374 118.338091 \r\nz\r\n\" style=\"fill:#aec9fc;\"/>\r\n    <path clip-path=\"url(#p956a828ecb)\" d=\"M 219.87201 113.9104 \r\nL 231.135787 141.289042 \r\nL 234.433374 118.338091 \r\nL 222.828417 106.375318 \r\nz\r\n\" style=\"fill:#d9dce1;\"/>\r\n    <path clip-path=\"url(#p956a828ecb)\" d=\"M 236.923863 165.388208 \r\nL 248.669612 173.131641 \r\nL 251.4557 169.448562 \r\nL 239.735896 161.950147 \r\nz\r\n\" style=\"fill:#4055c8;\"/>\r\n    <path clip-path=\"url(#p956a828ecb)\" d=\"M 170.131996 136.289787 \r\nL 181.637529 133.216797 \r\nL 184.655802 133.204448 \r\nL 173.118203 124.315151 \r\nz\r\n\" style=\"fill:#b7cff9;\"/>\r\n    <path clip-path=\"url(#p956a828ecb)\" d=\"M 155.393271 118.164147 \r\nL 167.05081 136.620082 \r\nL 170.131996 136.289787 \r\nL 158.602709 122.881129 \r\nz\r\n\" style=\"fill:#c1d4f4;\"/>\r\n    <path clip-path=\"url(#p956a828ecb)\" d=\"M 211.147312 101.530184 \r\nL 222.828417 106.375318 \r\nL 225.9106 92.165712 \r\nL 214.273239 81.943237 \r\nz\r\n\" style=\"fill:#f6a283;\"/>\r\n    <path clip-path=\"url(#p956a828ecb)\" d=\"M 126.35243 120.085206 \r\nL 137.790782 127.700696 \r\nL 140.943838 123.760586 \r\nL 129.582988 118.050252 \r\nz\r\n\" style=\"fill:#d4dbe6;\"/>\r\n    <path clip-path=\"url(#p956a828ecb)\" d=\"M 207.759777 161.683793 \r\nL 219.616455 157.656791 \r\nL 222.475587 156.055793 \r\nL 210.662999 158.784644 \r\nz\r\n\" style=\"fill:#5f7fe8;\"/>\r\n    <path clip-path=\"url(#p956a828ecb)\" d=\"M 140.943838 123.760586 \r\nL 152.415939 131.166426 \r\nL 155.393271 118.164147 \r\nL 144.049612 118.462021 \r\nz\r\n\" style=\"fill:#d5dbe5;\"/>\r\n    <path clip-path=\"url(#p956a828ecb)\" d=\"M 217.260706 72.778454 \r\nL 228.95538 80.18465 \r\nL 231.933735 71.311317 \r\nL 220.232875 64.312097 \r\nz\r\n\" style=\"fill:#c0282f;\"/>\r\n    <path clip-path=\"url(#p956a828ecb)\" d=\"M 242.754389 150.738642 \r\nL 254.451494 159.250125 \r\nL 257.888546 136.861115 \r\nL 246.202768 125.415227 \r\nz\r\n\" style=\"fill:#94b6ff;\"/>\r\n    <path clip-path=\"url(#p956a828ecb)\" d=\"M 222.475587 156.055793 \r\nL 234.217963 163.797448 \r\nL 236.923863 165.388208 \r\nL 225.237622 158.008292 \r\nz\r\n\" style=\"fill:#5977e3;\"/>\r\n    <path clip-path=\"url(#p956a828ecb)\" d=\"M 214.273239 81.943237 \r\nL 225.9106 92.165712 \r\nL 228.95538 80.18465 \r\nL 217.260706 72.778454 \r\nz\r\n\" style=\"fill:#de614d;\"/>\r\n    <path clip-path=\"url(#p956a828ecb)\" d=\"M 167.05081 136.620082 \r\nL 178.617339 143.415572 \r\nL 181.637529 133.216797 \r\nL 170.131996 136.289787 \r\nz\r\n\" style=\"fill:#aac7fd;\"/>\r\n    <path clip-path=\"url(#p956a828ecb)\" d=\"M 222.828417 106.375318 \r\nL 234.433374 118.338091 \r\nL 237.777303 94.898245 \r\nL 225.9106 92.165712 \r\nz\r\n\" style=\"fill:#f7b599;\"/>\r\n    <path clip-path=\"url(#p956a828ecb)\" d=\"M 137.790782 127.700696 \r\nL 149.281659 134.644612 \r\nL 152.415939 131.166426 \r\nL 140.943838 123.760586 \r\nz\r\n\" style=\"fill:#c6d6f1;\"/>\r\n    <path clip-path=\"url(#p956a828ecb)\" d=\"M 181.637529 133.216797 \r\nL 193.286515 140.432363 \r\nL 196.229005 144.696925 \r\nL 184.655802 133.204448 \r\nz\r\n\" style=\"fill:#abc8fd;\"/>\r\n    <path clip-path=\"url(#p956a828ecb)\" d=\"M 152.415939 131.166426 \r\nL 163.952042 138.265086 \r\nL 167.05081 136.620082 \r\nL 155.393271 118.164147 \r\nz\r\n\" style=\"fill:#c1d4f4;\"/>\r\n    <path clip-path=\"url(#p956a828ecb)\" d=\"M 123.075226 121.468565 \r\nL 134.554963 129.11205 \r\nL 137.790782 127.700696 \r\nL 126.35243 120.085206 \r\nz\r\n\" style=\"fill:#d5dbe5;\"/>\r\n    <path clip-path=\"url(#p956a828ecb)\" d=\"M 234.217963 163.797448 \r\nL 245.958925 173.788568 \r\nL 248.669612 173.131641 \r\nL 236.923863 165.388208 \r\nz\r\n\" style=\"fill:#455cce;\"/>\r\n    <path clip-path=\"url(#p956a828ecb)\" d=\"M 193.286515 140.432363 \r\nL 205.03383 145.100752 \r\nL 207.759777 161.683793 \r\nL 196.229005 144.696925 \r\nz\r\n\" style=\"fill:#8caffe;\"/>\r\n    <path clip-path=\"url(#p956a828ecb)\" d=\"M 234.433374 118.338091 \r\nL 246.202768 125.415227 \r\nL 249.514055 105.673202 \r\nL 237.777303 94.898245 \r\nz\r\n\" style=\"fill:#f3c8b2;\"/>\r\n    <path clip-path=\"url(#p956a828ecb)\" d=\"M 163.952042 138.265086 \r\nL 175.559639 145.257489 \r\nL 178.617339 143.415572 \r\nL 167.05081 136.620082 \r\nz\r\n\" style=\"fill:#a6c4fe;\"/>\r\n    <path clip-path=\"url(#p956a828ecb)\" d=\"M 225.9106 92.165712 \r\nL 237.777303 94.898245 \r\nL 240.907844 80.602653 \r\nL 228.95538 80.18465 \r\nz\r\n\" style=\"fill:#e36c55;\"/>\r\n    <path clip-path=\"url(#p956a828ecb)\" d=\"M 228.95538 80.18465 \r\nL 240.907844 80.602653 \r\nL 243.924244 70.674589 \r\nL 231.933735 71.311317 \r\nz\r\n\" style=\"fill:#c32e31;\"/>\r\n    <path clip-path=\"url(#p956a828ecb)\" d=\"M 149.281659 134.644612 \r\nL 160.852238 142.159885 \r\nL 163.952042 138.265086 \r\nL 152.415939 131.166426 \r\nz\r\n\" style=\"fill:#b6cefa;\"/>\r\n    <path clip-path=\"url(#p956a828ecb)\" d=\"M 219.616455 157.656791 \r\nL 231.401629 165.487548 \r\nL 234.217963 163.797448 \r\nL 222.475587 156.055793 \r\nz\r\n\" style=\"fill:#6485ec;\"/>\r\n    <path clip-path=\"url(#p956a828ecb)\" d=\"M 134.554963 129.11205 \r\nL 146.113123 137.480412 \r\nL 149.281659 134.644612 \r\nL 137.790782 127.700696 \r\nz\r\n\" style=\"fill:#c5d6f2;\"/>\r\n    <path clip-path=\"url(#p956a828ecb)\" d=\"M 178.617339 143.415572 \r\nL 190.278644 143.722214 \r\nL 193.286515 140.432363 \r\nL 181.637529 133.216797 \r\nz\r\n\" style=\"fill:#adc9fd;\"/>\r\n    <path clip-path=\"url(#p956a828ecb)\" d=\"M 246.202768 125.415227 \r\nL 257.888546 136.861115 \r\nL 261.393739 113.484781 \r\nL 249.514055 105.673202 \r\nz\r\n\" style=\"fill:#e5d8d1;\"/>\r\n    <path clip-path=\"url(#p956a828ecb)\" d=\"M 119.866122 125.936658 \r\nL 131.337159 132.334363 \r\nL 134.554963 129.11205 \r\nL 123.075226 121.468565 \r\nz\r\n\" style=\"fill:#d5dbe5;\"/>\r\n    <path clip-path=\"url(#p956a828ecb)\" d=\"M 205.03383 145.100752 \r\nL 216.815727 154.070127 \r\nL 219.616455 157.656791 \r\nL 207.759777 161.683793 \r\nz\r\n\" style=\"fill:#7da0f9;\"/>\r\n    <path clip-path=\"url(#p956a828ecb)\" d=\"M 231.401629 165.487548 \r\nL 243.288341 172.184489 \r\nL 245.958925 173.788568 \r\nL 234.217963 163.797448 \r\nz\r\n\" style=\"fill:#516ddb;\"/>\r\n    <path clip-path=\"url(#p956a828ecb)\" d=\"M 160.852238 142.159885 \r\nL 172.478876 147.667601 \r\nL 175.559639 145.257489 \r\nL 163.952042 138.265086 \r\nz\r\n\" style=\"fill:#a7c5fe;\"/>\r\n    <path clip-path=\"url(#p956a828ecb)\" d=\"M 175.559639 145.257489 \r\nL 187.242665 151.688912 \r\nL 190.278644 143.722214 \r\nL 178.617339 143.415572 \r\nz\r\n\" style=\"fill:#9ebeff;\"/>\r\n    <path clip-path=\"url(#p956a828ecb)\" d=\"M 237.777303 94.898245 \r\nL 249.514055 105.673202 \r\nL 252.900307 84.390649 \r\nL 240.907844 80.602653 \r\nz\r\n\" style=\"fill:#e8765c;\"/>\r\n    <path clip-path=\"url(#p956a828ecb)\" d=\"M 146.113123 137.480412 \r\nL 157.699563 143.618541 \r\nL 160.852238 142.159885 \r\nL 149.281659 134.644612 \r\nz\r\n\" style=\"fill:#b5cdfa;\"/>\r\n    <path clip-path=\"url(#p956a828ecb)\" d=\"M 131.337159 132.334363 \r\nL 142.917122 140.17242 \r\nL 146.113123 137.480412 \r\nL 134.554963 129.11205 \r\nz\r\n\" style=\"fill:#c5d6f2;\"/>\r\n    <path clip-path=\"url(#p956a828ecb)\" d=\"M 190.278644 143.722214 \r\nL 202.004514 154.191038 \r\nL 205.03383 145.100752 \r\nL 193.286515 140.432363 \r\nz\r\n\" style=\"fill:#a2c1ff;\"/>\r\n    <path clip-path=\"url(#p956a828ecb)\" d=\"M 116.547076 127.702724 \r\nL 128.115197 136.264941 \r\nL 131.337159 132.334363 \r\nL 119.866122 125.936658 \r\nz\r\n\" style=\"fill:#d3dbe7;\"/>\r\n    <path clip-path=\"url(#p956a828ecb)\" d=\"M 240.907844 80.602653 \r\nL 252.900307 84.390649 \r\nL 255.933632 74.235854 \r\nL 243.924244 70.674589 \r\nz\r\n\" style=\"fill:#bb1b2c;\"/>\r\n    <path clip-path=\"url(#p956a828ecb)\" d=\"M 216.815727 154.070127 \r\nL 228.678099 161.864147 \r\nL 231.401629 165.487548 \r\nL 219.616455 157.656791 \r\nz\r\n\" style=\"fill:#7699f6;\"/>\r\n    <path clip-path=\"url(#p956a828ecb)\" d=\"M 249.514055 105.673202 \r\nL 261.393739 113.484781 \r\nL 264.834947 92.610332 \r\nL 252.900307 84.390649 \r\nz\r\n\" style=\"fill:#f18f71;\"/>\r\n    <path clip-path=\"url(#p956a828ecb)\" d=\"M 172.478876 147.667601 \r\nL 184.198226 153.516908 \r\nL 187.242665 151.688912 \r\nL 175.559639 145.257489 \r\nz\r\n\" style=\"fill:#9abbff;\"/>\r\n    <path clip-path=\"url(#p956a828ecb)\" d=\"M 187.242665 151.688912 \r\nL 198.997969 159.560386 \r\nL 202.004514 154.191038 \r\nL 190.278644 143.722214 \r\nz\r\n\" style=\"fill:#92b4fe;\"/>\r\n    <path clip-path=\"url(#p956a828ecb)\" d=\"M 157.699563 143.618541 \r\nL 169.375746 150.441426 \r\nL 172.478876 147.667601 \r\nL 160.852238 142.159885 \r\nz\r\n\" style=\"fill:#a7c5fe;\"/>\r\n    <path clip-path=\"url(#p956a828ecb)\" d=\"M 142.917122 140.17242 \r\nL 154.5427 146.730949 \r\nL 157.699563 143.618541 \r\nL 146.113123 137.480412 \r\nz\r\n\" style=\"fill:#b6cefa;\"/>\r\n    <path clip-path=\"url(#p956a828ecb)\" d=\"M 128.115197 136.264941 \r\nL 139.702345 143.162204 \r\nL 142.917122 140.17242 \r\nL 131.337159 132.334363 \r\nz\r\n\" style=\"fill:#c3d5f4;\"/>\r\n    <path clip-path=\"url(#p956a828ecb)\" d=\"M 202.004514 154.191038 \r\nL 213.868189 157.725893 \r\nL 216.815727 154.070127 \r\nL 205.03383 145.100752 \r\nz\r\n\" style=\"fill:#93b5fe;\"/>\r\n    <path clip-path=\"url(#p956a828ecb)\" d=\"M 228.678099 161.864147 \r\nL 240.477735 174.365588 \r\nL 243.288341 172.184489 \r\nL 231.401629 165.487548 \r\nz\r\n\" style=\"fill:#5f7fe8;\"/>\r\n    <path clip-path=\"url(#p956a828ecb)\" d=\"M 113.227421 130.28597 \r\nL 124.797873 137.697966 \r\nL 128.115197 136.264941 \r\nL 116.547076 127.702724 \r\nz\r\n\" style=\"fill:#d3dbe7;\"/>\r\n    <path clip-path=\"url(#p956a828ecb)\" d=\"M 252.900307 84.390649 \r\nL 264.834947 92.610332 \r\nL 267.986659 79.612494 \r\nL 255.933632 74.235854 \r\nz\r\n\" style=\"fill:#c53334;\"/>\r\n    <path clip-path=\"url(#p956a828ecb)\" d=\"M 184.198226 153.516908 \r\nL 195.982017 163.884075 \r\nL 198.997969 159.560386 \r\nL 187.242665 151.688912 \r\nz\r\n\" style=\"fill:#88abfd;\"/>\r\n    <path clip-path=\"url(#p956a828ecb)\" d=\"M 198.997969 159.560386 \r\nL 210.895477 161.765595 \r\nL 213.868189 157.725893 \r\nL 202.004514 154.191038 \r\nz\r\n\" style=\"fill:#86a9fc;\"/>\r\n    <path clip-path=\"url(#p956a828ecb)\" d=\"M 169.375746 150.441426 \r\nL 181.127971 155.853378 \r\nL 184.198226 153.516908 \r\nL 172.478876 147.667601 \r\nz\r\n\" style=\"fill:#9dbdff;\"/>\r\n    <path clip-path=\"url(#p956a828ecb)\" d=\"M 154.5427 146.730949 \r\nL 166.243438 152.680815 \r\nL 169.375746 150.441426 \r\nL 157.699563 143.618541 \r\nz\r\n\" style=\"fill:#a9c6fd;\"/>\r\n    <path clip-path=\"url(#p956a828ecb)\" d=\"M 139.702345 143.162204 \r\nL 151.368267 150.225482 \r\nL 154.5427 146.730949 \r\nL 142.917122 140.17242 \r\nz\r\n\" style=\"fill:#b3cdfb;\"/>\r\n    <path clip-path=\"url(#p956a828ecb)\" d=\"M 124.797873 137.697966 \r\nL 136.43451 144.963034 \r\nL 139.702345 143.162204 \r\nL 128.115197 136.264941 \r\nz\r\n\" style=\"fill:#c4d5f3;\"/>\r\n    <path clip-path=\"url(#p956a828ecb)\" d=\"M 213.868189 157.725893 \r\nL 225.873252 160.233384 \r\nL 228.678099 161.864147 \r\nL 216.815727 154.070127 \r\nz\r\n\" style=\"fill:#89acfd;\"/>\r\n    <path clip-path=\"url(#p956a828ecb)\" d=\"M 195.982017 163.884075 \r\nL 207.821642 172.770456 \r\nL 210.895477 161.765595 \r\nL 198.997969 159.560386 \r\nz\r\n\" style=\"fill:#7699f6;\"/>\r\n    <path clip-path=\"url(#p956a828ecb)\" d=\"M 109.925628 134.089084 \r\nL 121.494804 140.571979 \r\nL 124.797873 137.697966 \r\nL 113.227421 130.28597 \r\nz\r\n\" style=\"fill:#d3dbe7;\"/>\r\n    <path clip-path=\"url(#p956a828ecb)\" d=\"M 181.127971 155.853378 \r\nL 192.954668 166.461867 \r\nL 195.982017 163.884075 \r\nL 184.198226 153.516908 \r\nz\r\n\" style=\"fill:#88abfd;\"/>\r\n    <path clip-path=\"url(#p956a828ecb)\" d=\"M 225.873252 160.233384 \r\nL 237.832906 169.483273 \r\nL 240.477735 174.365588 \r\nL 228.678099 161.864147 \r\nz\r\n\" style=\"fill:#7597f6;\"/>\r\n    <path clip-path=\"url(#p956a828ecb)\" d=\"M 166.243438 152.680815 \r\nL 178.03417 158.80428 \r\nL 181.127971 155.853378 \r\nL 169.375746 150.441426 \r\nz\r\n\" style=\"fill:#9dbdff;\"/>\r\n    <path clip-path=\"url(#p956a828ecb)\" d=\"M 151.368267 150.225482 \r\nL 163.089279 155.350774 \r\nL 166.243438 152.680815 \r\nL 154.5427 146.730949 \r\nz\r\n\" style=\"fill:#a7c5fe;\"/>\r\n    <path clip-path=\"url(#p956a828ecb)\" d=\"M 136.43451 144.963034 \r\nL 148.142177 152.130607 \r\nL 151.368267 150.225482 \r\nL 139.702345 143.162204 \r\nz\r\n\" style=\"fill:#b5cdfa;\"/>\r\n    <path clip-path=\"url(#p956a828ecb)\" d=\"M 210.895477 161.765595 \r\nL 222.823335 169.512916 \r\nL 225.873252 160.233384 \r\nL 213.868189 157.725893 \r\nz\r\n\" style=\"fill:#84a7fc;\"/>\r\n    <path clip-path=\"url(#p956a828ecb)\" d=\"M 192.954668 166.461867 \r\nL 204.828935 175.977615 \r\nL 207.821642 172.770456 \r\nL 195.982017 163.884075 \r\nz\r\n\" style=\"fill:#6b8df0;\"/>\r\n    <path clip-path=\"url(#p956a828ecb)\" d=\"M 121.494804 140.571979 \r\nL 133.165741 147.87245 \r\nL 136.43451 144.963034 \r\nL 124.797873 137.697966 \r\nz\r\n\" style=\"fill:#c5d6f2;\"/>\r\n    <path clip-path=\"url(#p956a828ecb)\" d=\"M 106.554752 136.696913 \r\nL 118.182802 143.97174 \r\nL 121.494804 140.571979 \r\nL 109.925628 134.089084 \r\nz\r\n\" style=\"fill:#d2dbe8;\"/>\r\n    <path clip-path=\"url(#p956a828ecb)\" d=\"M 207.821642 172.770456 \r\nL 219.813643 176.308807 \r\nL 222.823335 169.512916 \r\nL 210.895477 161.765595 \r\nz\r\n\" style=\"fill:#6c8ff1;\"/>\r\n    <path clip-path=\"url(#p956a828ecb)\" d=\"M 178.03417 158.80428 \r\nL 189.904973 168.263748 \r\nL 192.954668 166.461867 \r\nL 181.127971 155.853378 \r\nz\r\n\" style=\"fill:#89acfd;\"/>\r\n    <path clip-path=\"url(#p956a828ecb)\" d=\"M 204.828935 175.977615 \r\nL 216.772813 184.317158 \r\nL 219.813643 176.308807 \r\nL 207.821642 172.770456 \r\nz\r\n\" style=\"fill:#5a78e4;\"/>\r\n    <path clip-path=\"url(#p956a828ecb)\" d=\"M 163.089279 155.350774 \r\nL 174.924403 163.445568 \r\nL 178.03417 158.80428 \r\nL 166.243438 152.680815 \r\nz\r\n\" style=\"fill:#9bbcff;\"/>\r\n    <path clip-path=\"url(#p956a828ecb)\" d=\"M 222.823335 169.512916 \r\nL 234.781147 178.921614 \r\nL 237.832906 169.483273 \r\nL 225.873252 160.233384 \r\nz\r\n\" style=\"fill:#7396f5;\"/>\r\n    <path clip-path=\"url(#p956a828ecb)\" d=\"M 148.142177 152.130607 \r\nL 159.91347 158.333407 \r\nL 163.089279 155.350774 \r\nL 151.368267 150.225482 \r\nz\r\n\" style=\"fill:#a7c5fe;\"/>\r\n    <path clip-path=\"url(#p956a828ecb)\" d=\"M 133.165741 147.87245 \r\nL 144.925191 155.949934 \r\nL 148.142177 152.130607 \r\nL 136.43451 144.963034 \r\nz\r\n\" style=\"fill:#b5cdfa;\"/>\r\n    <path clip-path=\"url(#p956a828ecb)\" d=\"M 189.904973 168.263748 \r\nL 201.818457 178.66655 \r\nL 204.828935 175.977615 \r\nL 192.954668 166.461867 \r\nz\r\n\" style=\"fill:#6c8ff1;\"/>\r\n    <path clip-path=\"url(#p956a828ecb)\" d=\"M 219.813643 176.308807 \r\nL 231.752145 187.261493 \r\nL 234.781147 178.921614 \r\nL 222.823335 169.512916 \r\nz\r\n\" style=\"fill:#5a78e4;\"/>\r\n    <path clip-path=\"url(#p956a828ecb)\" d=\"M 118.182802 143.97174 \r\nL 129.863992 150.519904 \r\nL 133.165741 147.87245 \r\nL 121.494804 140.571979 \r\nz\r\n\" style=\"fill:#c5d6f2;\"/>\r\n    <path clip-path=\"url(#p956a828ecb)\" d=\"M 103.120451 138.413928 \r\nL 114.79938 146.020268 \r\nL 118.182802 143.97174 \r\nL 106.554752 136.696913 \r\nz\r\n\" style=\"fill:#d3dbe7;\"/>\r\n    <path clip-path=\"url(#p956a828ecb)\" d=\"M 216.772813 184.317158 \r\nL 228.734777 194.783665 \r\nL 231.752145 187.261493 \r\nL 219.813643 176.308807 \r\nz\r\n\" style=\"fill:#465ecf;\"/>\r\n    <path clip-path=\"url(#p956a828ecb)\" d=\"M 174.924403 163.445568 \r\nL 186.825992 171.748824 \r\nL 189.904973 168.263748 \r\nL 178.03417 158.80428 \r\nz\r\n\" style=\"fill:#88abfd;\"/>\r\n    <path clip-path=\"url(#p956a828ecb)\" d=\"M 201.818457 178.66655 \r\nL 213.770167 189.222508 \r\nL 216.772813 184.317158 \r\nL 204.828935 175.977615 \r\nz\r\n\" style=\"fill:#536edd;\"/>\r\n    <path clip-path=\"url(#p956a828ecb)\" d=\"M 159.91347 158.333407 \r\nL 171.775716 164.947113 \r\nL 174.924403 163.445568 \r\nL 163.089279 155.350774 \r\nz\r\n\" style=\"fill:#9bbcff;\"/>\r\n    <path clip-path=\"url(#p956a828ecb)\" d=\"M 144.925191 155.949934 \r\nL 156.728421 162.44543 \r\nL 159.91347 158.333407 \r\nL 148.142177 152.130607 \r\nz\r\n\" style=\"fill:#a6c4fe;\"/>\r\n    <path clip-path=\"url(#p956a828ecb)\" d=\"M 129.863992 150.519904 \r\nL 141.639444 157.608886 \r\nL 144.925191 155.949934 \r\nL 133.165741 147.87245 \r\nz\r\n\" style=\"fill:#b5cdfa;\"/>\r\n    <path clip-path=\"url(#p956a828ecb)\" d=\"M 186.825992 171.748824 \r\nL 198.780194 181.8442 \r\nL 201.818457 178.66655 \r\nL 189.904973 168.263748 \r\nz\r\n\" style=\"fill:#6c8ff1;\"/>\r\n    <path clip-path=\"url(#p956a828ecb)\" d=\"M 213.770167 189.222508 \r\nL 225.794676 198.194208 \r\nL 228.734777 194.783665 \r\nL 216.772813 184.317158 \r\nz\r\n\" style=\"fill:#3b4cc0;\"/>\r\n    <path clip-path=\"url(#p956a828ecb)\" d=\"M 114.79938 146.020268 \r\nL 126.521887 152.70977 \r\nL 129.863992 150.519904 \r\nL 118.182802 143.97174 \r\nz\r\n\" style=\"fill:#c5d6f2;\"/>\r\n    <path clip-path=\"url(#p956a828ecb)\" d=\"M 99.728826 141.894911 \r\nL 111.423544 149.102325 \r\nL 114.79938 146.020268 \r\nL 103.120451 138.413928 \r\nz\r\n\" style=\"fill:#d3dbe7;\"/>\r\n    <path clip-path=\"url(#p956a828ecb)\" d=\"M 171.775716 164.947113 \r\nL 183.724409 174.839341 \r\nL 186.825992 171.748824 \r\nL 174.924403 163.445568 \r\nz\r\n\" style=\"fill:#85a8fc;\"/>\r\n    <path clip-path=\"url(#p956a828ecb)\" d=\"M 198.780194 181.8442 \r\nL 210.795105 190.766034 \r\nL 213.770167 189.222508 \r\nL 201.818457 178.66655 \r\nz\r\n\" style=\"fill:#516ddb;\"/>\r\n    <path clip-path=\"url(#p956a828ecb)\" d=\"M 156.728421 162.44543 \r\nL 168.611927 168.249562 \r\nL 171.775716 164.947113 \r\nL 159.91347 158.333407 \r\nz\r\n\" style=\"fill:#9abbff;\"/>\r\n    <path clip-path=\"url(#p956a828ecb)\" d=\"M 141.639444 157.608886 \r\nL 153.495292 164.845192 \r\nL 156.728421 162.44543 \r\nL 144.925191 155.949934 \r\nz\r\n\" style=\"fill:#a5c3fe;\"/>\r\n    <path clip-path=\"url(#p956a828ecb)\" d=\"M 183.724409 174.839341 \r\nL 195.714559 185.763059 \r\nL 198.780194 181.8442 \r\nL 186.825992 171.748824 \r\nz\r\n\" style=\"fill:#6a8bef;\"/>\r\n    <path clip-path=\"url(#p956a828ecb)\" d=\"M 126.521887 152.70977 \r\nL 138.348265 160.347936 \r\nL 141.639444 157.608886 \r\nL 129.863992 150.519904 \r\nz\r\n\" style=\"fill:#b7cff9;\"/>\r\n    <path clip-path=\"url(#p956a828ecb)\" d=\"M 210.795105 190.766034 \r\nL 222.850444 200.716083 \r\nL 225.794676 198.194208 \r\nL 213.770167 189.222508 \r\nz\r\n\" style=\"fill:#3b4cc0;\"/>\r\n    <path clip-path=\"url(#p956a828ecb)\" d=\"M 111.423544 149.102325 \r\nL 123.215901 157.040611 \r\nL 126.521887 152.70977 \r\nL 114.79938 146.020268 \r\nz\r\n\" style=\"fill:#c5d6f2;\"/>\r\n    <path clip-path=\"url(#p956a828ecb)\" d=\"M 168.611927 168.249562 \r\nL 180.59828 177.683709 \r\nL 183.724409 174.839341 \r\nL 171.775716 164.947113 \r\nz\r\n\" style=\"fill:#86a9fc;\"/>\r\n    <path clip-path=\"url(#p956a828ecb)\" d=\"M 195.714559 185.763059 \r\nL 207.769291 194.246779 \r\nL 210.795105 190.766034 \r\nL 198.780194 181.8442 \r\nz\r\n\" style=\"fill:#516ddb;\"/>\r\n    <path clip-path=\"url(#p956a828ecb)\" d=\"M 153.495292 164.845192 \r\nL 165.41811 170.924894 \r\nL 168.611927 168.249562 \r\nL 156.728421 162.44543 \r\nz\r\n\" style=\"fill:#98b9ff;\"/>\r\n    <path clip-path=\"url(#p956a828ecb)\" d=\"M 138.348265 160.347936 \r\nL 150.22613 166.752022 \r\nL 153.495292 164.845192 \r\nL 141.639444 157.608886 \r\nz\r\n\" style=\"fill:#a9c6fd;\"/>\r\n    <path clip-path=\"url(#p956a828ecb)\" d=\"M 180.59828 177.683709 \r\nL 192.631793 188.696845 \r\nL 195.714559 185.763059 \r\nL 183.724409 174.839341 \r\nz\r\n\" style=\"fill:#688aef;\"/>\r\n    <path clip-path=\"url(#p956a828ecb)\" d=\"M 123.215901 157.040611 \r\nL 135.040681 163.520866 \r\nL 138.348265 160.347936 \r\nL 126.521887 152.70977 \r\nz\r\n\" style=\"fill:#b6cefa;\"/>\r\n    <path clip-path=\"url(#p956a828ecb)\" d=\"M 207.769291 194.246779 \r\nL 219.877098 203.491783 \r\nL 222.850444 200.716083 \r\nL 210.795105 190.766034 \r\nz\r\n\" style=\"fill:#3c4ec2;\"/>\r\n    <path clip-path=\"url(#p956a828ecb)\" d=\"M 192.631793 188.696845 \r\nL 204.728346 197.030066 \r\nL 207.769291 194.246779 \r\nL 195.714559 185.763059 \r\nz\r\n\" style=\"fill:#506bda;\"/>\r\n    <path clip-path=\"url(#p956a828ecb)\" d=\"M 165.41811 170.924894 \r\nL 177.448015 180.84439 \r\nL 180.59828 177.683709 \r\nL 168.611927 168.249562 \r\nz\r\n\" style=\"fill:#86a9fc;\"/>\r\n    <path clip-path=\"url(#p956a828ecb)\" d=\"M 150.22613 166.752022 \r\nL 162.193502 173.214707 \r\nL 165.41811 170.924894 \r\nL 153.495292 164.845192 \r\nz\r\n\" style=\"fill:#9bbcff;\"/>\r\n    <path clip-path=\"url(#p956a828ecb)\" d=\"M 135.040681 163.520866 \r\nL 146.935228 169.081833 \r\nL 150.22613 166.752022 \r\nL 138.348265 160.347936 \r\nz\r\n\" style=\"fill:#aac7fd;\"/>\r\n    <path clip-path=\"url(#p956a828ecb)\" d=\"M 177.448015 180.84439 \r\nL 189.528737 189.936716 \r\nL 192.631793 188.696845 \r\nL 180.59828 177.683709 \r\nz\r\n\" style=\"fill:#6a8bef;\"/>\r\n    <path clip-path=\"url(#p956a828ecb)\" d=\"M 204.728346 197.030066 \r\nL 216.854974 207.751847 \r\nL 219.877098 203.491783 \r\nL 207.769291 194.246779 \r\nz\r\n\" style=\"fill:#3b4cc0;\"/>\r\n    <path clip-path=\"url(#p956a828ecb)\" d=\"M 162.193502 173.214707 \r\nL 174.270632 183.524015 \r\nL 177.448015 180.84439 \r\nL 165.41811 170.924894 \r\nz\r\n\" style=\"fill:#86a9fc;\"/>\r\n    <path clip-path=\"url(#p956a828ecb)\" d=\"M 189.528737 189.936716 \r\nL 201.661643 199.915675 \r\nL 204.728346 197.030066 \r\nL 192.631793 188.696845 \r\nz\r\n\" style=\"fill:#516ddb;\"/>\r\n    <path clip-path=\"url(#p956a828ecb)\" d=\"M 146.935228 169.081833 \r\nL 158.9495 176.191 \r\nL 162.193502 173.214707 \r\nL 150.22613 166.752022 \r\nz\r\n\" style=\"fill:#9ebeff;\"/>\r\n    <path clip-path=\"url(#p956a828ecb)\" d=\"M 174.270632 183.524015 \r\nL 186.393656 192.754895 \r\nL 189.528737 189.936716 \r\nL 177.448015 180.84439 \r\nz\r\n\" style=\"fill:#6c8ff1;\"/>\r\n    <path clip-path=\"url(#p956a828ecb)\" d=\"M 201.661643 199.915675 \r\nL 213.849353 209.583439 \r\nL 216.854974 207.751847 \r\nL 204.728346 197.030066 \r\nz\r\n\" style=\"fill:#3b4cc0;\"/>\r\n    <path clip-path=\"url(#p956a828ecb)\" d=\"M 158.9495 176.191 \r\nL 171.061568 185.455093 \r\nL 174.270632 183.524015 \r\nL 162.193502 173.214707 \r\nz\r\n\" style=\"fill:#89acfd;\"/>\r\n    <path clip-path=\"url(#p956a828ecb)\" d=\"M 186.393656 192.754895 \r\nL 198.563103 203.755532 \r\nL 201.661643 199.915675 \r\nL 189.528737 189.936716 \r\nz\r\n\" style=\"fill:#536edd;\"/>\r\n    <path clip-path=\"url(#p956a828ecb)\" d=\"M 171.061568 185.455093 \r\nL 183.23329 196.578882 \r\nL 186.393656 192.754895 \r\nL 174.270632 183.524015 \r\nz\r\n\" style=\"fill:#6e90f2;\"/>\r\n    <path clip-path=\"url(#p956a828ecb)\" d=\"M 198.563103 203.755532 \r\nL 210.79041 213.29804 \r\nL 213.849353 209.583439 \r\nL 201.661643 199.915675 \r\nz\r\n\" style=\"fill:#3b4cc0;\"/>\r\n    <path clip-path=\"url(#p956a828ecb)\" d=\"M 183.23329 196.578882 \r\nL 195.450577 206.108013 \r\nL 198.563103 203.755532 \r\nL 186.393656 192.754895 \r\nz\r\n\" style=\"fill:#536edd;\"/>\r\n    <path clip-path=\"url(#p956a828ecb)\" d=\"M 195.450577 206.108013 \r\nL 207.720653 216.036799 \r\nL 210.79041 213.29804 \r\nL 198.563103 203.755532 \r\nz\r\n\" style=\"fill:#3b4cc0;\"/>\r\n   </g>\r\n   <g id=\"text_18\">\r\n    <!-- MC score:52.15552834903493 frame:31 step_size:65536  -->\r\n    <g transform=\"translate(7.2 16.318125)scale(0.12 -0.12)\">\r\n     <defs>\r\n      <path d=\"M 628 4666 \r\nL 1569 4666 \r\nL 2759 1491 \r\nL 3956 4666 \r\nL 4897 4666 \r\nL 4897 0 \r\nL 4281 0 \r\nL 4281 4097 \r\nL 3078 897 \r\nL 2444 897 \r\nL 1241 4097 \r\nL 1241 0 \r\nL 628 0 \r\nL 628 4666 \r\nz\r\n\" id=\"DejaVuSans-4d\" transform=\"scale(0.015625)\"/>\r\n      <path d=\"M 4122 4306 \r\nL 4122 3641 \r\nQ 3803 3938 3442 4084 \r\nQ 3081 4231 2675 4231 \r\nQ 1875 4231 1450 3742 \r\nQ 1025 3253 1025 2328 \r\nQ 1025 1406 1450 917 \r\nQ 1875 428 2675 428 \r\nQ 3081 428 3442 575 \r\nQ 3803 722 4122 1019 \r\nL 4122 359 \r\nQ 3791 134 3420 21 \r\nQ 3050 -91 2638 -91 \r\nQ 1578 -91 968 557 \r\nQ 359 1206 359 2328 \r\nQ 359 3453 968 4101 \r\nQ 1578 4750 2638 4750 \r\nQ 3056 4750 3426 4639 \r\nQ 3797 4528 4122 4306 \r\nz\r\n\" id=\"DejaVuSans-43\" transform=\"scale(0.015625)\"/>\r\n      <path id=\"DejaVuSans-20\" transform=\"scale(0.015625)\"/>\r\n      <path d=\"M 2834 3397 \r\nL 2834 2853 \r\nQ 2591 2978 2328 3040 \r\nQ 2066 3103 1784 3103 \r\nQ 1356 3103 1142 2972 \r\nQ 928 2841 928 2578 \r\nQ 928 2378 1081 2264 \r\nQ 1234 2150 1697 2047 \r\nL 1894 2003 \r\nQ 2506 1872 2764 1633 \r\nQ 3022 1394 3022 966 \r\nQ 3022 478 2636 193 \r\nQ 2250 -91 1575 -91 \r\nQ 1294 -91 989 -36 \r\nQ 684 19 347 128 \r\nL 347 722 \r\nQ 666 556 975 473 \r\nQ 1284 391 1588 391 \r\nQ 1994 391 2212 530 \r\nQ 2431 669 2431 922 \r\nQ 2431 1156 2273 1281 \r\nQ 2116 1406 1581 1522 \r\nL 1381 1569 \r\nQ 847 1681 609 1914 \r\nQ 372 2147 372 2553 \r\nQ 372 3047 722 3315 \r\nQ 1072 3584 1716 3584 \r\nQ 2034 3584 2315 3537 \r\nQ 2597 3491 2834 3397 \r\nz\r\n\" id=\"DejaVuSans-73\" transform=\"scale(0.015625)\"/>\r\n      <path d=\"M 3122 3366 \r\nL 3122 2828 \r\nQ 2878 2963 2633 3030 \r\nQ 2388 3097 2138 3097 \r\nQ 1578 3097 1268 2742 \r\nQ 959 2388 959 1747 \r\nQ 959 1106 1268 751 \r\nQ 1578 397 2138 397 \r\nQ 2388 397 2633 464 \r\nQ 2878 531 3122 666 \r\nL 3122 134 \r\nQ 2881 22 2623 -34 \r\nQ 2366 -91 2075 -91 \r\nQ 1284 -91 818 406 \r\nQ 353 903 353 1747 \r\nQ 353 2603 823 3093 \r\nQ 1294 3584 2113 3584 \r\nQ 2378 3584 2631 3529 \r\nQ 2884 3475 3122 3366 \r\nz\r\n\" id=\"DejaVuSans-63\" transform=\"scale(0.015625)\"/>\r\n      <path d=\"M 1959 3097 \r\nQ 1497 3097 1228 2736 \r\nQ 959 2375 959 1747 \r\nQ 959 1119 1226 758 \r\nQ 1494 397 1959 397 \r\nQ 2419 397 2687 759 \r\nQ 2956 1122 2956 1747 \r\nQ 2956 2369 2687 2733 \r\nQ 2419 3097 1959 3097 \r\nz\r\nM 1959 3584 \r\nQ 2709 3584 3137 3096 \r\nQ 3566 2609 3566 1747 \r\nQ 3566 888 3137 398 \r\nQ 2709 -91 1959 -91 \r\nQ 1206 -91 779 398 \r\nQ 353 888 353 1747 \r\nQ 353 2609 779 3096 \r\nQ 1206 3584 1959 3584 \r\nz\r\n\" id=\"DejaVuSans-6f\" transform=\"scale(0.015625)\"/>\r\n      <path d=\"M 2631 2963 \r\nQ 2534 3019 2420 3045 \r\nQ 2306 3072 2169 3072 \r\nQ 1681 3072 1420 2755 \r\nQ 1159 2438 1159 1844 \r\nL 1159 0 \r\nL 581 0 \r\nL 581 3500 \r\nL 1159 3500 \r\nL 1159 2956 \r\nQ 1341 3275 1631 3429 \r\nQ 1922 3584 2338 3584 \r\nQ 2397 3584 2469 3576 \r\nQ 2541 3569 2628 3553 \r\nL 2631 2963 \r\nz\r\n\" id=\"DejaVuSans-72\" transform=\"scale(0.015625)\"/>\r\n      <path d=\"M 3597 1894 \r\nL 3597 1613 \r\nL 953 1613 \r\nQ 991 1019 1311 708 \r\nQ 1631 397 2203 397 \r\nQ 2534 397 2845 478 \r\nQ 3156 559 3463 722 \r\nL 3463 178 \r\nQ 3153 47 2828 -22 \r\nQ 2503 -91 2169 -91 \r\nQ 1331 -91 842 396 \r\nQ 353 884 353 1716 \r\nQ 353 2575 817 3079 \r\nQ 1281 3584 2069 3584 \r\nQ 2775 3584 3186 3129 \r\nQ 3597 2675 3597 1894 \r\nz\r\nM 3022 2063 \r\nQ 3016 2534 2758 2815 \r\nQ 2500 3097 2075 3097 \r\nQ 1594 3097 1305 2825 \r\nQ 1016 2553 972 2059 \r\nL 3022 2063 \r\nz\r\n\" id=\"DejaVuSans-65\" transform=\"scale(0.015625)\"/>\r\n      <path d=\"M 750 794 \r\nL 1409 794 \r\nL 1409 0 \r\nL 750 0 \r\nL 750 794 \r\nz\r\nM 750 3309 \r\nL 1409 3309 \r\nL 1409 2516 \r\nL 750 2516 \r\nL 750 3309 \r\nz\r\n\" id=\"DejaVuSans-3a\" transform=\"scale(0.015625)\"/>\r\n      <path d=\"M 2597 2516 \r\nQ 3050 2419 3304 2112 \r\nQ 3559 1806 3559 1356 \r\nQ 3559 666 3084 287 \r\nQ 2609 -91 1734 -91 \r\nQ 1441 -91 1130 -33 \r\nQ 819 25 488 141 \r\nL 488 750 \r\nQ 750 597 1062 519 \r\nQ 1375 441 1716 441 \r\nQ 2309 441 2620 675 \r\nQ 2931 909 2931 1356 \r\nQ 2931 1769 2642 2001 \r\nQ 2353 2234 1838 2234 \r\nL 1294 2234 \r\nL 1294 2753 \r\nL 1863 2753 \r\nQ 2328 2753 2575 2939 \r\nQ 2822 3125 2822 3475 \r\nQ 2822 3834 2567 4026 \r\nQ 2313 4219 1838 4219 \r\nQ 1578 4219 1281 4162 \r\nQ 984 4106 628 3988 \r\nL 628 4550 \r\nQ 988 4650 1302 4700 \r\nQ 1616 4750 1894 4750 \r\nQ 2613 4750 3031 4423 \r\nQ 3450 4097 3450 3541 \r\nQ 3450 3153 3228 2886 \r\nQ 3006 2619 2597 2516 \r\nz\r\n\" id=\"DejaVuSans-33\" transform=\"scale(0.015625)\"/>\r\n      <path d=\"M 703 97 \r\nL 703 672 \r\nQ 941 559 1184 500 \r\nQ 1428 441 1663 441 \r\nQ 2288 441 2617 861 \r\nQ 2947 1281 2994 2138 \r\nQ 2813 1869 2534 1725 \r\nQ 2256 1581 1919 1581 \r\nQ 1219 1581 811 2004 \r\nQ 403 2428 403 3163 \r\nQ 403 3881 828 4315 \r\nQ 1253 4750 1959 4750 \r\nQ 2769 4750 3195 4129 \r\nQ 3622 3509 3622 2328 \r\nQ 3622 1225 3098 567 \r\nQ 2575 -91 1691 -91 \r\nQ 1453 -91 1209 -44 \r\nQ 966 3 703 97 \r\nz\r\nM 1959 2075 \r\nQ 2384 2075 2632 2365 \r\nQ 2881 2656 2881 3163 \r\nQ 2881 3666 2632 3958 \r\nQ 2384 4250 1959 4250 \r\nQ 1534 4250 1286 3958 \r\nQ 1038 3666 1038 3163 \r\nQ 1038 2656 1286 2365 \r\nQ 1534 2075 1959 2075 \r\nz\r\n\" id=\"DejaVuSans-39\" transform=\"scale(0.015625)\"/>\r\n      <path d=\"M 2375 4863 \r\nL 2375 4384 \r\nL 1825 4384 \r\nQ 1516 4384 1395 4259 \r\nQ 1275 4134 1275 3809 \r\nL 1275 3500 \r\nL 2222 3500 \r\nL 2222 3053 \r\nL 1275 3053 \r\nL 1275 0 \r\nL 697 0 \r\nL 697 3053 \r\nL 147 3053 \r\nL 147 3500 \r\nL 697 3500 \r\nL 697 3744 \r\nQ 697 4328 969 4595 \r\nQ 1241 4863 1831 4863 \r\nL 2375 4863 \r\nz\r\n\" id=\"DejaVuSans-66\" transform=\"scale(0.015625)\"/>\r\n      <path d=\"M 2194 1759 \r\nQ 1497 1759 1228 1600 \r\nQ 959 1441 959 1056 \r\nQ 959 750 1161 570 \r\nQ 1363 391 1709 391 \r\nQ 2188 391 2477 730 \r\nQ 2766 1069 2766 1631 \r\nL 2766 1759 \r\nL 2194 1759 \r\nz\r\nM 3341 1997 \r\nL 3341 0 \r\nL 2766 0 \r\nL 2766 531 \r\nQ 2569 213 2275 61 \r\nQ 1981 -91 1556 -91 \r\nQ 1019 -91 701 211 \r\nQ 384 513 384 1019 \r\nQ 384 1609 779 1909 \r\nQ 1175 2209 1959 2209 \r\nL 2766 2209 \r\nL 2766 2266 \r\nQ 2766 2663 2505 2880 \r\nQ 2244 3097 1772 3097 \r\nQ 1472 3097 1187 3025 \r\nQ 903 2953 641 2809 \r\nL 641 3341 \r\nQ 956 3463 1253 3523 \r\nQ 1550 3584 1831 3584 \r\nQ 2591 3584 2966 3190 \r\nQ 3341 2797 3341 1997 \r\nz\r\n\" id=\"DejaVuSans-61\" transform=\"scale(0.015625)\"/>\r\n      <path d=\"M 3328 2828 \r\nQ 3544 3216 3844 3400 \r\nQ 4144 3584 4550 3584 \r\nQ 5097 3584 5394 3201 \r\nQ 5691 2819 5691 2113 \r\nL 5691 0 \r\nL 5113 0 \r\nL 5113 2094 \r\nQ 5113 2597 4934 2840 \r\nQ 4756 3084 4391 3084 \r\nQ 3944 3084 3684 2787 \r\nQ 3425 2491 3425 1978 \r\nL 3425 0 \r\nL 2847 0 \r\nL 2847 2094 \r\nQ 2847 2600 2669 2842 \r\nQ 2491 3084 2119 3084 \r\nQ 1678 3084 1418 2786 \r\nQ 1159 2488 1159 1978 \r\nL 1159 0 \r\nL 581 0 \r\nL 581 3500 \r\nL 1159 3500 \r\nL 1159 2956 \r\nQ 1356 3278 1631 3431 \r\nQ 1906 3584 2284 3584 \r\nQ 2666 3584 2933 3390 \r\nQ 3200 3197 3328 2828 \r\nz\r\n\" id=\"DejaVuSans-6d\" transform=\"scale(0.015625)\"/>\r\n      <path d=\"M 1172 4494 \r\nL 1172 3500 \r\nL 2356 3500 \r\nL 2356 3053 \r\nL 1172 3053 \r\nL 1172 1153 \r\nQ 1172 725 1289 603 \r\nQ 1406 481 1766 481 \r\nL 2356 481 \r\nL 2356 0 \r\nL 1766 0 \r\nQ 1100 0 847 248 \r\nQ 594 497 594 1153 \r\nL 594 3053 \r\nL 172 3053 \r\nL 172 3500 \r\nL 594 3500 \r\nL 594 4494 \r\nL 1172 4494 \r\nz\r\n\" id=\"DejaVuSans-74\" transform=\"scale(0.015625)\"/>\r\n      <path d=\"M 1159 525 \r\nL 1159 -1331 \r\nL 581 -1331 \r\nL 581 3500 \r\nL 1159 3500 \r\nL 1159 2969 \r\nQ 1341 3281 1617 3432 \r\nQ 1894 3584 2278 3584 \r\nQ 2916 3584 3314 3078 \r\nQ 3713 2572 3713 1747 \r\nQ 3713 922 3314 415 \r\nQ 2916 -91 2278 -91 \r\nQ 1894 -91 1617 61 \r\nQ 1341 213 1159 525 \r\nz\r\nM 3116 1747 \r\nQ 3116 2381 2855 2742 \r\nQ 2594 3103 2138 3103 \r\nQ 1681 3103 1420 2742 \r\nQ 1159 2381 1159 1747 \r\nQ 1159 1113 1420 752 \r\nQ 1681 391 2138 391 \r\nQ 2594 391 2855 752 \r\nQ 3116 1113 3116 1747 \r\nz\r\n\" id=\"DejaVuSans-70\" transform=\"scale(0.015625)\"/>\r\n      <path d=\"M 3263 -1063 \r\nL 3263 -1509 \r\nL -63 -1509 \r\nL -63 -1063 \r\nL 3263 -1063 \r\nz\r\n\" id=\"DejaVuSans-5f\" transform=\"scale(0.015625)\"/>\r\n      <path d=\"M 603 3500 \r\nL 1178 3500 \r\nL 1178 0 \r\nL 603 0 \r\nL 603 3500 \r\nz\r\nM 603 4863 \r\nL 1178 4863 \r\nL 1178 4134 \r\nL 603 4134 \r\nL 603 4863 \r\nz\r\n\" id=\"DejaVuSans-69\" transform=\"scale(0.015625)\"/>\r\n      <path d=\"M 353 3500 \r\nL 3084 3500 \r\nL 3084 2975 \r\nL 922 459 \r\nL 3084 459 \r\nL 3084 0 \r\nL 275 0 \r\nL 275 525 \r\nL 2438 3041 \r\nL 353 3041 \r\nL 353 3500 \r\nz\r\n\" id=\"DejaVuSans-7a\" transform=\"scale(0.015625)\"/>\r\n     </defs>\r\n     <use xlink:href=\"#DejaVuSans-4d\"/>\r\n     <use x=\"86.279297\" xlink:href=\"#DejaVuSans-43\"/>\r\n     <use x=\"156.103516\" xlink:href=\"#DejaVuSans-20\"/>\r\n     <use x=\"187.890625\" xlink:href=\"#DejaVuSans-73\"/>\r\n     <use x=\"239.990234\" xlink:href=\"#DejaVuSans-63\"/>\r\n     <use x=\"294.970703\" xlink:href=\"#DejaVuSans-6f\"/>\r\n     <use x=\"356.152344\" xlink:href=\"#DejaVuSans-72\"/>\r\n     <use x=\"395.015625\" xlink:href=\"#DejaVuSans-65\"/>\r\n     <use x=\"456.539062\" xlink:href=\"#DejaVuSans-3a\"/>\r\n     <use x=\"490.230469\" xlink:href=\"#DejaVuSans-35\"/>\r\n     <use x=\"553.853516\" xlink:href=\"#DejaVuSans-32\"/>\r\n     <use x=\"617.476562\" xlink:href=\"#DejaVuSans-2e\"/>\r\n     <use x=\"649.263672\" xlink:href=\"#DejaVuSans-31\"/>\r\n     <use x=\"712.886719\" xlink:href=\"#DejaVuSans-35\"/>\r\n     <use x=\"776.509766\" xlink:href=\"#DejaVuSans-35\"/>\r\n     <use x=\"840.132812\" xlink:href=\"#DejaVuSans-35\"/>\r\n     <use x=\"903.755859\" xlink:href=\"#DejaVuSans-32\"/>\r\n     <use x=\"967.378906\" xlink:href=\"#DejaVuSans-38\"/>\r\n     <use x=\"1031.001953\" xlink:href=\"#DejaVuSans-33\"/>\r\n     <use x=\"1094.625\" xlink:href=\"#DejaVuSans-34\"/>\r\n     <use x=\"1158.248047\" xlink:href=\"#DejaVuSans-39\"/>\r\n     <use x=\"1221.871094\" xlink:href=\"#DejaVuSans-30\"/>\r\n     <use x=\"1285.494141\" xlink:href=\"#DejaVuSans-33\"/>\r\n     <use x=\"1349.117188\" xlink:href=\"#DejaVuSans-34\"/>\r\n     <use x=\"1412.740234\" xlink:href=\"#DejaVuSans-39\"/>\r\n     <use x=\"1476.363281\" xlink:href=\"#DejaVuSans-33\"/>\r\n     <use x=\"1539.986328\" xlink:href=\"#DejaVuSans-20\"/>\r\n     <use x=\"1571.773438\" xlink:href=\"#DejaVuSans-66\"/>\r\n     <use x=\"1606.978516\" xlink:href=\"#DejaVuSans-72\"/>\r\n     <use x=\"1648.091797\" xlink:href=\"#DejaVuSans-61\"/>\r\n     <use x=\"1709.371094\" xlink:href=\"#DejaVuSans-6d\"/>\r\n     <use x=\"1806.783203\" xlink:href=\"#DejaVuSans-65\"/>\r\n     <use x=\"1868.306641\" xlink:href=\"#DejaVuSans-3a\"/>\r\n     <use x=\"1901.998047\" xlink:href=\"#DejaVuSans-33\"/>\r\n     <use x=\"1965.621094\" xlink:href=\"#DejaVuSans-31\"/>\r\n     <use x=\"2029.244141\" xlink:href=\"#DejaVuSans-20\"/>\r\n     <use x=\"2061.03125\" xlink:href=\"#DejaVuSans-73\"/>\r\n     <use x=\"2113.130859\" xlink:href=\"#DejaVuSans-74\"/>\r\n     <use x=\"2152.339844\" xlink:href=\"#DejaVuSans-65\"/>\r\n     <use x=\"2213.863281\" xlink:href=\"#DejaVuSans-70\"/>\r\n     <use x=\"2277.339844\" xlink:href=\"#DejaVuSans-5f\"/>\r\n     <use x=\"2327.339844\" xlink:href=\"#DejaVuSans-73\"/>\r\n     <use x=\"2379.439453\" xlink:href=\"#DejaVuSans-69\"/>\r\n     <use x=\"2407.222656\" xlink:href=\"#DejaVuSans-7a\"/>\r\n     <use x=\"2459.712891\" xlink:href=\"#DejaVuSans-65\"/>\r\n     <use x=\"2521.236328\" xlink:href=\"#DejaVuSans-3a\"/>\r\n     <use x=\"2554.927734\" xlink:href=\"#DejaVuSans-36\"/>\r\n     <use x=\"2618.550781\" xlink:href=\"#DejaVuSans-35\"/>\r\n     <use x=\"2682.173828\" xlink:href=\"#DejaVuSans-35\"/>\r\n     <use x=\"2745.796875\" xlink:href=\"#DejaVuSans-33\"/>\r\n     <use x=\"2809.419922\" xlink:href=\"#DejaVuSans-36\"/>\r\n     <use x=\"2873.042969\" xlink:href=\"#DejaVuSans-20\"/>\r\n    </g>\r\n   </g>\r\n  </g>\r\n </g>\r\n <defs>\r\n  <clipPath id=\"p956a828ecb\">\r\n   <rect height=\"217.44\" width=\"217.44\" x=\"72.770625\" y=\"22.318125\"/>\r\n  </clipPath>\r\n </defs>\r\n</svg>\r\n",
      "image/png": "[encoded data removed]"
     },
     "metadata": {
      "needs_background": "light"
     }
    }
   ],
   "metadata": {}
  },
  {
   "cell_type": "code",
   "execution_count": null,
   "source": [],
   "outputs": [],
   "metadata": {}
  }
 ],
 "metadata": {
  "orig_nbformat": 4,
  "language_info": {
   "name": "python",
   "version": "3.8.10",
   "mimetype": "text/x-python",
   "codemirror_mode": {
    "name": "ipython",
    "version": 3
   },
   "pygments_lexer": "ipython3",
   "nbconvert_exporter": "python",
   "file_extension": ".py"
  },
  "kernelspec": {
   "name": "python3",
   "display_name": "Python 3.8.10 64-bit ('venv': venv)"
  },
  "interpreter": {
   "hash": "84610996db004f1ab797fdf58a5876ad486b74924d88626040ef19d1e5528dc1"
  }
 },
 "nbformat": 4,
 "nbformat_minor": 2
}