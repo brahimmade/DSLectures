{
 "cells": [
  {
   "cell_type": "markdown",
   "source": [
    "## Libraries"
   ],
   "metadata": {}
  },
  {
   "cell_type": "code",
   "execution_count": 1,
   "source": [
    "from enum import Enum\n",
    "import copy\n",
    "import random\n",
    "import numpy as np\n",
    "\n",
    "import matplotlib.pyplot as plt\n",
    "import matplotlib.animation as animation\n",
    "from mpl_toolkits.mplot3d import Axes3D\n",
    "from matplotlib import cm\n",
    "%matplotlib inline \n",
    "\n",
    "from environment import *\n",
    "from mc import *\n",
    "from td import *\n",
    "from linearApprox import *\n",
    "\n",
    "random.seed(1)"
   ],
   "outputs": [],
   "metadata": {}
  },
  {
   "cell_type": "code",
   "execution_count": 5,
   "source": [
    "N0 = 100\n",
    "mlambda = 1\n",
    "agent = Linear_Approximation_Agent(Environment(), N0, mlambda, gamma=1)\n",
    "agent.train(100000)"
   ],
   "outputs": [
    {
     "output_type": "stream",
     "name": "stderr",
     "text": [
      "100%|██████████| 100000/100000 [00:13<00:00, 7321.29it/s]"
     ]
    },
    {
     "output_type": "stream",
     "name": "stdout",
     "text": [
      "52.117999999999995\n"
     ]
    },
    {
     "output_type": "stream",
     "name": "stderr",
     "text": [
      "\n"
     ]
    }
   ],
   "metadata": {}
  },
  {
   "cell_type": "code",
   "execution_count": 6,
   "source": [
    "N0 = 100\n",
    "mlambda = 1\n",
    "agent = MC_Agent(Environment(), N0)\n",
    "agent.train(100000)"
   ],
   "outputs": [
    {
     "output_type": "stream",
     "name": "stderr",
     "text": [
      "100%|██████████| 100000/100000 [00:04<00:00, 22883.47it/s]"
     ]
    },
    {
     "output_type": "stream",
     "name": "stdout",
     "text": [
      "51.003\n"
     ]
    },
    {
     "output_type": "stream",
     "name": "stderr",
     "text": [
      "\n"
     ]
    }
   ],
   "metadata": {}
  },
  {
   "cell_type": "markdown",
   "source": [
    "## Monte-Carlo Control in Easy21"
   ],
   "metadata": {}
  },
  {
   "cell_type": "markdown",
   "source": [
    "Apply Monte-Carlo control to Easy21. Initialise the value function to zero. Use a time-varying scalar step-size of αt = 1/N(st,at) and an ε-greedy exploration strategy with εt = N0/(N0 + N(st)), where N0 = 100 is a constant, N(s) is the number of times that state s has been visited, and N(s,a) is the number of times that action a has been selected from state s. Feel free to choose an alternative value for N0, if it helps producing better results. Plot the optimal value function V ∗ (s) = maxa Q∗ (s, a) using similar axes to the following figure taken from Sutton and Barto’s Blackjack example."
   ],
   "metadata": {}
  },
  {
   "cell_type": "code",
   "execution_count": 4,
   "source": [
    "mc_agent = MC_Agent(Environment(), 100)\n",
    "mc_agent.train(100)"
   ],
   "outputs": [
    {
     "output_type": "stream",
     "name": "stderr",
     "text": [
      "100%|██████████| 100/100 [00:00<00:00, 9834.93it/s]\n"
     ]
    }
   ],
   "metadata": {}
  },
  {
   "cell_type": "code",
   "execution_count": 2,
   "source": [
    "def animate(frame):\n",
    "    i = agent.iterations\n",
    "    step_size = i\n",
    "    step_size = max(1, step_size)\n",
    "    step_size = min(step_size, 2 ** 16)\n",
    "    agent.train(step_size, disable_logging=False)\n",
    "\n",
    "    ax.clear()\n",
    "    surf =  agent.plot_frame(ax)\n",
    "    plt.title('MC score:%s frame:%s step_size:%s ' % (float(agent.count_wins)/agent.iterations*100, frame, step_size) )\n",
    "    # plt.draw()\n",
    "    fig.canvas.draw()\n",
    "    return surf"
   ],
   "outputs": [],
   "metadata": {}
  },
  {
   "cell_type": "code",
   "execution_count": 3,
   "source": [
    "N0 = 100\n",
    "agent = MC_Agent(Environment(), N0)\n",
    "fig = plt.figure(\"N100\")\n",
    "ax = fig.add_subplot(111, projection='3d')\n",
    "\n",
    "ani = animation.FuncAnimation(fig, animate, 32, repeat=False)\n",
    "\n",
    "# note: requires gif writer; swap with plt.show()\n",
    "ani.save('MC_Agent.gif', writer='imagemagick', fps=3)\n",
    "# plt.show()"
   ],
   "outputs": [
    {
     "output_type": "stream",
     "name": "stderr",
     "text": [
      "MovieWriter imagemagick unavailable; using Pillow instead.\n",
      "100%|██████████| 1/1 [00:00<00:00, 496.54it/s]\n"
     ]
    },
    {
     "output_type": "stream",
     "name": "stdout",
     "text": [
      "100.0\n"
     ]
    },
    {
     "output_type": "stream",
     "name": "stderr",
     "text": [
      "100%|██████████| 1/1 [00:00<00:00, 3634.58it/s]\n"
     ]
    },
    {
     "output_type": "stream",
     "name": "stdout",
     "text": [
      "50.0\n"
     ]
    },
    {
     "output_type": "stream",
     "name": "stderr",
     "text": [
      "100%|██████████| 2/2 [00:00<00:00, 8933.55it/s]\n"
     ]
    },
    {
     "output_type": "stream",
     "name": "stdout",
     "text": [
      "50.0\n"
     ]
    },
    {
     "output_type": "stream",
     "name": "stderr",
     "text": [
      "100%|██████████| 4/4 [00:00<00:00, 11626.62it/s]\n"
     ]
    },
    {
     "output_type": "stream",
     "name": "stdout",
     "text": [
      "37.5\n"
     ]
    },
    {
     "output_type": "stream",
     "name": "stderr",
     "text": [
      "100%|██████████| 8/8 [00:00<00:00, 19949.13it/s]\n"
     ]
    },
    {
     "output_type": "stream",
     "name": "stdout",
     "text": [
      "37.5\n"
     ]
    },
    {
     "output_type": "stream",
     "name": "stderr",
     "text": [
      "100%|██████████| 16/16 [00:00<00:00, 11913.52it/s]\n"
     ]
    },
    {
     "output_type": "stream",
     "name": "stdout",
     "text": [
      "43.75\n"
     ]
    },
    {
     "output_type": "stream",
     "name": "stderr",
     "text": [
      "100%|██████████| 32/32 [00:00<00:00, 13145.71it/s]\n"
     ]
    },
    {
     "output_type": "stream",
     "name": "stdout",
     "text": [
      "51.5625\n"
     ]
    },
    {
     "output_type": "stream",
     "name": "stderr",
     "text": [
      "100%|██████████| 64/64 [00:00<00:00, 12048.27it/s]\n"
     ]
    },
    {
     "output_type": "stream",
     "name": "stdout",
     "text": [
      "42.96875\n"
     ]
    },
    {
     "output_type": "stream",
     "name": "stderr",
     "text": [
      "100%|██████████| 128/128 [00:00<00:00, 22133.53it/s]\n"
     ]
    },
    {
     "output_type": "stream",
     "name": "stdout",
     "text": [
      "45.3125\n"
     ]
    },
    {
     "output_type": "stream",
     "name": "stderr",
     "text": [
      "100%|██████████| 256/256 [00:00<00:00, 16068.21it/s]\n"
     ]
    },
    {
     "output_type": "stream",
     "name": "stdout",
     "text": [
      "44.3359375\n"
     ]
    },
    {
     "output_type": "stream",
     "name": "stderr",
     "text": [
      "100%|██████████| 512/512 [00:00<00:00, 15884.81it/s]\n"
     ]
    },
    {
     "output_type": "stream",
     "name": "stdout",
     "text": [
      "45.01953125\n"
     ]
    },
    {
     "output_type": "stream",
     "name": "stderr",
     "text": [
      "100%|██████████| 1024/1024 [00:00<00:00, 7391.37it/s]\n"
     ]
    },
    {
     "output_type": "stream",
     "name": "stdout",
     "text": [
      "46.630859375\n"
     ]
    },
    {
     "output_type": "stream",
     "name": "stderr",
     "text": [
      "100%|██████████| 2048/2048 [00:00<00:00, 11690.84it/s]\n"
     ]
    },
    {
     "output_type": "stream",
     "name": "stdout",
     "text": [
      "47.4853515625\n"
     ]
    },
    {
     "output_type": "stream",
     "name": "stderr",
     "text": [
      "100%|██████████| 4096/4096 [00:00<00:00, 10180.11it/s]\n"
     ]
    },
    {
     "output_type": "stream",
     "name": "stdout",
     "text": [
      "47.6318359375\n"
     ]
    },
    {
     "output_type": "stream",
     "name": "stderr",
     "text": [
      "100%|██████████| 8192/8192 [00:00<00:00, 18316.90it/s]\n"
     ]
    },
    {
     "output_type": "stream",
     "name": "stdout",
     "text": [
      "48.114013671875\n"
     ]
    },
    {
     "output_type": "stream",
     "name": "stderr",
     "text": [
      "100%|██████████| 16384/16384 [00:01<00:00, 16222.86it/s]\n"
     ]
    },
    {
     "output_type": "stream",
     "name": "stdout",
     "text": [
      "49.4293212890625\n"
     ]
    },
    {
     "output_type": "stream",
     "name": "stderr",
     "text": [
      "100%|██████████| 32768/32768 [00:01<00:00, 19724.86it/s]\n"
     ]
    },
    {
     "output_type": "stream",
     "name": "stdout",
     "text": [
      "50.32501220703125\n"
     ]
    },
    {
     "output_type": "stream",
     "name": "stderr",
     "text": [
      "100%|██████████| 65536/65536 [00:03<00:00, 19860.06it/s]\n"
     ]
    },
    {
     "output_type": "stream",
     "name": "stdout",
     "text": [
      "51.13372802734375\n"
     ]
    },
    {
     "output_type": "stream",
     "name": "stderr",
     "text": [
      "100%|██████████| 65536/65536 [00:03<00:00, 17079.89it/s]\n"
     ]
    },
    {
     "output_type": "stream",
     "name": "stdout",
     "text": [
      "51.467386881510414\n"
     ]
    },
    {
     "output_type": "stream",
     "name": "stderr",
     "text": [
      "100%|██████████| 65536/65536 [00:04<00:00, 16135.78it/s]\n"
     ]
    },
    {
     "output_type": "stream",
     "name": "stdout",
     "text": [
      "51.6754150390625\n"
     ]
    },
    {
     "output_type": "stream",
     "name": "stderr",
     "text": [
      "100%|██████████| 65536/65536 [00:04<00:00, 15446.09it/s]\n"
     ]
    },
    {
     "output_type": "stream",
     "name": "stdout",
     "text": [
      "51.77032470703124\n"
     ]
    },
    {
     "output_type": "stream",
     "name": "stderr",
     "text": [
      "100%|██████████| 65536/65536 [00:03<00:00, 17416.55it/s]\n"
     ]
    },
    {
     "output_type": "stream",
     "name": "stdout",
     "text": [
      "51.82011922200521\n"
     ]
    },
    {
     "output_type": "stream",
     "name": "stderr",
     "text": [
      "100%|██████████| 65536/65536 [00:03<00:00, 16746.71it/s]\n"
     ]
    },
    {
     "output_type": "stream",
     "name": "stdout",
     "text": [
      "51.91105433872768\n"
     ]
    },
    {
     "output_type": "stream",
     "name": "stderr",
     "text": [
      "100%|██████████| 65536/65536 [00:03<00:00, 16928.48it/s]\n"
     ]
    },
    {
     "output_type": "stream",
     "name": "stdout",
     "text": [
      "51.975059509277344\n"
     ]
    },
    {
     "output_type": "stream",
     "name": "stderr",
     "text": [
      "100%|██████████| 65536/65536 [00:03<00:00, 17063.20it/s]\n"
     ]
    },
    {
     "output_type": "stream",
     "name": "stdout",
     "text": [
      "51.985677083333336\n"
     ]
    },
    {
     "output_type": "stream",
     "name": "stderr",
     "text": [
      "100%|██████████| 65536/65536 [00:04<00:00, 13458.05it/s]\n"
     ]
    },
    {
     "output_type": "stream",
     "name": "stdout",
     "text": [
      "52.01461791992188\n"
     ]
    },
    {
     "output_type": "stream",
     "name": "stderr",
     "text": [
      "100%|██████████| 65536/65536 [00:03<00:00, 16595.65it/s]\n"
     ]
    },
    {
     "output_type": "stream",
     "name": "stdout",
     "text": [
      "52.03455144708807\n"
     ]
    },
    {
     "output_type": "stream",
     "name": "stderr",
     "text": [
      "100%|██████████| 65536/65536 [00:04<00:00, 14986.49it/s]\n"
     ]
    },
    {
     "output_type": "stream",
     "name": "stdout",
     "text": [
      "52.065277099609375\n"
     ]
    },
    {
     "output_type": "stream",
     "name": "stderr",
     "text": [
      "100%|██████████| 65536/65536 [00:03<00:00, 19579.96it/s]\n"
     ]
    },
    {
     "output_type": "stream",
     "name": "stdout",
     "text": [
      "52.08658071664664\n"
     ]
    },
    {
     "output_type": "stream",
     "name": "stderr",
     "text": [
      "100%|██████████| 65536/65536 [00:03<00:00, 19365.84it/s]\n"
     ]
    },
    {
     "output_type": "stream",
     "name": "stdout",
     "text": [
      "52.125440325055806\n"
     ]
    },
    {
     "output_type": "stream",
     "name": "stderr",
     "text": [
      "100%|██████████| 65536/65536 [00:03<00:00, 19481.85it/s]\n"
     ]
    },
    {
     "output_type": "stream",
     "name": "stdout",
     "text": [
      "52.144775390625\n"
     ]
    },
    {
     "output_type": "stream",
     "name": "stderr",
     "text": [
      "100%|██████████| 65536/65536 [00:03<00:00, 20178.20it/s]\n"
     ]
    },
    {
     "output_type": "stream",
     "name": "stdout",
     "text": [
      "52.1510124206543\n"
     ]
    },
    {
     "output_type": "stream",
     "name": "stderr",
     "text": [
      "100%|██████████| 65536/65536 [00:03<00:00, 20138.49it/s]\n"
     ]
    },
    {
     "output_type": "stream",
     "name": "stdout",
     "text": [
      "52.15552834903493\n"
     ]
    },
    {
     "output_type": "display_data",
     "data": {
      "text/plain": [
       "<Figure size 432x288 with 1 Axes>"
      ],
      "image/svg+xml": "<?xml version=\"1.0\" encoding=\"utf-8\" standalone=\"no\"?>\n<!DOCTYPE svg PUBLIC \"-//W3C//DTD SVG 1.1//EN\"\n  \"http://www.w3.org/Graphics/SVG/1.1/DTD/svg11.dtd\">\n<svg height=\"252.746224pt\" version=\"1.1\" viewBox=\"0 0 362.98125 252.746224\" width=\"362.98125pt\" xmlns=\"http://www.w3.org/2000/svg\" xmlns:xlink=\"http://www.w3.org/1999/xlink\">\n <metadata>\n  <rdf:RDF xmlns:cc=\"http://creativecommons.org/ns#\" xmlns:dc=\"http://purl.org/dc/elements/1.1/\" xmlns:rdf=\"http://www.w3.org/1999/02/22-rdf-syntax-ns#\">\n   <cc:Work>\n    <dc:type rdf:resource=\"http://purl.org/dc/dcmitype/StillImage\"/>\n    <dc:date>2021-08-24T22:47:32.552490</dc:date>\n    <dc:format>image/svg+xml</dc:format>\n    <dc:creator>\n     <cc:Agent>\n      <dc:title>Matplotlib v3.4.3, https://matplotlib.org/</dc:title>\n     </cc:Agent>\n    </dc:creator>\n   </cc:Work>\n  </rdf:RDF>\n </metadata>\n <defs>\n  <style type=\"text/css\">*{stroke-linecap:butt;stroke-linejoin:round;}</style>\n </defs>\n <g id=\"figure_1\">\n  <g id=\"patch_1\">\n   <path d=\"M 0 252.746224 \nL 362.98125 252.746224 \nL 362.98125 0 \nL 0 0 \nz\n\" style=\"fill:none;\"/>\n  </g>\n  <g id=\"patch_2\">\n   <path d=\"M 72.770625 239.758125 \nL 290.210625 239.758125 \nL 290.210625 22.318125 \nL 72.770625 22.318125 \nz\n\" style=\"fill:#ffffff;\"/>\n  </g>\n  <g id=\"pane3d_1\">\n   <g id=\"patch_3\">\n    <path d=\"M 89.188845 186.144389 \nL 160.994634 125.955353 \nL 159.996465 39.152003 \nL 84.754398 94.060236 \n\" style=\"fill:#f2f2f2;opacity:0.5;stroke:#f2f2f2;stroke-linejoin:miter;\"/>\n   </g>\n  </g>\n  <g id=\"pane3d_2\">\n   <g id=\"patch_4\">\n    <path d=\"M 160.994634 125.955353 \nL 276.217305 159.446035 \nL 280.329196 69.652843 \nL 159.996465 39.152003 \n\" style=\"fill:#e6e6e6;opacity:0.5;stroke:#e6e6e6;stroke-linejoin:miter;\"/>\n   </g>\n  </g>\n  <g id=\"pane3d_3\">\n   <g id=\"patch_5\">\n    <path d=\"M 89.188845 186.144389 \nL 211.330504 226.035855 \nL 276.217305 159.446035 \nL 160.994634 125.955353 \n\" style=\"fill:#ececec;opacity:0.5;stroke:#ececec;stroke-linejoin:miter;\"/>\n   </g>\n  </g>\n  <g id=\"axis3d_1\">\n   <g id=\"line2d_1\">\n    <path d=\"M 89.188845 186.144389 \nL 211.330504 226.035855 \n\" style=\"fill:none;stroke:#000000;stroke-linecap:square;stroke-width:0.8;\"/>\n   </g>\n   <g id=\"Line3DCollection_1\">\n    <path d=\"M 96.586384 188.560426 \nL 168.002124 127.992154 \nL 167.300237 41.003296 \n\" style=\"fill:none;stroke:#b0b0b0;stroke-width:0.8;\"/>\n    <path d=\"M 119.433584 196.022321 \nL 189.620974 134.2759 \nL 189.844959 46.717726 \n\" style=\"fill:none;stroke:#b0b0b0;stroke-width:0.8;\"/>\n    <path d=\"M 142.746848 203.636433 \nL 211.644012 140.677128 \nL 212.829542 52.543648 \n\" style=\"fill:none;stroke:#b0b0b0;stroke-width:0.8;\"/>\n    <path d=\"M 166.540584 211.407467 \nL 234.082681 147.199163 \nL 236.266984 58.484356 \n\" style=\"fill:none;stroke:#b0b0b0;stroke-width:0.8;\"/>\n    <path d=\"M 190.8298 219.340325 \nL 256.948858 153.845458 \nL 260.170803 64.543277 \n\" style=\"fill:none;stroke:#b0b0b0;stroke-width:0.8;\"/>\n   </g>\n   <g id=\"xtick_1\">\n    <g id=\"line2d_2\">\n     <path d=\"M 97.208269 188.033001 \nL 95.339947 189.617539 \n\" style=\"fill:none;stroke:#000000;stroke-linecap:square;stroke-width:0.8;\"/>\n    </g>\n    <g id=\"text_1\">\n     <!-- 0 -->\n     <g transform=\"translate(85.869815 211.882658)scale(0.1 -0.1)\">\n      <defs>\n       <path d=\"M 2034 4250 \nQ 1547 4250 1301 3770 \nQ 1056 3291 1056 2328 \nQ 1056 1369 1301 889 \nQ 1547 409 2034 409 \nQ 2525 409 2770 889 \nQ 3016 1369 3016 2328 \nQ 3016 3291 2770 3770 \nQ 2525 4250 2034 4250 \nz\nM 2034 4750 \nQ 2819 4750 3233 4129 \nQ 3647 3509 3647 2328 \nQ 3647 1150 3233 529 \nQ 2819 -91 2034 -91 \nQ 1250 -91 836 529 \nQ 422 1150 422 2328 \nQ 422 3509 836 4129 \nQ 1250 4750 2034 4750 \nz\n\" id=\"DejaVuSans-30\" transform=\"scale(0.015625)\"/>\n      </defs>\n      <use xlink:href=\"#DejaVuSans-30\"/>\n     </g>\n    </g>\n   </g>\n   <g id=\"xtick_2\">\n    <g id=\"line2d_3\">\n     <path d=\"M 120.045274 195.484196 \nL 118.207555 197.100905 \n\" style=\"fill:none;stroke:#000000;stroke-linecap:square;stroke-width:0.8;\"/>\n    </g>\n    <g id=\"text_2\">\n     <!-- 2 -->\n     <g transform=\"translate(108.745665 219.53836)scale(0.1 -0.1)\">\n      <defs>\n       <path d=\"M 1228 531 \nL 3431 531 \nL 3431 0 \nL 469 0 \nL 469 531 \nQ 828 903 1448 1529 \nQ 2069 2156 2228 2338 \nQ 2531 2678 2651 2914 \nQ 2772 3150 2772 3378 \nQ 2772 3750 2511 3984 \nQ 2250 4219 1831 4219 \nQ 1534 4219 1204 4116 \nQ 875 4013 500 3803 \nL 500 4441 \nQ 881 4594 1212 4672 \nQ 1544 4750 1819 4750 \nQ 2544 4750 2975 4387 \nQ 3406 4025 3406 3419 \nQ 3406 3131 3298 2873 \nQ 3191 2616 2906 2266 \nQ 2828 2175 2409 1742 \nQ 1991 1309 1228 531 \nz\n\" id=\"DejaVuSans-32\" transform=\"scale(0.015625)\"/>\n      </defs>\n      <use xlink:href=\"#DejaVuSans-32\"/>\n     </g>\n    </g>\n   </g>\n   <g id=\"xtick_3\">\n    <g id=\"line2d_4\">\n     <path d=\"M 143.347795 203.087279 \nL 141.542323 204.737147 \n\" style=\"fill:none;stroke:#000000;stroke-linecap:square;stroke-width:0.8;\"/>\n    </g>\n    <g id=\"text_3\">\n     <!-- 4 -->\n     <g transform=\"translate(132.090332 227.350958)scale(0.1 -0.1)\">\n      <defs>\n       <path d=\"M 2419 4116 \nL 825 1625 \nL 2419 1625 \nL 2419 4116 \nz\nM 2253 4666 \nL 3047 4666 \nL 3047 1625 \nL 3713 1625 \nL 3713 1100 \nL 3047 1100 \nL 3047 0 \nL 2419 0 \nL 2419 1100 \nL 313 1100 \nL 313 1709 \nL 2253 4666 \nz\n\" id=\"DejaVuSans-34\" transform=\"scale(0.015625)\"/>\n      </defs>\n      <use xlink:href=\"#DejaVuSans-34\"/>\n     </g>\n    </g>\n   </g>\n   <g id=\"xtick_4\">\n    <g id=\"line2d_5\">\n     <path d=\"M 167.130214 210.846941 \nL 165.358716 212.531 \n\" style=\"fill:none;stroke:#000000;stroke-linecap:square;stroke-width:0.8;\"/>\n    </g>\n    <g id=\"text_4\">\n     <!-- 6 -->\n     <g transform=\"translate(155.918377 235.325325)scale(0.1 -0.1)\">\n      <defs>\n       <path d=\"M 2113 2584 \nQ 1688 2584 1439 2293 \nQ 1191 2003 1191 1497 \nQ 1191 994 1439 701 \nQ 1688 409 2113 409 \nQ 2538 409 2786 701 \nQ 3034 994 3034 1497 \nQ 3034 2003 2786 2293 \nQ 2538 2584 2113 2584 \nz\nM 3366 4563 \nL 3366 3988 \nQ 3128 4100 2886 4159 \nQ 2644 4219 2406 4219 \nQ 1781 4219 1451 3797 \nQ 1122 3375 1075 2522 \nQ 1259 2794 1537 2939 \nQ 1816 3084 2150 3084 \nQ 2853 3084 3261 2657 \nQ 3669 2231 3669 1497 \nQ 3669 778 3244 343 \nQ 2819 -91 2113 -91 \nQ 1303 -91 875 529 \nQ 447 1150 447 2328 \nQ 447 3434 972 4092 \nQ 1497 4750 2381 4750 \nQ 2619 4750 2861 4703 \nQ 3103 4656 3366 4563 \nz\n\" id=\"DejaVuSans-36\" transform=\"scale(0.015625)\"/>\n      </defs>\n      <use xlink:href=\"#DejaVuSans-36\"/>\n     </g>\n    </g>\n   </g>\n   <g id=\"xtick_5\">\n    <g id=\"line2d_6\">\n     <path d=\"M 191.407509 218.76807 \nL 189.671799 220.487394 \n\" style=\"fill:none;stroke:#000000;stroke-linecap:square;stroke-width:0.8;\"/>\n    </g>\n    <g id=\"text_5\">\n     <!-- 8 -->\n     <g transform=\"translate(180.244969 243.466536)scale(0.1 -0.1)\">\n      <defs>\n       <path d=\"M 2034 2216 \nQ 1584 2216 1326 1975 \nQ 1069 1734 1069 1313 \nQ 1069 891 1326 650 \nQ 1584 409 2034 409 \nQ 2484 409 2743 651 \nQ 3003 894 3003 1313 \nQ 3003 1734 2745 1975 \nQ 2488 2216 2034 2216 \nz\nM 1403 2484 \nQ 997 2584 770 2862 \nQ 544 3141 544 3541 \nQ 544 4100 942 4425 \nQ 1341 4750 2034 4750 \nQ 2731 4750 3128 4425 \nQ 3525 4100 3525 3541 \nQ 3525 3141 3298 2862 \nQ 3072 2584 2669 2484 \nQ 3125 2378 3379 2068 \nQ 3634 1759 3634 1313 \nQ 3634 634 3220 271 \nQ 2806 -91 2034 -91 \nQ 1263 -91 848 271 \nQ 434 634 434 1313 \nQ 434 1759 690 2068 \nQ 947 2378 1403 2484 \nz\nM 1172 3481 \nQ 1172 3119 1398 2916 \nQ 1625 2713 2034 2713 \nQ 2441 2713 2670 2916 \nQ 2900 3119 2900 3481 \nQ 2900 3844 2670 4047 \nQ 2441 4250 2034 4250 \nQ 1625 4250 1398 4047 \nQ 1172 3844 1172 3481 \nz\n\" id=\"DejaVuSans-38\" transform=\"scale(0.015625)\"/>\n      </defs>\n      <use xlink:href=\"#DejaVuSans-38\"/>\n     </g>\n    </g>\n   </g>\n  </g>\n  <g id=\"axis3d_2\">\n   <g id=\"line2d_7\">\n    <path d=\"M 276.217305 159.446035 \nL 211.330504 226.035855 \n\" style=\"fill:none;stroke:#000000;stroke-linecap:square;stroke-width:0.8;\"/>\n   </g>\n   <g id=\"Line3DCollection_2\">\n    <path d=\"M 89.957573 90.263196 \nL 94.13687 181.996856 \nL 215.820168 221.428355 \n\" style=\"fill:none;stroke:#b0b0b0;stroke-width:0.8;\"/>\n    <path d=\"M 107.340837 77.577681 \nL 110.686535 168.124599 \nL 230.816885 206.038034 \n\" style=\"fill:none;stroke:#b0b0b0;stroke-width:0.8;\"/>\n    <path d=\"M 124.049162 65.384707 \nL 126.620996 154.768018 \nL 245.227289 191.249414 \n\" style=\"fill:none;stroke:#b0b0b0;stroke-width:0.8;\"/>\n    <path d=\"M 140.121108 53.656133 \nL 141.973931 141.898883 \nL 259.085106 177.027886 \n\" style=\"fill:none;stroke:#b0b0b0;stroke-width:0.8;\"/>\n    <path d=\"M 155.592352 42.365924 \nL 156.776605 129.490989 \nL 272.421521 163.341442 \n\" style=\"fill:none;stroke:#b0b0b0;stroke-width:0.8;\"/>\n   </g>\n   <g id=\"xtick_6\">\n    <g id=\"line2d_8\">\n     <path d=\"M 214.79474 221.096064 \nL 217.873678 222.093795 \n\" style=\"fill:none;stroke:#000000;stroke-linecap:square;stroke-width:0.8;\"/>\n    </g>\n    <g id=\"text_6\">\n     <!-- 0 -->\n     <g transform=\"translate(225.521279 242.451884)scale(0.1 -0.1)\">\n      <use xlink:href=\"#DejaVuSans-30\"/>\n     </g>\n    </g>\n   </g>\n   <g id=\"xtick_7\">\n    <g id=\"line2d_9\">\n     <path d=\"M 229.805565 205.718859 \nL 232.842088 206.677193 \n\" style=\"fill:none;stroke:#000000;stroke-linecap:square;stroke-width:0.8;\"/>\n    </g>\n    <g id=\"text_7\">\n     <!-- 5 -->\n     <g transform=\"translate(240.271737 226.782651)scale(0.1 -0.1)\">\n      <defs>\n       <path d=\"M 691 4666 \nL 3169 4666 \nL 3169 4134 \nL 1269 4134 \nL 1269 2991 \nQ 1406 3038 1543 3061 \nQ 1681 3084 1819 3084 \nQ 2600 3084 3056 2656 \nQ 3513 2228 3513 1497 \nQ 3513 744 3044 326 \nQ 2575 -91 1722 -91 \nQ 1428 -91 1123 -41 \nQ 819 9 494 109 \nL 494 744 \nQ 775 591 1075 516 \nQ 1375 441 1709 441 \nQ 2250 441 2565 725 \nQ 2881 1009 2881 1497 \nQ 2881 1984 2565 2268 \nQ 2250 2553 1709 2553 \nQ 1456 2553 1204 2497 \nQ 953 2441 691 2322 \nL 691 4666 \nz\n\" id=\"DejaVuSans-35\" transform=\"scale(0.015625)\"/>\n      </defs>\n      <use xlink:href=\"#DejaVuSans-35\"/>\n     </g>\n    </g>\n   </g>\n   <g id=\"xtick_8\">\n    <g id=\"line2d_10\">\n     <path d=\"M 244.22977 190.942593 \nL 247.224807 191.863819 \n\" style=\"fill:none;stroke:#000000;stroke-linecap:square;stroke-width:0.8;\"/>\n    </g>\n    <g id=\"text_8\">\n     <!-- 10 -->\n     <g transform=\"translate(251.263855 211.726453)scale(0.1 -0.1)\">\n      <defs>\n       <path d=\"M 794 531 \nL 1825 531 \nL 1825 4091 \nL 703 3866 \nL 703 4441 \nL 1819 4666 \nL 2450 4666 \nL 2450 531 \nL 3481 531 \nL 3481 0 \nL 794 0 \nL 794 531 \nz\n\" id=\"DejaVuSans-31\" transform=\"scale(0.015625)\"/>\n      </defs>\n      <use xlink:href=\"#DejaVuSans-31\"/>\n      <use x=\"63.623047\" xlink:href=\"#DejaVuSans-30\"/>\n     </g>\n    </g>\n   </g>\n   <g id=\"xtick_9\">\n    <g id=\"line2d_11\">\n     <path d=\"M 258.101082 176.732715 \nL 261.055552 177.618946 \n\" style=\"fill:none;stroke:#000000;stroke-linecap:square;stroke-width:0.8;\"/>\n    </g>\n    <g id=\"text_9\">\n     <!-- 15 -->\n     <g transform=\"translate(264.893349 197.248007)scale(0.1 -0.1)\">\n      <use xlink:href=\"#DejaVuSans-31\"/>\n      <use x=\"63.623047\" xlink:href=\"#DejaVuSans-35\"/>\n     </g>\n    </g>\n   </g>\n   <g id=\"xtick_10\">\n    <g id=\"line2d_12\">\n     <path d=\"M 271.450693 163.057271 \nL 274.3655 163.910465 \n\" style=\"fill:none;stroke:#000000;stroke-linecap:square;stroke-width:0.8;\"/>\n    </g>\n    <g id=\"text_10\">\n     <!-- 20 -->\n     <g transform=\"translate(278.009685 183.314681)scale(0.1 -0.1)\">\n      <use xlink:href=\"#DejaVuSans-32\"/>\n      <use x=\"63.623047\" xlink:href=\"#DejaVuSans-30\"/>\n     </g>\n    </g>\n   </g>\n  </g>\n  <g id=\"axis3d_3\">\n   <g id=\"line2d_13\">\n    <path d=\"M 276.217305 159.446035 \nL 280.329196 69.652843 \n\" style=\"fill:none;stroke:#000000;stroke-linecap:square;stroke-width:0.8;\"/>\n   </g>\n   <g id=\"Line3DCollection_3\">\n    <path d=\"M 276.610736 150.854519 \nL 160.898945 117.63404 \nL 88.765198 177.347097 \n\" style=\"fill:none;stroke:#b0b0b0;stroke-width:0.8;\"/>\n    <path d=\"M 277.196922 138.053714 \nL 160.756447 105.242058 \nL 88.133739 164.234436 \n\" style=\"fill:none;stroke:#b0b0b0;stroke-width:0.8;\"/>\n    <path d=\"M 277.79061 125.089066 \nL 160.612213 92.69907 \nL 87.493888 150.947516 \n\" style=\"fill:none;stroke:#b0b0b0;stroke-width:0.8;\"/>\n    <path d=\"M 278.391947 111.957409 \nL 160.46621 80.002299 \nL 86.845477 137.48284 \n\" style=\"fill:none;stroke:#b0b0b0;stroke-width:0.8;\"/>\n    <path d=\"M 279.00108 98.655495 \nL 160.318407 67.148899 \nL 86.188333 123.836817 \n\" style=\"fill:none;stroke:#b0b0b0;stroke-width:0.8;\"/>\n    <path d=\"M 279.618163 85.179991 \nL 160.168768 54.135955 \nL 85.522278 110.005759 \n\" style=\"fill:none;stroke:#b0b0b0;stroke-width:0.8;\"/>\n    <path d=\"M 280.243351 71.527477 \nL 160.017261 40.960476 \nL 84.84713 95.985876 \n\" style=\"fill:none;stroke:#b0b0b0;stroke-width:0.8;\"/>\n   </g>\n   <g id=\"xtick_11\">\n    <g id=\"line2d_14\">\n     <path d=\"M 275.6394 150.575652 \nL 278.555726 151.41292 \n\" style=\"fill:none;stroke:#000000;stroke-linecap:square;stroke-width:0.8;\"/>\n    </g>\n    <g id=\"text_11\">\n     <!-- −0.2 -->\n     <g transform=\"translate(282.782159 155.870228)scale(0.1 -0.1)\">\n      <defs>\n       <path d=\"M 678 2272 \nL 4684 2272 \nL 4684 1741 \nL 678 1741 \nL 678 2272 \nz\n\" id=\"DejaVuSans-2212\" transform=\"scale(0.015625)\"/>\n       <path d=\"M 684 794 \nL 1344 794 \nL 1344 0 \nL 684 0 \nL 684 794 \nz\n\" id=\"DejaVuSans-2e\" transform=\"scale(0.015625)\"/>\n      </defs>\n      <use xlink:href=\"#DejaVuSans-2212\"/>\n      <use x=\"83.789062\" xlink:href=\"#DejaVuSans-30\"/>\n      <use x=\"147.412109\" xlink:href=\"#DejaVuSans-2e\"/>\n      <use x=\"179.199219\" xlink:href=\"#DejaVuSans-32\"/>\n     </g>\n    </g>\n   </g>\n   <g id=\"xtick_12\">\n    <g id=\"line2d_15\">\n     <path d=\"M 276.219177 137.778197 \nL 279.15476 138.605412 \n\" style=\"fill:none;stroke:#000000;stroke-linecap:square;stroke-width:0.8;\"/>\n    </g>\n    <g id=\"text_12\">\n     <!-- 0.0 -->\n     <g transform=\"translate(287.672037 143.100498)scale(0.1 -0.1)\">\n      <use xlink:href=\"#DejaVuSans-30\"/>\n      <use x=\"63.623047\" xlink:href=\"#DejaVuSans-2e\"/>\n      <use x=\"95.410156\" xlink:href=\"#DejaVuSans-30\"/>\n     </g>\n    </g>\n   </g>\n   <g id=\"xtick_13\">\n    <g id=\"line2d_16\">\n     <path d=\"M 276.806372 124.817007 \nL 279.761468 125.633843 \n\" style=\"fill:none;stroke:#000000;stroke-linecap:square;stroke-width:0.8;\"/>\n    </g>\n    <g id=\"text_13\">\n     <!-- 0.2 -->\n     <g transform=\"translate(288.380998 130.167933)scale(0.1 -0.1)\">\n      <use xlink:href=\"#DejaVuSans-30\"/>\n      <use x=\"63.623047\" xlink:href=\"#DejaVuSans-2e\"/>\n      <use x=\"95.410156\" xlink:href=\"#DejaVuSans-32\"/>\n     </g>\n    </g>\n   </g>\n   <g id=\"xtick_14\">\n    <g id=\"line2d_17\">\n     <path d=\"M 277.401129 111.688921 \nL 280.375997 112.49504 \n\" style=\"fill:none;stroke:#000000;stroke-linecap:square;stroke-width:0.8;\"/>\n    </g>\n    <g id=\"text_14\">\n     <!-- 0.4 -->\n     <g transform=\"translate(289.099056 117.069397)scale(0.1 -0.1)\">\n      <use xlink:href=\"#DejaVuSans-30\"/>\n      <use x=\"63.623047\" xlink:href=\"#DejaVuSans-2e\"/>\n      <use x=\"95.410156\" xlink:href=\"#DejaVuSans-34\"/>\n     </g>\n    </g>\n   </g>\n   <g id=\"xtick_15\">\n    <g id=\"line2d_18\">\n     <path d=\"M 278.003593 98.390693 \nL 280.9985 99.185749 \n\" style=\"fill:none;stroke:#000000;stroke-linecap:square;stroke-width:0.8;\"/>\n    </g>\n    <g id=\"text_15\">\n     <!-- 0.6 -->\n     <g transform=\"translate(289.82639 103.801676)scale(0.1 -0.1)\">\n      <use xlink:href=\"#DejaVuSans-30\"/>\n      <use x=\"63.623047\" xlink:href=\"#DejaVuSans-2e\"/>\n      <use x=\"95.410156\" xlink:href=\"#DejaVuSans-36\"/>\n     </g>\n    </g>\n   </g>\n   <g id=\"xtick_16\">\n    <g id=\"line2d_19\">\n     <path d=\"M 278.613916 84.918995 \nL 281.629134 85.702628 \n\" style=\"fill:none;stroke:#000000;stroke-linecap:square;stroke-width:0.8;\"/>\n    </g>\n    <g id=\"text_16\">\n     <!-- 0.8 -->\n     <g transform=\"translate(290.56318 90.361468)scale(0.1 -0.1)\">\n      <use xlink:href=\"#DejaVuSans-30\"/>\n      <use x=\"63.623047\" xlink:href=\"#DejaVuSans-2e\"/>\n      <use x=\"95.410156\" xlink:href=\"#DejaVuSans-38\"/>\n     </g>\n    </g>\n   </g>\n   <g id=\"xtick_17\">\n    <g id=\"line2d_20\">\n     <path d=\"M 279.232253 71.270409 \nL 282.268058 72.042251 \n\" style=\"fill:none;stroke:#000000;stroke-linecap:square;stroke-width:0.8;\"/>\n    </g>\n    <g id=\"text_17\">\n     <!-- 1.0 -->\n     <g transform=\"translate(291.30961 76.74539)scale(0.1 -0.1)\">\n      <use xlink:href=\"#DejaVuSans-31\"/>\n      <use x=\"63.623047\" xlink:href=\"#DejaVuSans-2e\"/>\n      <use x=\"95.410156\" xlink:href=\"#DejaVuSans-30\"/>\n     </g>\n    </g>\n   </g>\n  </g>\n  <g id=\"axes_1\">\n   <g id=\"Poly3DCollection_1\">\n    <path clip-path=\"url(#pd9929794ae)\" d=\"M 148.4225 105.970594 \nL 159.537329 107.906159 \nL 162.489489 99.033846 \nL 151.416863 100.33974 \nz\n\" style=\"fill:#d9dce1;\"/>\n    <path clip-path=\"url(#pd9929794ae)\" d=\"M 151.416863 100.33974 \nL 162.489489 99.033846 \nL 165.4321 89.537278 \nL 154.163986 78.592851 \nz\n\" style=\"fill:#f2cab5;\"/>\n    <path clip-path=\"url(#pd9929794ae)\" d=\"M 154.163986 78.592851 \nL 165.4321 89.537278 \nL 168.321666 73.411108 \nL 157.165149 73.697388 \nz\n\" style=\"fill:#f59c7d;\"/>\n    <path clip-path=\"url(#pd9929794ae)\" d=\"M 145.270436 104.017889 \nL 156.518679 112.17683 \nL 159.537329 107.906159 \nL 148.4225 105.970594 \nz\n\" style=\"fill:#d3dbe7;\"/>\n    <path clip-path=\"url(#pd9929794ae)\" d=\"M 157.165149 73.697388 \nL 168.321666 73.411108 \nL 171.260709 62.444926 \nL 160.009908 56.62736 \nz\n\" style=\"fill:#de614d;\"/>\n    <path clip-path=\"url(#pd9929794ae)\" d=\"M 160.009908 56.62736 \nL 171.260709 62.444926 \nL 174.19587 50.224562 \nL 162.988852 50.810734 \nz\n\" style=\"fill:#b50927;\"/>\n    <path clip-path=\"url(#pd9929794ae)\" d=\"M 162.489489 99.033846 \nL 173.769334 107.752675 \nL 176.691497 92.0805 \nL 165.4321 89.537278 \nz\n\" style=\"fill:#eed0c0;\"/>\n    <path clip-path=\"url(#pd9929794ae)\" d=\"M 159.537329 107.906159 \nL 170.798266 113.668018 \nL 173.769334 107.752675 \nL 162.489489 99.033846 \nz\n\" style=\"fill:#d7dce3;\"/>\n    <path clip-path=\"url(#pd9929794ae)\" d=\"M 170.798266 113.668018 \nL 182.153442 131.53056 \nL 185.096424 117.999549 \nL 173.769334 107.752675 \nz\n\" style=\"fill:#b9d0f9;\"/>\n    <path clip-path=\"url(#pd9929794ae)\" d=\"M 165.4321 89.537278 \nL 176.691497 92.0805 \nL 179.628713 76.114296 \nL 168.321666 73.411108 \nz\n\" style=\"fill:#f5a081;\"/>\n    <path clip-path=\"url(#pd9929794ae)\" d=\"M 156.518679 112.17683 \nL 167.795931 117.292941 \nL 170.798266 113.668018 \nL 159.537329 107.906159 \nz\n\" style=\"fill:#cbd8ee;\"/>\n    <path clip-path=\"url(#pd9929794ae)\" d=\"M 173.769334 107.752675 \nL 185.096424 117.999549 \nL 188.055019 101.025763 \nL 176.691497 92.0805 \nz\n\" style=\"fill:#e1dad6;\"/>\n    <path clip-path=\"url(#pd9929794ae)\" d=\"M 168.321666 73.411108 \nL 179.628713 76.114296 \nL 182.590322 69.329621 \nL 171.260709 62.444926 \nz\n\" style=\"fill:#e0654f;\"/>\n    <path clip-path=\"url(#pd9929794ae)\" d=\"M 142.031414 99.629069 \nL 153.409596 111.646012 \nL 156.518679 112.17683 \nL 145.270436 104.017889 \nz\n\" style=\"fill:#dddcdc;\"/>\n    <path clip-path=\"url(#pd9929794ae)\" d=\"M 171.260709 62.444926 \nL 182.590322 69.329621 \nL 185.547847 51.847228 \nL 174.19587 50.224562 \nz\n\" style=\"fill:#b8122a;\"/>\n    <path clip-path=\"url(#pd9929794ae)\" d=\"M 167.795931 117.292941 \nL 179.170281 125.726448 \nL 182.153442 131.53056 \nL 170.798266 113.668018 \nz\n\" style=\"fill:#b1cbfc;\"/>\n    <path clip-path=\"url(#pd9929794ae)\" d=\"M 182.153442 131.53056 \nL 193.596808 117.819944 \nL 196.474281 125.003255 \nL 185.096424 117.999549 \nz\n\" style=\"fill:#afcafc;\"/>\n    <path clip-path=\"url(#pd9929794ae)\" d=\"M 153.409596 111.646012 \nL 164.79121 122.716135 \nL 167.795931 117.292941 \nL 156.518679 112.17683 \nz\n\" style=\"fill:#c9d7f0;\"/>\n    <path clip-path=\"url(#pd9929794ae)\" d=\"M 176.691497 92.0805 \nL 188.055019 101.025763 \nL 191.043893 80.556794 \nL 179.628713 76.114296 \nz\n\" style=\"fill:#f7a889;\"/>\n    <path clip-path=\"url(#pd9929794ae)\" d=\"M 139.300395 120.282166 \nL 150.333896 115.091499 \nL 153.409596 111.646012 \nL 142.031414 99.629069 \nz\n\" style=\"fill:#d6dce4;\"/>\n    <path clip-path=\"url(#pd9929794ae)\" d=\"M 185.096424 117.999549 \nL 196.474281 125.003255 \nL 199.598477 91.725962 \nL 188.055019 101.025763 \nz\n\" style=\"fill:#dddcdc;\"/>\n    <path clip-path=\"url(#pd9929794ae)\" d=\"M 179.170281 125.726448 \nL 190.589632 136.786782 \nL 193.596808 117.819944 \nL 182.153442 131.53056 \nz\n\" style=\"fill:#a5c3fe;\"/>\n    <path clip-path=\"url(#pd9929794ae)\" d=\"M 164.79121 122.716135 \nL 176.191185 132.562234 \nL 179.170281 125.726448 \nL 167.795931 117.292941 \nz\n\" style=\"fill:#b1cbfc;\"/>\n    <path clip-path=\"url(#pd9929794ae)\" d=\"M 179.628713 76.114296 \nL 191.043893 80.556794 \nL 194.054599 61.589697 \nL 182.590322 69.329621 \nz\n\" style=\"fill:#dc5d4a;\"/>\n    <path clip-path=\"url(#pd9929794ae)\" d=\"M 182.590322 69.329621 \nL 194.054599 61.589697 \nL 196.99174 58.988489 \nL 185.547847 51.847228 \nz\n\" style=\"fill:#b40426;\"/>\n    <path clip-path=\"url(#pd9929794ae)\" d=\"M 135.72301 103.76512 \nL 147.238714 118.621672 \nL 150.333896 115.091499 \nL 139.300395 120.282166 \nz\n\" style=\"fill:#d5dbe5;\"/>\n    <path clip-path=\"url(#pd9929794ae)\" d=\"M 150.333896 115.091499 \nL 161.673612 119.305508 \nL 164.79121 122.716135 \nL 153.409596 111.646012 \nz\n\" style=\"fill:#cdd9ec;\"/>\n    <path clip-path=\"url(#pd9929794ae)\" d=\"M 176.191185 132.562234 \nL 187.637496 136.880182 \nL 190.589632 136.786782 \nL 179.170281 125.726448 \nz\n\" style=\"fill:#9abbff;\"/>\n    <path clip-path=\"url(#pd9929794ae)\" d=\"M 193.596808 117.819944 \nL 205.099473 128.201358 \nL 207.946989 129.762194 \nL 196.474281 125.003255 \nz\n\" style=\"fill:#b5cdfa;\"/>\n    <path clip-path=\"url(#pd9929794ae)\" d=\"M 196.474281 125.003255 \nL 207.946989 129.762194 \nL 211.147312 101.530184 \nL 199.598477 91.725962 \nz\n\" style=\"fill:#dedcdb;\"/>\n    <path clip-path=\"url(#pd9929794ae)\" d=\"M 188.055019 101.025763 \nL 199.598477 91.725962 \nL 202.594675 80.520035 \nL 191.043893 80.556794 \nz\n\" style=\"fill:#f59d7e;\"/>\n    <path clip-path=\"url(#pd9929794ae)\" d=\"M 191.043893 80.556794 \nL 202.594675 80.520035 \nL 205.442656 84.216471 \nL 194.054599 61.589697 \nz\n\" style=\"fill:#e16751;\"/>\n    <path clip-path=\"url(#pd9929794ae)\" d=\"M 161.673612 119.305508 \nL 173.118203 124.315151 \nL 176.191185 132.562234 \nL 164.79121 122.716135 \nz\n\" style=\"fill:#bbd1f8;\"/>\n    <path clip-path=\"url(#pd9929794ae)\" d=\"M 194.054599 61.589697 \nL 205.442656 84.216471 \nL 208.598223 57.750776 \nL 196.99174 58.988489 \nz\n\" style=\"fill:#be242e;\"/>\n    <path clip-path=\"url(#pd9929794ae)\" d=\"M 190.589632 136.786782 \nL 202.113673 138.619978 \nL 205.099473 128.201358 \nL 193.596808 117.819944 \nz\n\" style=\"fill:#a9c6fd;\"/>\n    <path clip-path=\"url(#pd9929794ae)\" d=\"M 187.637496 136.880182 \nL 199.187203 140.936654 \nL 202.113673 138.619978 \nL 190.589632 136.786782 \nz\n\" style=\"fill:#90b2fe;\"/>\n    <path clip-path=\"url(#pd9929794ae)\" d=\"M 147.238714 118.621672 \nL 158.602709 122.881129 \nL 161.673612 119.305508 \nL 150.333896 115.091499 \nz\n\" style=\"fill:#cfdaea;\"/>\n    <path clip-path=\"url(#pd9929794ae)\" d=\"M 205.099473 128.201358 \nL 216.530812 145.140743 \nL 219.87201 113.9104 \nL 207.946989 129.762194 \nz\n\" style=\"fill:#b1cbfc;\"/>\n    <path clip-path=\"url(#pd9929794ae)\" d=\"M 132.672746 111.489124 \nL 144.049612 118.462021 \nL 147.238714 118.621672 \nL 135.72301 103.76512 \nz\n\" style=\"fill:#e2dad5;\"/>\n    <path clip-path=\"url(#pd9929794ae)\" d=\"M 173.118203 124.315151 \nL 184.655802 133.204448 \nL 187.637496 136.880182 \nL 176.191185 132.562234 \nz\n\" style=\"fill:#abc8fd;\"/>\n    <path clip-path=\"url(#pd9929794ae)\" d=\"M 202.113673 138.619978 \nL 213.839154 135.597945 \nL 216.530812 145.140743 \nL 205.099473 128.201358 \nz\n\" style=\"fill:#9bbcff;\"/>\n    <path clip-path=\"url(#pd9929794ae)\" d=\"M 228.08506 154.454147 \nL 239.735896 161.950147 \nL 242.754389 150.738642 \nL 231.135787 141.289042 \nz\n\" style=\"fill:#6788ee;\"/>\n    <path clip-path=\"url(#pd9929794ae)\" d=\"M 216.530812 145.140743 \nL 228.08506 154.454147 \nL 231.135787 141.289042 \nL 219.87201 113.9104 \nz\n\" style=\"fill:#96b7ff;\"/>\n    <path clip-path=\"url(#pd9929794ae)\" d=\"M 213.839154 135.597945 \nL 225.237622 158.008292 \nL 228.08506 154.454147 \nL 216.530812 145.140743 \nz\n\" style=\"fill:#7597f6;\"/>\n    <path clip-path=\"url(#pd9929794ae)\" d=\"M 205.442656 84.216471 \nL 217.260706 72.778454 \nL 220.232875 64.312097 \nL 208.598223 57.750776 \nz\n\" style=\"fill:#c32e31;\"/>\n    <path clip-path=\"url(#pd9929794ae)\" d=\"M 202.594675 80.520035 \nL 214.273239 81.943237 \nL 217.260706 72.778454 \nL 205.442656 84.216471 \nz\n\" style=\"fill:#e26952;\"/>\n    <path clip-path=\"url(#pd9929794ae)\" d=\"M 158.602709 122.881129 \nL 170.131996 136.289787 \nL 173.118203 124.315151 \nL 161.673612 119.305508 \nz\n\" style=\"fill:#c3d5f4;\"/>\n    <path clip-path=\"url(#pd9929794ae)\" d=\"M 207.946989 129.762194 \nL 219.87201 113.9104 \nL 222.828417 106.375318 \nL 211.147312 101.530184 \nz\n\" style=\"fill:#e6d7cf;\"/>\n    <path clip-path=\"url(#pd9929794ae)\" d=\"M 199.598477 91.725962 \nL 211.147312 101.530184 \nL 214.273239 81.943237 \nL 202.594675 80.520035 \nz\n\" style=\"fill:#f18f71;\"/>\n    <path clip-path=\"url(#pd9929794ae)\" d=\"M 225.237622 158.008292 \nL 236.923863 165.388208 \nL 239.735896 161.950147 \nL 228.08506 154.454147 \nz\n\" style=\"fill:#516ddb;\"/>\n    <path clip-path=\"url(#pd9929794ae)\" d=\"M 199.187203 140.936654 \nL 210.662999 158.784644 \nL 213.839154 135.597945 \nL 202.113673 138.619978 \nz\n\" style=\"fill:#88abfd;\"/>\n    <path clip-path=\"url(#pd9929794ae)\" d=\"M 129.582988 118.050252 \nL 140.943838 123.760586 \nL 144.049612 118.462021 \nL 132.672746 111.489124 \nz\n\" style=\"fill:#dadce0;\"/>\n    <path clip-path=\"url(#pd9929794ae)\" d=\"M 184.655802 133.204448 \nL 196.229005 144.696925 \nL 199.187203 140.936654 \nL 187.637496 136.880182 \nz\n\" style=\"fill:#9abbff;\"/>\n    <path clip-path=\"url(#pd9929794ae)\" d=\"M 144.049612 118.462021 \nL 155.393271 118.164147 \nL 158.602709 122.881129 \nL 147.238714 118.621672 \nz\n\" style=\"fill:#d7dce3;\"/>\n    <path clip-path=\"url(#pd9929794ae)\" d=\"M 196.229005 144.696925 \nL 207.759777 161.683793 \nL 210.662999 158.784644 \nL 199.187203 140.936654 \nz\n\" style=\"fill:#6f92f3;\"/>\n    <path clip-path=\"url(#pd9929794ae)\" d=\"M 239.735896 161.950147 \nL 251.4557 169.448562 \nL 254.451494 159.250125 \nL 242.754389 150.738642 \nz\n\" style=\"fill:#536edd;\"/>\n    <path clip-path=\"url(#pd9929794ae)\" d=\"M 210.662999 158.784644 \nL 222.475587 156.055793 \nL 225.237622 158.008292 \nL 213.839154 135.597945 \nz\n\" style=\"fill:#7093f3;\"/>\n    <path clip-path=\"url(#pd9929794ae)\" d=\"M 231.135787 141.289042 \nL 242.754389 150.738642 \nL 246.202768 125.415227 \nL 234.433374 118.338091 \nz\n\" style=\"fill:#aec9fc;\"/>\n    <path clip-path=\"url(#pd9929794ae)\" d=\"M 219.87201 113.9104 \nL 231.135787 141.289042 \nL 234.433374 118.338091 \nL 222.828417 106.375318 \nz\n\" style=\"fill:#d9dce1;\"/>\n    <path clip-path=\"url(#pd9929794ae)\" d=\"M 236.923863 165.388208 \nL 248.669612 173.131641 \nL 251.4557 169.448562 \nL 239.735896 161.950147 \nz\n\" style=\"fill:#4055c8;\"/>\n    <path clip-path=\"url(#pd9929794ae)\" d=\"M 170.131996 136.289787 \nL 181.637529 133.216797 \nL 184.655802 133.204448 \nL 173.118203 124.315151 \nz\n\" style=\"fill:#b7cff9;\"/>\n    <path clip-path=\"url(#pd9929794ae)\" d=\"M 155.393271 118.164147 \nL 167.05081 136.620082 \nL 170.131996 136.289787 \nL 158.602709 122.881129 \nz\n\" style=\"fill:#c1d4f4;\"/>\n    <path clip-path=\"url(#pd9929794ae)\" d=\"M 211.147312 101.530184 \nL 222.828417 106.375318 \nL 225.9106 92.165712 \nL 214.273239 81.943237 \nz\n\" style=\"fill:#f6a283;\"/>\n    <path clip-path=\"url(#pd9929794ae)\" d=\"M 126.35243 120.085206 \nL 137.790782 127.700696 \nL 140.943838 123.760586 \nL 129.582988 118.050252 \nz\n\" style=\"fill:#d4dbe6;\"/>\n    <path clip-path=\"url(#pd9929794ae)\" d=\"M 207.759777 161.683793 \nL 219.616455 157.656791 \nL 222.475587 156.055793 \nL 210.662999 158.784644 \nz\n\" style=\"fill:#5f7fe8;\"/>\n    <path clip-path=\"url(#pd9929794ae)\" d=\"M 140.943838 123.760586 \nL 152.415939 131.166426 \nL 155.393271 118.164147 \nL 144.049612 118.462021 \nz\n\" style=\"fill:#d5dbe5;\"/>\n    <path clip-path=\"url(#pd9929794ae)\" d=\"M 217.260706 72.778454 \nL 228.95538 80.18465 \nL 231.933735 71.311317 \nL 220.232875 64.312097 \nz\n\" style=\"fill:#c0282f;\"/>\n    <path clip-path=\"url(#pd9929794ae)\" d=\"M 242.754389 150.738642 \nL 254.451494 159.250125 \nL 257.888546 136.861115 \nL 246.202768 125.415227 \nz\n\" style=\"fill:#94b6ff;\"/>\n    <path clip-path=\"url(#pd9929794ae)\" d=\"M 222.475587 156.055793 \nL 234.217963 163.797448 \nL 236.923863 165.388208 \nL 225.237622 158.008292 \nz\n\" style=\"fill:#5977e3;\"/>\n    <path clip-path=\"url(#pd9929794ae)\" d=\"M 214.273239 81.943237 \nL 225.9106 92.165712 \nL 228.95538 80.18465 \nL 217.260706 72.778454 \nz\n\" style=\"fill:#de614d;\"/>\n    <path clip-path=\"url(#pd9929794ae)\" d=\"M 167.05081 136.620082 \nL 178.617339 143.415572 \nL 181.637529 133.216797 \nL 170.131996 136.289787 \nz\n\" style=\"fill:#aac7fd;\"/>\n    <path clip-path=\"url(#pd9929794ae)\" d=\"M 222.828417 106.375318 \nL 234.433374 118.338091 \nL 237.777303 94.898245 \nL 225.9106 92.165712 \nz\n\" style=\"fill:#f7b599;\"/>\n    <path clip-path=\"url(#pd9929794ae)\" d=\"M 137.790782 127.700696 \nL 149.281659 134.644612 \nL 152.415939 131.166426 \nL 140.943838 123.760586 \nz\n\" style=\"fill:#c6d6f1;\"/>\n    <path clip-path=\"url(#pd9929794ae)\" d=\"M 181.637529 133.216797 \nL 193.286515 140.432363 \nL 196.229005 144.696925 \nL 184.655802 133.204448 \nz\n\" style=\"fill:#abc8fd;\"/>\n    <path clip-path=\"url(#pd9929794ae)\" d=\"M 152.415939 131.166426 \nL 163.952042 138.265086 \nL 167.05081 136.620082 \nL 155.393271 118.164147 \nz\n\" style=\"fill:#c1d4f4;\"/>\n    <path clip-path=\"url(#pd9929794ae)\" d=\"M 123.075226 121.468565 \nL 134.554963 129.11205 \nL 137.790782 127.700696 \nL 126.35243 120.085206 \nz\n\" style=\"fill:#d5dbe5;\"/>\n    <path clip-path=\"url(#pd9929794ae)\" d=\"M 234.217963 163.797448 \nL 245.958925 173.788568 \nL 248.669612 173.131641 \nL 236.923863 165.388208 \nz\n\" style=\"fill:#455cce;\"/>\n    <path clip-path=\"url(#pd9929794ae)\" d=\"M 193.286515 140.432363 \nL 205.03383 145.100752 \nL 207.759777 161.683793 \nL 196.229005 144.696925 \nz\n\" style=\"fill:#8caffe;\"/>\n    <path clip-path=\"url(#pd9929794ae)\" d=\"M 234.433374 118.338091 \nL 246.202768 125.415227 \nL 249.514055 105.673202 \nL 237.777303 94.898245 \nz\n\" style=\"fill:#f3c8b2;\"/>\n    <path clip-path=\"url(#pd9929794ae)\" d=\"M 163.952042 138.265086 \nL 175.559639 145.257489 \nL 178.617339 143.415572 \nL 167.05081 136.620082 \nz\n\" style=\"fill:#a6c4fe;\"/>\n    <path clip-path=\"url(#pd9929794ae)\" d=\"M 225.9106 92.165712 \nL 237.777303 94.898245 \nL 240.907844 80.602653 \nL 228.95538 80.18465 \nz\n\" style=\"fill:#e36c55;\"/>\n    <path clip-path=\"url(#pd9929794ae)\" d=\"M 228.95538 80.18465 \nL 240.907844 80.602653 \nL 243.924244 70.674589 \nL 231.933735 71.311317 \nz\n\" style=\"fill:#c32e31;\"/>\n    <path clip-path=\"url(#pd9929794ae)\" d=\"M 149.281659 134.644612 \nL 160.852238 142.159885 \nL 163.952042 138.265086 \nL 152.415939 131.166426 \nz\n\" style=\"fill:#b6cefa;\"/>\n    <path clip-path=\"url(#pd9929794ae)\" d=\"M 219.616455 157.656791 \nL 231.401629 165.487548 \nL 234.217963 163.797448 \nL 222.475587 156.055793 \nz\n\" style=\"fill:#6485ec;\"/>\n    <path clip-path=\"url(#pd9929794ae)\" d=\"M 134.554963 129.11205 \nL 146.113123 137.480412 \nL 149.281659 134.644612 \nL 137.790782 127.700696 \nz\n\" style=\"fill:#c5d6f2;\"/>\n    <path clip-path=\"url(#pd9929794ae)\" d=\"M 178.617339 143.415572 \nL 190.278644 143.722214 \nL 193.286515 140.432363 \nL 181.637529 133.216797 \nz\n\" style=\"fill:#adc9fd;\"/>\n    <path clip-path=\"url(#pd9929794ae)\" d=\"M 246.202768 125.415227 \nL 257.888546 136.861115 \nL 261.393739 113.484781 \nL 249.514055 105.673202 \nz\n\" style=\"fill:#e5d8d1;\"/>\n    <path clip-path=\"url(#pd9929794ae)\" d=\"M 119.866122 125.936658 \nL 131.337159 132.334363 \nL 134.554963 129.11205 \nL 123.075226 121.468565 \nz\n\" style=\"fill:#d5dbe5;\"/>\n    <path clip-path=\"url(#pd9929794ae)\" d=\"M 205.03383 145.100752 \nL 216.815727 154.070127 \nL 219.616455 157.656791 \nL 207.759777 161.683793 \nz\n\" style=\"fill:#7da0f9;\"/>\n    <path clip-path=\"url(#pd9929794ae)\" d=\"M 231.401629 165.487548 \nL 243.288341 172.184489 \nL 245.958925 173.788568 \nL 234.217963 163.797448 \nz\n\" style=\"fill:#516ddb;\"/>\n    <path clip-path=\"url(#pd9929794ae)\" d=\"M 160.852238 142.159885 \nL 172.478876 147.667601 \nL 175.559639 145.257489 \nL 163.952042 138.265086 \nz\n\" style=\"fill:#a7c5fe;\"/>\n    <path clip-path=\"url(#pd9929794ae)\" d=\"M 175.559639 145.257489 \nL 187.242665 151.688912 \nL 190.278644 143.722214 \nL 178.617339 143.415572 \nz\n\" style=\"fill:#9ebeff;\"/>\n    <path clip-path=\"url(#pd9929794ae)\" d=\"M 237.777303 94.898245 \nL 249.514055 105.673202 \nL 252.900307 84.390649 \nL 240.907844 80.602653 \nz\n\" style=\"fill:#e8765c;\"/>\n    <path clip-path=\"url(#pd9929794ae)\" d=\"M 146.113123 137.480412 \nL 157.699563 143.618541 \nL 160.852238 142.159885 \nL 149.281659 134.644612 \nz\n\" style=\"fill:#b5cdfa;\"/>\n    <path clip-path=\"url(#pd9929794ae)\" d=\"M 131.337159 132.334363 \nL 142.917122 140.17242 \nL 146.113123 137.480412 \nL 134.554963 129.11205 \nz\n\" style=\"fill:#c5d6f2;\"/>\n    <path clip-path=\"url(#pd9929794ae)\" d=\"M 190.278644 143.722214 \nL 202.004514 154.191038 \nL 205.03383 145.100752 \nL 193.286515 140.432363 \nz\n\" style=\"fill:#a2c1ff;\"/>\n    <path clip-path=\"url(#pd9929794ae)\" d=\"M 116.547076 127.702724 \nL 128.115197 136.264941 \nL 131.337159 132.334363 \nL 119.866122 125.936658 \nz\n\" style=\"fill:#d3dbe7;\"/>\n    <path clip-path=\"url(#pd9929794ae)\" d=\"M 240.907844 80.602653 \nL 252.900307 84.390649 \nL 255.933632 74.235854 \nL 243.924244 70.674589 \nz\n\" style=\"fill:#bb1b2c;\"/>\n    <path clip-path=\"url(#pd9929794ae)\" d=\"M 216.815727 154.070127 \nL 228.678099 161.864147 \nL 231.401629 165.487548 \nL 219.616455 157.656791 \nz\n\" style=\"fill:#7699f6;\"/>\n    <path clip-path=\"url(#pd9929794ae)\" d=\"M 249.514055 105.673202 \nL 261.393739 113.484781 \nL 264.834947 92.610332 \nL 252.900307 84.390649 \nz\n\" style=\"fill:#f18f71;\"/>\n    <path clip-path=\"url(#pd9929794ae)\" d=\"M 172.478876 147.667601 \nL 184.198226 153.516908 \nL 187.242665 151.688912 \nL 175.559639 145.257489 \nz\n\" style=\"fill:#9abbff;\"/>\n    <path clip-path=\"url(#pd9929794ae)\" d=\"M 187.242665 151.688912 \nL 198.997969 159.560386 \nL 202.004514 154.191038 \nL 190.278644 143.722214 \nz\n\" style=\"fill:#92b4fe;\"/>\n    <path clip-path=\"url(#pd9929794ae)\" d=\"M 157.699563 143.618541 \nL 169.375746 150.441426 \nL 172.478876 147.667601 \nL 160.852238 142.159885 \nz\n\" style=\"fill:#a7c5fe;\"/>\n    <path clip-path=\"url(#pd9929794ae)\" d=\"M 142.917122 140.17242 \nL 154.5427 146.730949 \nL 157.699563 143.618541 \nL 146.113123 137.480412 \nz\n\" style=\"fill:#b6cefa;\"/>\n    <path clip-path=\"url(#pd9929794ae)\" d=\"M 128.115197 136.264941 \nL 139.702345 143.162204 \nL 142.917122 140.17242 \nL 131.337159 132.334363 \nz\n\" style=\"fill:#c3d5f4;\"/>\n    <path clip-path=\"url(#pd9929794ae)\" d=\"M 202.004514 154.191038 \nL 213.868189 157.725893 \nL 216.815727 154.070127 \nL 205.03383 145.100752 \nz\n\" style=\"fill:#93b5fe;\"/>\n    <path clip-path=\"url(#pd9929794ae)\" d=\"M 228.678099 161.864147 \nL 240.477735 174.365588 \nL 243.288341 172.184489 \nL 231.401629 165.487548 \nz\n\" style=\"fill:#5f7fe8;\"/>\n    <path clip-path=\"url(#pd9929794ae)\" d=\"M 113.227421 130.28597 \nL 124.797873 137.697966 \nL 128.115197 136.264941 \nL 116.547076 127.702724 \nz\n\" style=\"fill:#d3dbe7;\"/>\n    <path clip-path=\"url(#pd9929794ae)\" d=\"M 252.900307 84.390649 \nL 264.834947 92.610332 \nL 267.986659 79.612494 \nL 255.933632 74.235854 \nz\n\" style=\"fill:#c53334;\"/>\n    <path clip-path=\"url(#pd9929794ae)\" d=\"M 184.198226 153.516908 \nL 195.982017 163.884075 \nL 198.997969 159.560386 \nL 187.242665 151.688912 \nz\n\" style=\"fill:#88abfd;\"/>\n    <path clip-path=\"url(#pd9929794ae)\" d=\"M 198.997969 159.560386 \nL 210.895477 161.765595 \nL 213.868189 157.725893 \nL 202.004514 154.191038 \nz\n\" style=\"fill:#86a9fc;\"/>\n    <path clip-path=\"url(#pd9929794ae)\" d=\"M 169.375746 150.441426 \nL 181.127971 155.853378 \nL 184.198226 153.516908 \nL 172.478876 147.667601 \nz\n\" style=\"fill:#9dbdff;\"/>\n    <path clip-path=\"url(#pd9929794ae)\" d=\"M 154.5427 146.730949 \nL 166.243438 152.680815 \nL 169.375746 150.441426 \nL 157.699563 143.618541 \nz\n\" style=\"fill:#a9c6fd;\"/>\n    <path clip-path=\"url(#pd9929794ae)\" d=\"M 139.702345 143.162204 \nL 151.368267 150.225482 \nL 154.5427 146.730949 \nL 142.917122 140.17242 \nz\n\" style=\"fill:#b3cdfb;\"/>\n    <path clip-path=\"url(#pd9929794ae)\" d=\"M 124.797873 137.697966 \nL 136.43451 144.963034 \nL 139.702345 143.162204 \nL 128.115197 136.264941 \nz\n\" style=\"fill:#c4d5f3;\"/>\n    <path clip-path=\"url(#pd9929794ae)\" d=\"M 213.868189 157.725893 \nL 225.873252 160.233384 \nL 228.678099 161.864147 \nL 216.815727 154.070127 \nz\n\" style=\"fill:#89acfd;\"/>\n    <path clip-path=\"url(#pd9929794ae)\" d=\"M 195.982017 163.884075 \nL 207.821642 172.770456 \nL 210.895477 161.765595 \nL 198.997969 159.560386 \nz\n\" style=\"fill:#7699f6;\"/>\n    <path clip-path=\"url(#pd9929794ae)\" d=\"M 109.925628 134.089084 \nL 121.494804 140.571979 \nL 124.797873 137.697966 \nL 113.227421 130.28597 \nz\n\" style=\"fill:#d3dbe7;\"/>\n    <path clip-path=\"url(#pd9929794ae)\" d=\"M 181.127971 155.853378 \nL 192.954668 166.461867 \nL 195.982017 163.884075 \nL 184.198226 153.516908 \nz\n\" style=\"fill:#88abfd;\"/>\n    <path clip-path=\"url(#pd9929794ae)\" d=\"M 225.873252 160.233384 \nL 237.832906 169.483273 \nL 240.477735 174.365588 \nL 228.678099 161.864147 \nz\n\" style=\"fill:#7597f6;\"/>\n    <path clip-path=\"url(#pd9929794ae)\" d=\"M 166.243438 152.680815 \nL 178.03417 158.80428 \nL 181.127971 155.853378 \nL 169.375746 150.441426 \nz\n\" style=\"fill:#9dbdff;\"/>\n    <path clip-path=\"url(#pd9929794ae)\" d=\"M 151.368267 150.225482 \nL 163.089279 155.350774 \nL 166.243438 152.680815 \nL 154.5427 146.730949 \nz\n\" style=\"fill:#a7c5fe;\"/>\n    <path clip-path=\"url(#pd9929794ae)\" d=\"M 136.43451 144.963034 \nL 148.142177 152.130607 \nL 151.368267 150.225482 \nL 139.702345 143.162204 \nz\n\" style=\"fill:#b5cdfa;\"/>\n    <path clip-path=\"url(#pd9929794ae)\" d=\"M 210.895477 161.765595 \nL 222.823335 169.512916 \nL 225.873252 160.233384 \nL 213.868189 157.725893 \nz\n\" style=\"fill:#84a7fc;\"/>\n    <path clip-path=\"url(#pd9929794ae)\" d=\"M 192.954668 166.461867 \nL 204.828935 175.977615 \nL 207.821642 172.770456 \nL 195.982017 163.884075 \nz\n\" style=\"fill:#6b8df0;\"/>\n    <path clip-path=\"url(#pd9929794ae)\" d=\"M 121.494804 140.571979 \nL 133.165741 147.87245 \nL 136.43451 144.963034 \nL 124.797873 137.697966 \nz\n\" style=\"fill:#c5d6f2;\"/>\n    <path clip-path=\"url(#pd9929794ae)\" d=\"M 106.554752 136.696913 \nL 118.182802 143.97174 \nL 121.494804 140.571979 \nL 109.925628 134.089084 \nz\n\" style=\"fill:#d2dbe8;\"/>\n    <path clip-path=\"url(#pd9929794ae)\" d=\"M 207.821642 172.770456 \nL 219.813643 176.308807 \nL 222.823335 169.512916 \nL 210.895477 161.765595 \nz\n\" style=\"fill:#6c8ff1;\"/>\n    <path clip-path=\"url(#pd9929794ae)\" d=\"M 178.03417 158.80428 \nL 189.904973 168.263748 \nL 192.954668 166.461867 \nL 181.127971 155.853378 \nz\n\" style=\"fill:#89acfd;\"/>\n    <path clip-path=\"url(#pd9929794ae)\" d=\"M 204.828935 175.977615 \nL 216.772813 184.317158 \nL 219.813643 176.308807 \nL 207.821642 172.770456 \nz\n\" style=\"fill:#5a78e4;\"/>\n    <path clip-path=\"url(#pd9929794ae)\" d=\"M 163.089279 155.350774 \nL 174.924403 163.445568 \nL 178.03417 158.80428 \nL 166.243438 152.680815 \nz\n\" style=\"fill:#9bbcff;\"/>\n    <path clip-path=\"url(#pd9929794ae)\" d=\"M 222.823335 169.512916 \nL 234.781147 178.921614 \nL 237.832906 169.483273 \nL 225.873252 160.233384 \nz\n\" style=\"fill:#7396f5;\"/>\n    <path clip-path=\"url(#pd9929794ae)\" d=\"M 148.142177 152.130607 \nL 159.91347 158.333407 \nL 163.089279 155.350774 \nL 151.368267 150.225482 \nz\n\" style=\"fill:#a7c5fe;\"/>\n    <path clip-path=\"url(#pd9929794ae)\" d=\"M 133.165741 147.87245 \nL 144.925191 155.949934 \nL 148.142177 152.130607 \nL 136.43451 144.963034 \nz\n\" style=\"fill:#b5cdfa;\"/>\n    <path clip-path=\"url(#pd9929794ae)\" d=\"M 189.904973 168.263748 \nL 201.818457 178.66655 \nL 204.828935 175.977615 \nL 192.954668 166.461867 \nz\n\" style=\"fill:#6c8ff1;\"/>\n    <path clip-path=\"url(#pd9929794ae)\" d=\"M 219.813643 176.308807 \nL 231.752145 187.261493 \nL 234.781147 178.921614 \nL 222.823335 169.512916 \nz\n\" style=\"fill:#5a78e4;\"/>\n    <path clip-path=\"url(#pd9929794ae)\" d=\"M 118.182802 143.97174 \nL 129.863992 150.519904 \nL 133.165741 147.87245 \nL 121.494804 140.571979 \nz\n\" style=\"fill:#c5d6f2;\"/>\n    <path clip-path=\"url(#pd9929794ae)\" d=\"M 103.120451 138.413928 \nL 114.79938 146.020268 \nL 118.182802 143.97174 \nL 106.554752 136.696913 \nz\n\" style=\"fill:#d3dbe7;\"/>\n    <path clip-path=\"url(#pd9929794ae)\" d=\"M 216.772813 184.317158 \nL 228.734777 194.783665 \nL 231.752145 187.261493 \nL 219.813643 176.308807 \nz\n\" style=\"fill:#465ecf;\"/>\n    <path clip-path=\"url(#pd9929794ae)\" d=\"M 174.924403 163.445568 \nL 186.825992 171.748824 \nL 189.904973 168.263748 \nL 178.03417 158.80428 \nz\n\" style=\"fill:#88abfd;\"/>\n    <path clip-path=\"url(#pd9929794ae)\" d=\"M 201.818457 178.66655 \nL 213.770167 189.222508 \nL 216.772813 184.317158 \nL 204.828935 175.977615 \nz\n\" style=\"fill:#536edd;\"/>\n    <path clip-path=\"url(#pd9929794ae)\" d=\"M 159.91347 158.333407 \nL 171.775716 164.947113 \nL 174.924403 163.445568 \nL 163.089279 155.350774 \nz\n\" style=\"fill:#9bbcff;\"/>\n    <path clip-path=\"url(#pd9929794ae)\" d=\"M 144.925191 155.949934 \nL 156.728421 162.44543 \nL 159.91347 158.333407 \nL 148.142177 152.130607 \nz\n\" style=\"fill:#a6c4fe;\"/>\n    <path clip-path=\"url(#pd9929794ae)\" d=\"M 129.863992 150.519904 \nL 141.639444 157.608886 \nL 144.925191 155.949934 \nL 133.165741 147.87245 \nz\n\" style=\"fill:#b5cdfa;\"/>\n    <path clip-path=\"url(#pd9929794ae)\" d=\"M 186.825992 171.748824 \nL 198.780194 181.8442 \nL 201.818457 178.66655 \nL 189.904973 168.263748 \nz\n\" style=\"fill:#6c8ff1;\"/>\n    <path clip-path=\"url(#pd9929794ae)\" d=\"M 213.770167 189.222508 \nL 225.794676 198.194208 \nL 228.734777 194.783665 \nL 216.772813 184.317158 \nz\n\" style=\"fill:#3b4cc0;\"/>\n    <path clip-path=\"url(#pd9929794ae)\" d=\"M 114.79938 146.020268 \nL 126.521887 152.70977 \nL 129.863992 150.519904 \nL 118.182802 143.97174 \nz\n\" style=\"fill:#c5d6f2;\"/>\n    <path clip-path=\"url(#pd9929794ae)\" d=\"M 99.728826 141.894911 \nL 111.423544 149.102325 \nL 114.79938 146.020268 \nL 103.120451 138.413928 \nz\n\" style=\"fill:#d3dbe7;\"/>\n    <path clip-path=\"url(#pd9929794ae)\" d=\"M 171.775716 164.947113 \nL 183.724409 174.839341 \nL 186.825992 171.748824 \nL 174.924403 163.445568 \nz\n\" style=\"fill:#85a8fc;\"/>\n    <path clip-path=\"url(#pd9929794ae)\" d=\"M 198.780194 181.8442 \nL 210.795105 190.766034 \nL 213.770167 189.222508 \nL 201.818457 178.66655 \nz\n\" style=\"fill:#516ddb;\"/>\n    <path clip-path=\"url(#pd9929794ae)\" d=\"M 156.728421 162.44543 \nL 168.611927 168.249562 \nL 171.775716 164.947113 \nL 159.91347 158.333407 \nz\n\" style=\"fill:#9abbff;\"/>\n    <path clip-path=\"url(#pd9929794ae)\" d=\"M 141.639444 157.608886 \nL 153.495292 164.845192 \nL 156.728421 162.44543 \nL 144.925191 155.949934 \nz\n\" style=\"fill:#a5c3fe;\"/>\n    <path clip-path=\"url(#pd9929794ae)\" d=\"M 183.724409 174.839341 \nL 195.714559 185.763059 \nL 198.780194 181.8442 \nL 186.825992 171.748824 \nz\n\" style=\"fill:#6a8bef;\"/>\n    <path clip-path=\"url(#pd9929794ae)\" d=\"M 126.521887 152.70977 \nL 138.348265 160.347936 \nL 141.639444 157.608886 \nL 129.863992 150.519904 \nz\n\" style=\"fill:#b7cff9;\"/>\n    <path clip-path=\"url(#pd9929794ae)\" d=\"M 210.795105 190.766034 \nL 222.850444 200.716083 \nL 225.794676 198.194208 \nL 213.770167 189.222508 \nz\n\" style=\"fill:#3b4cc0;\"/>\n    <path clip-path=\"url(#pd9929794ae)\" d=\"M 111.423544 149.102325 \nL 123.215901 157.040611 \nL 126.521887 152.70977 \nL 114.79938 146.020268 \nz\n\" style=\"fill:#c5d6f2;\"/>\n    <path clip-path=\"url(#pd9929794ae)\" d=\"M 168.611927 168.249562 \nL 180.59828 177.683709 \nL 183.724409 174.839341 \nL 171.775716 164.947113 \nz\n\" style=\"fill:#86a9fc;\"/>\n    <path clip-path=\"url(#pd9929794ae)\" d=\"M 195.714559 185.763059 \nL 207.769291 194.246779 \nL 210.795105 190.766034 \nL 198.780194 181.8442 \nz\n\" style=\"fill:#516ddb;\"/>\n    <path clip-path=\"url(#pd9929794ae)\" d=\"M 153.495292 164.845192 \nL 165.41811 170.924894 \nL 168.611927 168.249562 \nL 156.728421 162.44543 \nz\n\" style=\"fill:#98b9ff;\"/>\n    <path clip-path=\"url(#pd9929794ae)\" d=\"M 138.348265 160.347936 \nL 150.22613 166.752022 \nL 153.495292 164.845192 \nL 141.639444 157.608886 \nz\n\" style=\"fill:#a9c6fd;\"/>\n    <path clip-path=\"url(#pd9929794ae)\" d=\"M 180.59828 177.683709 \nL 192.631793 188.696845 \nL 195.714559 185.763059 \nL 183.724409 174.839341 \nz\n\" style=\"fill:#688aef;\"/>\n    <path clip-path=\"url(#pd9929794ae)\" d=\"M 123.215901 157.040611 \nL 135.040681 163.520866 \nL 138.348265 160.347936 \nL 126.521887 152.70977 \nz\n\" style=\"fill:#b6cefa;\"/>\n    <path clip-path=\"url(#pd9929794ae)\" d=\"M 207.769291 194.246779 \nL 219.877098 203.491783 \nL 222.850444 200.716083 \nL 210.795105 190.766034 \nz\n\" style=\"fill:#3c4ec2;\"/>\n    <path clip-path=\"url(#pd9929794ae)\" d=\"M 192.631793 188.696845 \nL 204.728346 197.030066 \nL 207.769291 194.246779 \nL 195.714559 185.763059 \nz\n\" style=\"fill:#506bda;\"/>\n    <path clip-path=\"url(#pd9929794ae)\" d=\"M 165.41811 170.924894 \nL 177.448015 180.84439 \nL 180.59828 177.683709 \nL 168.611927 168.249562 \nz\n\" style=\"fill:#86a9fc;\"/>\n    <path clip-path=\"url(#pd9929794ae)\" d=\"M 150.22613 166.752022 \nL 162.193502 173.214707 \nL 165.41811 170.924894 \nL 153.495292 164.845192 \nz\n\" style=\"fill:#9bbcff;\"/>\n    <path clip-path=\"url(#pd9929794ae)\" d=\"M 135.040681 163.520866 \nL 146.935228 169.081833 \nL 150.22613 166.752022 \nL 138.348265 160.347936 \nz\n\" style=\"fill:#aac7fd;\"/>\n    <path clip-path=\"url(#pd9929794ae)\" d=\"M 177.448015 180.84439 \nL 189.528737 189.936716 \nL 192.631793 188.696845 \nL 180.59828 177.683709 \nz\n\" style=\"fill:#6a8bef;\"/>\n    <path clip-path=\"url(#pd9929794ae)\" d=\"M 204.728346 197.030066 \nL 216.854974 207.751847 \nL 219.877098 203.491783 \nL 207.769291 194.246779 \nz\n\" style=\"fill:#3b4cc0;\"/>\n    <path clip-path=\"url(#pd9929794ae)\" d=\"M 162.193502 173.214707 \nL 174.270632 183.524015 \nL 177.448015 180.84439 \nL 165.41811 170.924894 \nz\n\" style=\"fill:#86a9fc;\"/>\n    <path clip-path=\"url(#pd9929794ae)\" d=\"M 189.528737 189.936716 \nL 201.661643 199.915675 \nL 204.728346 197.030066 \nL 192.631793 188.696845 \nz\n\" style=\"fill:#516ddb;\"/>\n    <path clip-path=\"url(#pd9929794ae)\" d=\"M 146.935228 169.081833 \nL 158.9495 176.191 \nL 162.193502 173.214707 \nL 150.22613 166.752022 \nz\n\" style=\"fill:#9ebeff;\"/>\n    <path clip-path=\"url(#pd9929794ae)\" d=\"M 174.270632 183.524015 \nL 186.393656 192.754895 \nL 189.528737 189.936716 \nL 177.448015 180.84439 \nz\n\" style=\"fill:#6c8ff1;\"/>\n    <path clip-path=\"url(#pd9929794ae)\" d=\"M 201.661643 199.915675 \nL 213.849353 209.583439 \nL 216.854974 207.751847 \nL 204.728346 197.030066 \nz\n\" style=\"fill:#3b4cc0;\"/>\n    <path clip-path=\"url(#pd9929794ae)\" d=\"M 158.9495 176.191 \nL 171.061568 185.455093 \nL 174.270632 183.524015 \nL 162.193502 173.214707 \nz\n\" style=\"fill:#89acfd;\"/>\n    <path clip-path=\"url(#pd9929794ae)\" d=\"M 186.393656 192.754895 \nL 198.563103 203.755532 \nL 201.661643 199.915675 \nL 189.528737 189.936716 \nz\n\" style=\"fill:#536edd;\"/>\n    <path clip-path=\"url(#pd9929794ae)\" d=\"M 171.061568 185.455093 \nL 183.23329 196.578882 \nL 186.393656 192.754895 \nL 174.270632 183.524015 \nz\n\" style=\"fill:#6e90f2;\"/>\n    <path clip-path=\"url(#pd9929794ae)\" d=\"M 198.563103 203.755532 \nL 210.79041 213.29804 \nL 213.849353 209.583439 \nL 201.661643 199.915675 \nz\n\" style=\"fill:#3b4cc0;\"/>\n    <path clip-path=\"url(#pd9929794ae)\" d=\"M 183.23329 196.578882 \nL 195.450577 206.108013 \nL 198.563103 203.755532 \nL 186.393656 192.754895 \nz\n\" style=\"fill:#536edd;\"/>\n    <path clip-path=\"url(#pd9929794ae)\" d=\"M 195.450577 206.108013 \nL 207.720653 216.036799 \nL 210.79041 213.29804 \nL 198.563103 203.755532 \nz\n\" style=\"fill:#3b4cc0;\"/>\n   </g>\n   <g id=\"text_18\">\n    <!-- MC score:52.15552834903493 frame:31 step_size:65536  -->\n    <g transform=\"translate(7.2 16.318125)scale(0.12 -0.12)\">\n     <defs>\n      <path d=\"M 628 4666 \nL 1569 4666 \nL 2759 1491 \nL 3956 4666 \nL 4897 4666 \nL 4897 0 \nL 4281 0 \nL 4281 4097 \nL 3078 897 \nL 2444 897 \nL 1241 4097 \nL 1241 0 \nL 628 0 \nL 628 4666 \nz\n\" id=\"DejaVuSans-4d\" transform=\"scale(0.015625)\"/>\n      <path d=\"M 4122 4306 \nL 4122 3641 \nQ 3803 3938 3442 4084 \nQ 3081 4231 2675 4231 \nQ 1875 4231 1450 3742 \nQ 1025 3253 1025 2328 \nQ 1025 1406 1450 917 \nQ 1875 428 2675 428 \nQ 3081 428 3442 575 \nQ 3803 722 4122 1019 \nL 4122 359 \nQ 3791 134 3420 21 \nQ 3050 -91 2638 -91 \nQ 1578 -91 968 557 \nQ 359 1206 359 2328 \nQ 359 3453 968 4101 \nQ 1578 4750 2638 4750 \nQ 3056 4750 3426 4639 \nQ 3797 4528 4122 4306 \nz\n\" id=\"DejaVuSans-43\" transform=\"scale(0.015625)\"/>\n      <path id=\"DejaVuSans-20\" transform=\"scale(0.015625)\"/>\n      <path d=\"M 2834 3397 \nL 2834 2853 \nQ 2591 2978 2328 3040 \nQ 2066 3103 1784 3103 \nQ 1356 3103 1142 2972 \nQ 928 2841 928 2578 \nQ 928 2378 1081 2264 \nQ 1234 2150 1697 2047 \nL 1894 2003 \nQ 2506 1872 2764 1633 \nQ 3022 1394 3022 966 \nQ 3022 478 2636 193 \nQ 2250 -91 1575 -91 \nQ 1294 -91 989 -36 \nQ 684 19 347 128 \nL 347 722 \nQ 666 556 975 473 \nQ 1284 391 1588 391 \nQ 1994 391 2212 530 \nQ 2431 669 2431 922 \nQ 2431 1156 2273 1281 \nQ 2116 1406 1581 1522 \nL 1381 1569 \nQ 847 1681 609 1914 \nQ 372 2147 372 2553 \nQ 372 3047 722 3315 \nQ 1072 3584 1716 3584 \nQ 2034 3584 2315 3537 \nQ 2597 3491 2834 3397 \nz\n\" id=\"DejaVuSans-73\" transform=\"scale(0.015625)\"/>\n      <path d=\"M 3122 3366 \nL 3122 2828 \nQ 2878 2963 2633 3030 \nQ 2388 3097 2138 3097 \nQ 1578 3097 1268 2742 \nQ 959 2388 959 1747 \nQ 959 1106 1268 751 \nQ 1578 397 2138 397 \nQ 2388 397 2633 464 \nQ 2878 531 3122 666 \nL 3122 134 \nQ 2881 22 2623 -34 \nQ 2366 -91 2075 -91 \nQ 1284 -91 818 406 \nQ 353 903 353 1747 \nQ 353 2603 823 3093 \nQ 1294 3584 2113 3584 \nQ 2378 3584 2631 3529 \nQ 2884 3475 3122 3366 \nz\n\" id=\"DejaVuSans-63\" transform=\"scale(0.015625)\"/>\n      <path d=\"M 1959 3097 \nQ 1497 3097 1228 2736 \nQ 959 2375 959 1747 \nQ 959 1119 1226 758 \nQ 1494 397 1959 397 \nQ 2419 397 2687 759 \nQ 2956 1122 2956 1747 \nQ 2956 2369 2687 2733 \nQ 2419 3097 1959 3097 \nz\nM 1959 3584 \nQ 2709 3584 3137 3096 \nQ 3566 2609 3566 1747 \nQ 3566 888 3137 398 \nQ 2709 -91 1959 -91 \nQ 1206 -91 779 398 \nQ 353 888 353 1747 \nQ 353 2609 779 3096 \nQ 1206 3584 1959 3584 \nz\n\" id=\"DejaVuSans-6f\" transform=\"scale(0.015625)\"/>\n      <path d=\"M 2631 2963 \nQ 2534 3019 2420 3045 \nQ 2306 3072 2169 3072 \nQ 1681 3072 1420 2755 \nQ 1159 2438 1159 1844 \nL 1159 0 \nL 581 0 \nL 581 3500 \nL 1159 3500 \nL 1159 2956 \nQ 1341 3275 1631 3429 \nQ 1922 3584 2338 3584 \nQ 2397 3584 2469 3576 \nQ 2541 3569 2628 3553 \nL 2631 2963 \nz\n\" id=\"DejaVuSans-72\" transform=\"scale(0.015625)\"/>\n      <path d=\"M 3597 1894 \nL 3597 1613 \nL 953 1613 \nQ 991 1019 1311 708 \nQ 1631 397 2203 397 \nQ 2534 397 2845 478 \nQ 3156 559 3463 722 \nL 3463 178 \nQ 3153 47 2828 -22 \nQ 2503 -91 2169 -91 \nQ 1331 -91 842 396 \nQ 353 884 353 1716 \nQ 353 2575 817 3079 \nQ 1281 3584 2069 3584 \nQ 2775 3584 3186 3129 \nQ 3597 2675 3597 1894 \nz\nM 3022 2063 \nQ 3016 2534 2758 2815 \nQ 2500 3097 2075 3097 \nQ 1594 3097 1305 2825 \nQ 1016 2553 972 2059 \nL 3022 2063 \nz\n\" id=\"DejaVuSans-65\" transform=\"scale(0.015625)\"/>\n      <path d=\"M 750 794 \nL 1409 794 \nL 1409 0 \nL 750 0 \nL 750 794 \nz\nM 750 3309 \nL 1409 3309 \nL 1409 2516 \nL 750 2516 \nL 750 3309 \nz\n\" id=\"DejaVuSans-3a\" transform=\"scale(0.015625)\"/>\n      <path d=\"M 2597 2516 \nQ 3050 2419 3304 2112 \nQ 3559 1806 3559 1356 \nQ 3559 666 3084 287 \nQ 2609 -91 1734 -91 \nQ 1441 -91 1130 -33 \nQ 819 25 488 141 \nL 488 750 \nQ 750 597 1062 519 \nQ 1375 441 1716 441 \nQ 2309 441 2620 675 \nQ 2931 909 2931 1356 \nQ 2931 1769 2642 2001 \nQ 2353 2234 1838 2234 \nL 1294 2234 \nL 1294 2753 \nL 1863 2753 \nQ 2328 2753 2575 2939 \nQ 2822 3125 2822 3475 \nQ 2822 3834 2567 4026 \nQ 2313 4219 1838 4219 \nQ 1578 4219 1281 4162 \nQ 984 4106 628 3988 \nL 628 4550 \nQ 988 4650 1302 4700 \nQ 1616 4750 1894 4750 \nQ 2613 4750 3031 4423 \nQ 3450 4097 3450 3541 \nQ 3450 3153 3228 2886 \nQ 3006 2619 2597 2516 \nz\n\" id=\"DejaVuSans-33\" transform=\"scale(0.015625)\"/>\n      <path d=\"M 703 97 \nL 703 672 \nQ 941 559 1184 500 \nQ 1428 441 1663 441 \nQ 2288 441 2617 861 \nQ 2947 1281 2994 2138 \nQ 2813 1869 2534 1725 \nQ 2256 1581 1919 1581 \nQ 1219 1581 811 2004 \nQ 403 2428 403 3163 \nQ 403 3881 828 4315 \nQ 1253 4750 1959 4750 \nQ 2769 4750 3195 4129 \nQ 3622 3509 3622 2328 \nQ 3622 1225 3098 567 \nQ 2575 -91 1691 -91 \nQ 1453 -91 1209 -44 \nQ 966 3 703 97 \nz\nM 1959 2075 \nQ 2384 2075 2632 2365 \nQ 2881 2656 2881 3163 \nQ 2881 3666 2632 3958 \nQ 2384 4250 1959 4250 \nQ 1534 4250 1286 3958 \nQ 1038 3666 1038 3163 \nQ 1038 2656 1286 2365 \nQ 1534 2075 1959 2075 \nz\n\" id=\"DejaVuSans-39\" transform=\"scale(0.015625)\"/>\n      <path d=\"M 2375 4863 \nL 2375 4384 \nL 1825 4384 \nQ 1516 4384 1395 4259 \nQ 1275 4134 1275 3809 \nL 1275 3500 \nL 2222 3500 \nL 2222 3053 \nL 1275 3053 \nL 1275 0 \nL 697 0 \nL 697 3053 \nL 147 3053 \nL 147 3500 \nL 697 3500 \nL 697 3744 \nQ 697 4328 969 4595 \nQ 1241 4863 1831 4863 \nL 2375 4863 \nz\n\" id=\"DejaVuSans-66\" transform=\"scale(0.015625)\"/>\n      <path d=\"M 2194 1759 \nQ 1497 1759 1228 1600 \nQ 959 1441 959 1056 \nQ 959 750 1161 570 \nQ 1363 391 1709 391 \nQ 2188 391 2477 730 \nQ 2766 1069 2766 1631 \nL 2766 1759 \nL 2194 1759 \nz\nM 3341 1997 \nL 3341 0 \nL 2766 0 \nL 2766 531 \nQ 2569 213 2275 61 \nQ 1981 -91 1556 -91 \nQ 1019 -91 701 211 \nQ 384 513 384 1019 \nQ 384 1609 779 1909 \nQ 1175 2209 1959 2209 \nL 2766 2209 \nL 2766 2266 \nQ 2766 2663 2505 2880 \nQ 2244 3097 1772 3097 \nQ 1472 3097 1187 3025 \nQ 903 2953 641 2809 \nL 641 3341 \nQ 956 3463 1253 3523 \nQ 1550 3584 1831 3584 \nQ 2591 3584 2966 3190 \nQ 3341 2797 3341 1997 \nz\n\" id=\"DejaVuSans-61\" transform=\"scale(0.015625)\"/>\n      <path d=\"M 3328 2828 \nQ 3544 3216 3844 3400 \nQ 4144 3584 4550 3584 \nQ 5097 3584 5394 3201 \nQ 5691 2819 5691 2113 \nL 5691 0 \nL 5113 0 \nL 5113 2094 \nQ 5113 2597 4934 2840 \nQ 4756 3084 4391 3084 \nQ 3944 3084 3684 2787 \nQ 3425 2491 3425 1978 \nL 3425 0 \nL 2847 0 \nL 2847 2094 \nQ 2847 2600 2669 2842 \nQ 2491 3084 2119 3084 \nQ 1678 3084 1418 2786 \nQ 1159 2488 1159 1978 \nL 1159 0 \nL 581 0 \nL 581 3500 \nL 1159 3500 \nL 1159 2956 \nQ 1356 3278 1631 3431 \nQ 1906 3584 2284 3584 \nQ 2666 3584 2933 3390 \nQ 3200 3197 3328 2828 \nz\n\" id=\"DejaVuSans-6d\" transform=\"scale(0.015625)\"/>\n      <path d=\"M 1172 4494 \nL 1172 3500 \nL 2356 3500 \nL 2356 3053 \nL 1172 3053 \nL 1172 1153 \nQ 1172 725 1289 603 \nQ 1406 481 1766 481 \nL 2356 481 \nL 2356 0 \nL 1766 0 \nQ 1100 0 847 248 \nQ 594 497 594 1153 \nL 594 3053 \nL 172 3053 \nL 172 3500 \nL 594 3500 \nL 594 4494 \nL 1172 4494 \nz\n\" id=\"DejaVuSans-74\" transform=\"scale(0.015625)\"/>\n      <path d=\"M 1159 525 \nL 1159 -1331 \nL 581 -1331 \nL 581 3500 \nL 1159 3500 \nL 1159 2969 \nQ 1341 3281 1617 3432 \nQ 1894 3584 2278 3584 \nQ 2916 3584 3314 3078 \nQ 3713 2572 3713 1747 \nQ 3713 922 3314 415 \nQ 2916 -91 2278 -91 \nQ 1894 -91 1617 61 \nQ 1341 213 1159 525 \nz\nM 3116 1747 \nQ 3116 2381 2855 2742 \nQ 2594 3103 2138 3103 \nQ 1681 3103 1420 2742 \nQ 1159 2381 1159 1747 \nQ 1159 1113 1420 752 \nQ 1681 391 2138 391 \nQ 2594 391 2855 752 \nQ 3116 1113 3116 1747 \nz\n\" id=\"DejaVuSans-70\" transform=\"scale(0.015625)\"/>\n      <path d=\"M 3263 -1063 \nL 3263 -1509 \nL -63 -1509 \nL -63 -1063 \nL 3263 -1063 \nz\n\" id=\"DejaVuSans-5f\" transform=\"scale(0.015625)\"/>\n      <path d=\"M 603 3500 \nL 1178 3500 \nL 1178 0 \nL 603 0 \nL 603 3500 \nz\nM 603 4863 \nL 1178 4863 \nL 1178 4134 \nL 603 4134 \nL 603 4863 \nz\n\" id=\"DejaVuSans-69\" transform=\"scale(0.015625)\"/>\n      <path d=\"M 353 3500 \nL 3084 3500 \nL 3084 2975 \nL 922 459 \nL 3084 459 \nL 3084 0 \nL 275 0 \nL 275 525 \nL 2438 3041 \nL 353 3041 \nL 353 3500 \nz\n\" id=\"DejaVuSans-7a\" transform=\"scale(0.015625)\"/>\n     </defs>\n     <use xlink:href=\"#DejaVuSans-4d\"/>\n     <use x=\"86.279297\" xlink:href=\"#DejaVuSans-43\"/>\n     <use x=\"156.103516\" xlink:href=\"#DejaVuSans-20\"/>\n     <use x=\"187.890625\" xlink:href=\"#DejaVuSans-73\"/>\n     <use x=\"239.990234\" xlink:href=\"#DejaVuSans-63\"/>\n     <use x=\"294.970703\" xlink:href=\"#DejaVuSans-6f\"/>\n     <use x=\"356.152344\" xlink:href=\"#DejaVuSans-72\"/>\n     <use x=\"395.015625\" xlink:href=\"#DejaVuSans-65\"/>\n     <use x=\"456.539062\" xlink:href=\"#DejaVuSans-3a\"/>\n     <use x=\"490.230469\" xlink:href=\"#DejaVuSans-35\"/>\n     <use x=\"553.853516\" xlink:href=\"#DejaVuSans-32\"/>\n     <use x=\"617.476562\" xlink:href=\"#DejaVuSans-2e\"/>\n     <use x=\"649.263672\" xlink:href=\"#DejaVuSans-31\"/>\n     <use x=\"712.886719\" xlink:href=\"#DejaVuSans-35\"/>\n     <use x=\"776.509766\" xlink:href=\"#DejaVuSans-35\"/>\n     <use x=\"840.132812\" xlink:href=\"#DejaVuSans-35\"/>\n     <use x=\"903.755859\" xlink:href=\"#DejaVuSans-32\"/>\n     <use x=\"967.378906\" xlink:href=\"#DejaVuSans-38\"/>\n     <use x=\"1031.001953\" xlink:href=\"#DejaVuSans-33\"/>\n     <use x=\"1094.625\" xlink:href=\"#DejaVuSans-34\"/>\n     <use x=\"1158.248047\" xlink:href=\"#DejaVuSans-39\"/>\n     <use x=\"1221.871094\" xlink:href=\"#DejaVuSans-30\"/>\n     <use x=\"1285.494141\" xlink:href=\"#DejaVuSans-33\"/>\n     <use x=\"1349.117188\" xlink:href=\"#DejaVuSans-34\"/>\n     <use x=\"1412.740234\" xlink:href=\"#DejaVuSans-39\"/>\n     <use x=\"1476.363281\" xlink:href=\"#DejaVuSans-33\"/>\n     <use x=\"1539.986328\" xlink:href=\"#DejaVuSans-20\"/>\n     <use x=\"1571.773438\" xlink:href=\"#DejaVuSans-66\"/>\n     <use x=\"1606.978516\" xlink:href=\"#DejaVuSans-72\"/>\n     <use x=\"1648.091797\" xlink:href=\"#DejaVuSans-61\"/>\n     <use x=\"1709.371094\" xlink:href=\"#DejaVuSans-6d\"/>\n     <use x=\"1806.783203\" xlink:href=\"#DejaVuSans-65\"/>\n     <use x=\"1868.306641\" xlink:href=\"#DejaVuSans-3a\"/>\n     <use x=\"1901.998047\" xlink:href=\"#DejaVuSans-33\"/>\n     <use x=\"1965.621094\" xlink:href=\"#DejaVuSans-31\"/>\n     <use x=\"2029.244141\" xlink:href=\"#DejaVuSans-20\"/>\n     <use x=\"2061.03125\" xlink:href=\"#DejaVuSans-73\"/>\n     <use x=\"2113.130859\" xlink:href=\"#DejaVuSans-74\"/>\n     <use x=\"2152.339844\" xlink:href=\"#DejaVuSans-65\"/>\n     <use x=\"2213.863281\" xlink:href=\"#DejaVuSans-70\"/>\n     <use x=\"2277.339844\" xlink:href=\"#DejaVuSans-5f\"/>\n     <use x=\"2327.339844\" xlink:href=\"#DejaVuSans-73\"/>\n     <use x=\"2379.439453\" xlink:href=\"#DejaVuSans-69\"/>\n     <use x=\"2407.222656\" xlink:href=\"#DejaVuSans-7a\"/>\n     <use x=\"2459.712891\" xlink:href=\"#DejaVuSans-65\"/>\n     <use x=\"2521.236328\" xlink:href=\"#DejaVuSans-3a\"/>\n     <use x=\"2554.927734\" xlink:href=\"#DejaVuSans-36\"/>\n     <use x=\"2618.550781\" xlink:href=\"#DejaVuSans-35\"/>\n     <use x=\"2682.173828\" xlink:href=\"#DejaVuSans-35\"/>\n     <use x=\"2745.796875\" xlink:href=\"#DejaVuSans-33\"/>\n     <use x=\"2809.419922\" xlink:href=\"#DejaVuSans-36\"/>\n     <use x=\"2873.042969\" xlink:href=\"#DejaVuSans-20\"/>\n    </g>\n   </g>\n  </g>\n </g>\n <defs>\n  <clipPath id=\"pd9929794ae\">\n   <rect height=\"217.44\" width=\"217.44\" x=\"72.770625\" y=\"22.318125\"/>\n  </clipPath>\n </defs>\n</svg>\n",
      "image/png": "[encoded data removed]"
     },
     "metadata": {
      "needs_background": "light"
     }
    }
   ],
   "metadata": {}
  },
  {
   "cell_type": "code",
   "execution_count": 4,
   "source": [
    "N0 = 100\n",
    "agent = Linear_Approximation_Agent(Environment(), N0,1,1)\n",
    "fig = plt.figure(\"N100\")\n",
    "ax = fig.add_subplot(111, projection='3d')\n",
    "\n",
    "ani = animation.FuncAnimation(fig, animate, 32, repeat=False)\n",
    "\n",
    "# note: requires gif writer; swap with plt.show()\n",
    "ani.save('MC_Agent.gif', writer='imagemagick', fps=3)\n",
    "# plt.show()"
   ],
   "outputs": [
    {
     "output_type": "stream",
     "name": "stderr",
     "text": [
      "MovieWriter imagemagick unavailable; using Pillow instead.\n",
      "100%|██████████| 1/1 [00:00<00:00, 1327.73it/s]\n"
     ]
    },
    {
     "output_type": "stream",
     "name": "stdout",
     "text": [
      "100.0\n"
     ]
    },
    {
     "output_type": "stream",
     "name": "stderr",
     "text": [
      "100%|██████████| 1/1 [00:00<00:00, 369.15it/s]\n"
     ]
    },
    {
     "output_type": "stream",
     "name": "stdout",
     "text": [
      "100.0\n"
     ]
    },
    {
     "output_type": "stream",
     "name": "stderr",
     "text": [
      "100%|██████████| 2/2 [00:00<00:00, 1075.46it/s]\n"
     ]
    },
    {
     "output_type": "stream",
     "name": "stdout",
     "text": [
      "50.0\n"
     ]
    },
    {
     "output_type": "stream",
     "name": "stderr",
     "text": [
      "100%|██████████| 4/4 [00:00<00:00, 1756.59it/s]\n"
     ]
    },
    {
     "output_type": "stream",
     "name": "stdout",
     "text": [
      "25.0\n"
     ]
    },
    {
     "output_type": "stream",
     "name": "stderr",
     "text": [
      "100%|██████████| 8/8 [00:00<00:00, 1979.26it/s]\n"
     ]
    },
    {
     "output_type": "stream",
     "name": "stdout",
     "text": [
      "50.0\n"
     ]
    },
    {
     "output_type": "stream",
     "name": "stderr",
     "text": [
      "100%|██████████| 16/16 [00:00<00:00, 2212.92it/s]\n"
     ]
    },
    {
     "output_type": "stream",
     "name": "stdout",
     "text": [
      "56.25\n"
     ]
    },
    {
     "output_type": "stream",
     "name": "stderr",
     "text": [
      "100%|██████████| 32/32 [00:00<00:00, 3860.05it/s]\n"
     ]
    },
    {
     "output_type": "stream",
     "name": "stdout",
     "text": [
      "96.875\n"
     ]
    },
    {
     "output_type": "stream",
     "name": "stderr",
     "text": [
      "100%|██████████| 64/64 [00:00<00:00, 4455.21it/s]\n"
     ]
    },
    {
     "output_type": "stream",
     "name": "stdout",
     "text": [
      "101.5625\n"
     ]
    },
    {
     "output_type": "stream",
     "name": "stderr",
     "text": [
      "100%|██████████| 128/128 [00:00<00:00, 4779.32it/s]\n"
     ]
    },
    {
     "output_type": "stream",
     "name": "stdout",
     "text": [
      "100.78125\n"
     ]
    },
    {
     "output_type": "stream",
     "name": "stderr",
     "text": [
      "100%|██████████| 256/256 [00:00<00:00, 5677.15it/s]\n"
     ]
    },
    {
     "output_type": "stream",
     "name": "stdout",
     "text": [
      "105.859375\n"
     ]
    },
    {
     "output_type": "stream",
     "name": "stderr",
     "text": [
      "100%|██████████| 512/512 [00:00<00:00, 3537.40it/s]\n"
     ]
    },
    {
     "output_type": "stream",
     "name": "stdout",
     "text": [
      "104.1015625\n"
     ]
    },
    {
     "output_type": "stream",
     "name": "stderr",
     "text": [
      "100%|██████████| 1024/1024 [00:00<00:00, 4220.26it/s]\n"
     ]
    },
    {
     "output_type": "stream",
     "name": "stdout",
     "text": [
      "106.15234375\n"
     ]
    },
    {
     "output_type": "stream",
     "name": "stderr",
     "text": [
      "100%|██████████| 2048/2048 [00:00<00:00, 5452.58it/s]\n"
     ]
    },
    {
     "output_type": "stream",
     "name": "stdout",
     "text": [
      "106.25\n"
     ]
    },
    {
     "output_type": "stream",
     "name": "stderr",
     "text": [
      "100%|██████████| 4096/4096 [00:00<00:00, 4912.87it/s]\n"
     ]
    },
    {
     "output_type": "stream",
     "name": "stdout",
     "text": [
      "104.3212890625\n"
     ]
    },
    {
     "output_type": "stream",
     "name": "stderr",
     "text": [
      "100%|██████████| 8192/8192 [00:01<00:00, 5370.85it/s]\n"
     ]
    },
    {
     "output_type": "stream",
     "name": "stdout",
     "text": [
      "103.7841796875\n"
     ]
    },
    {
     "output_type": "stream",
     "name": "stderr",
     "text": [
      "100%|██████████| 16384/16384 [00:03<00:00, 5439.05it/s]\n"
     ]
    },
    {
     "output_type": "stream",
     "name": "stdout",
     "text": [
      "104.01611328125\n"
     ]
    },
    {
     "output_type": "stream",
     "name": "stderr",
     "text": [
      "100%|██████████| 32768/32768 [00:07<00:00, 4149.16it/s]\n"
     ]
    },
    {
     "output_type": "stream",
     "name": "stdout",
     "text": [
      "103.033447265625\n"
     ]
    },
    {
     "output_type": "stream",
     "name": "stderr",
     "text": [
      "100%|██████████| 65536/65536 [00:15<00:00, 4114.22it/s]\n"
     ]
    },
    {
     "output_type": "stream",
     "name": "stdout",
     "text": [
      "103.02276611328125\n"
     ]
    },
    {
     "output_type": "stream",
     "name": "stderr",
     "text": [
      "100%|██████████| 65536/65536 [00:17<00:00, 3851.42it/s]\n"
     ]
    },
    {
     "output_type": "stream",
     "name": "stdout",
     "text": [
      "154.04815673828125\n"
     ]
    },
    {
     "output_type": "stream",
     "name": "stderr",
     "text": [
      "100%|██████████| 65536/65536 [00:23<00:00, 2779.61it/s]\n"
     ]
    },
    {
     "output_type": "stream",
     "name": "stdout",
     "text": [
      "205.56793212890625\n"
     ]
    },
    {
     "output_type": "stream",
     "name": "stderr",
     "text": [
      "100%|██████████| 65536/65536 [00:22<00:00, 2972.31it/s]\n"
     ]
    },
    {
     "output_type": "stream",
     "name": "stdout",
     "text": [
      "256.91375732421875\n"
     ]
    },
    {
     "output_type": "stream",
     "name": "stderr",
     "text": [
      "100%|██████████| 65536/65536 [00:23<00:00, 2752.95it/s]\n"
     ]
    },
    {
     "output_type": "stream",
     "name": "stdout",
     "text": [
      "308.18023681640625\n"
     ]
    },
    {
     "output_type": "stream",
     "name": "stderr",
     "text": [
      "100%|██████████| 65536/65536 [00:18<00:00, 3536.16it/s]\n"
     ]
    },
    {
     "output_type": "stream",
     "name": "stdout",
     "text": [
      "359.65576171875\n"
     ]
    },
    {
     "output_type": "stream",
     "name": "stderr",
     "text": [
      "100%|██████████| 65536/65536 [00:22<00:00, 2945.96it/s]\n"
     ]
    },
    {
     "output_type": "stream",
     "name": "stdout",
     "text": [
      "410.71014404296875\n"
     ]
    },
    {
     "output_type": "stream",
     "name": "stderr",
     "text": [
      "100%|██████████| 65536/65536 [00:17<00:00, 3650.57it/s]\n"
     ]
    },
    {
     "output_type": "stream",
     "name": "stdout",
     "text": [
      "461.688232421875\n"
     ]
    },
    {
     "output_type": "stream",
     "name": "stderr",
     "text": [
      "100%|██████████| 65536/65536 [00:28<00:00, 2300.64it/s]\n"
     ]
    },
    {
     "output_type": "stream",
     "name": "stdout",
     "text": [
      "513.0462646484375\n"
     ]
    },
    {
     "output_type": "stream",
     "name": "stderr",
     "text": [
      "100%|██████████| 65536/65536 [00:15<00:00, 4190.57it/s]\n"
     ]
    },
    {
     "output_type": "stream",
     "name": "stdout",
     "text": [
      "564.0182495117188\n"
     ]
    },
    {
     "output_type": "stream",
     "name": "stderr",
     "text": [
      "100%|██████████| 65536/65536 [00:15<00:00, 4105.05it/s]\n"
     ]
    },
    {
     "output_type": "stream",
     "name": "stdout",
     "text": [
      "615.0909423828125\n"
     ]
    },
    {
     "output_type": "stream",
     "name": "stderr",
     "text": [
      "100%|██████████| 65536/65536 [00:15<00:00, 4355.39it/s]\n"
     ]
    },
    {
     "output_type": "stream",
     "name": "stdout",
     "text": [
      "666.3864135742188\n"
     ]
    },
    {
     "output_type": "stream",
     "name": "stderr",
     "text": [
      "100%|██████████| 65536/65536 [00:14<00:00, 4638.67it/s]\n"
     ]
    },
    {
     "output_type": "stream",
     "name": "stdout",
     "text": [
      "717.8421020507812\n"
     ]
    },
    {
     "output_type": "stream",
     "name": "stderr",
     "text": [
      "100%|██████████| 65536/65536 [00:15<00:00, 4300.45it/s]\n"
     ]
    },
    {
     "output_type": "stream",
     "name": "stdout",
     "text": [
      "769.354248046875\n"
     ]
    },
    {
     "output_type": "stream",
     "name": "stderr",
     "text": [
      "100%|██████████| 65536/65536 [00:14<00:00, 4632.22it/s]\n"
     ]
    },
    {
     "output_type": "stream",
     "name": "stdout",
     "text": [
      "820.6527709960938\n"
     ]
    },
    {
     "output_type": "stream",
     "name": "stderr",
     "text": [
      "100%|██████████| 65536/65536 [00:14<00:00, 4408.32it/s]\n"
     ]
    },
    {
     "output_type": "stream",
     "name": "stdout",
     "text": [
      "872.3037719726562\n"
     ]
    },
    {
     "output_type": "display_data",
     "data": {
      "text/plain": [
       "<Figure size 432x288 with 1 Axes>"
      ],
      "image/svg+xml": "<?xml version=\"1.0\" encoding=\"utf-8\" standalone=\"no\"?>\n<!DOCTYPE svg PUBLIC \"-//W3C//DTD SVG 1.1//EN\"\n  \"http://www.w3.org/Graphics/SVG/1.1/DTD/svg11.dtd\">\n<svg height=\"252.746224pt\" version=\"1.1\" viewBox=\"0 0 362.98125 252.746224\" width=\"362.98125pt\" xmlns=\"http://www.w3.org/2000/svg\" xmlns:xlink=\"http://www.w3.org/1999/xlink\">\n <metadata>\n  <rdf:RDF xmlns:cc=\"http://creativecommons.org/ns#\" xmlns:dc=\"http://purl.org/dc/elements/1.1/\" xmlns:rdf=\"http://www.w3.org/1999/02/22-rdf-syntax-ns#\">\n   <cc:Work>\n    <dc:type rdf:resource=\"http://purl.org/dc/dcmitype/StillImage\"/>\n    <dc:date>2021-08-24T22:52:59.819011</dc:date>\n    <dc:format>image/svg+xml</dc:format>\n    <dc:creator>\n     <cc:Agent>\n      <dc:title>Matplotlib v3.4.3, https://matplotlib.org/</dc:title>\n     </cc:Agent>\n    </dc:creator>\n   </cc:Work>\n  </rdf:RDF>\n </metadata>\n <defs>\n  <style type=\"text/css\">*{stroke-linecap:butt;stroke-linejoin:round;}</style>\n </defs>\n <g id=\"figure_1\">\n  <g id=\"patch_1\">\n   <path d=\"M 0 252.746224 \nL 362.98125 252.746224 \nL 362.98125 0 \nL 0 0 \nz\n\" style=\"fill:none;\"/>\n  </g>\n  <g id=\"patch_2\">\n   <path d=\"M 72.770625 239.758125 \nL 290.210625 239.758125 \nL 290.210625 22.318125 \nL 72.770625 22.318125 \nz\n\" style=\"fill:#ffffff;\"/>\n  </g>\n  <g id=\"pane3d_1\">\n   <g id=\"patch_3\">\n    <path d=\"M 89.188845 186.144389 \nL 160.994634 125.955353 \nL 159.996465 39.152003 \nL 84.754398 94.060236 \n\" style=\"fill:#f2f2f2;opacity:0.5;stroke:#f2f2f2;stroke-linejoin:miter;\"/>\n   </g>\n  </g>\n  <g id=\"pane3d_2\">\n   <g id=\"patch_4\">\n    <path d=\"M 160.994634 125.955353 \nL 276.217305 159.446035 \nL 280.329196 69.652843 \nL 159.996465 39.152003 \n\" style=\"fill:#e6e6e6;opacity:0.5;stroke:#e6e6e6;stroke-linejoin:miter;\"/>\n   </g>\n  </g>\n  <g id=\"pane3d_3\">\n   <g id=\"patch_5\">\n    <path d=\"M 89.188845 186.144389 \nL 211.330504 226.035855 \nL 276.217305 159.446035 \nL 160.994634 125.955353 \n\" style=\"fill:#ececec;opacity:0.5;stroke:#ececec;stroke-linejoin:miter;\"/>\n   </g>\n  </g>\n  <g id=\"axis3d_1\">\n   <g id=\"line2d_1\">\n    <path d=\"M 89.188845 186.144389 \nL 211.330504 226.035855 \n\" style=\"fill:none;stroke:#000000;stroke-linecap:square;stroke-width:0.8;\"/>\n   </g>\n   <g id=\"Line3DCollection_1\">\n    <path d=\"M 96.586384 188.560426 \nL 168.002124 127.992154 \nL 167.300237 41.003296 \n\" style=\"fill:none;stroke:#b0b0b0;stroke-width:0.8;\"/>\n    <path d=\"M 119.433584 196.022321 \nL 189.620974 134.2759 \nL 189.844959 46.717726 \n\" style=\"fill:none;stroke:#b0b0b0;stroke-width:0.8;\"/>\n    <path d=\"M 142.746848 203.636433 \nL 211.644012 140.677128 \nL 212.829542 52.543648 \n\" style=\"fill:none;stroke:#b0b0b0;stroke-width:0.8;\"/>\n    <path d=\"M 166.540584 211.407467 \nL 234.082681 147.199163 \nL 236.266984 58.484356 \n\" style=\"fill:none;stroke:#b0b0b0;stroke-width:0.8;\"/>\n    <path d=\"M 190.8298 219.340325 \nL 256.948858 153.845458 \nL 260.170803 64.543277 \n\" style=\"fill:none;stroke:#b0b0b0;stroke-width:0.8;\"/>\n   </g>\n   <g id=\"xtick_1\">\n    <g id=\"line2d_2\">\n     <path d=\"M 97.208269 188.033001 \nL 95.339947 189.617539 \n\" style=\"fill:none;stroke:#000000;stroke-linecap:square;stroke-width:0.8;\"/>\n    </g>\n    <g id=\"text_1\">\n     <!-- 0 -->\n     <g transform=\"translate(85.869815 211.882658)scale(0.1 -0.1)\">\n      <defs>\n       <path d=\"M 2034 4250 \nQ 1547 4250 1301 3770 \nQ 1056 3291 1056 2328 \nQ 1056 1369 1301 889 \nQ 1547 409 2034 409 \nQ 2525 409 2770 889 \nQ 3016 1369 3016 2328 \nQ 3016 3291 2770 3770 \nQ 2525 4250 2034 4250 \nz\nM 2034 4750 \nQ 2819 4750 3233 4129 \nQ 3647 3509 3647 2328 \nQ 3647 1150 3233 529 \nQ 2819 -91 2034 -91 \nQ 1250 -91 836 529 \nQ 422 1150 422 2328 \nQ 422 3509 836 4129 \nQ 1250 4750 2034 4750 \nz\n\" id=\"DejaVuSans-30\" transform=\"scale(0.015625)\"/>\n      </defs>\n      <use xlink:href=\"#DejaVuSans-30\"/>\n     </g>\n    </g>\n   </g>\n   <g id=\"xtick_2\">\n    <g id=\"line2d_3\">\n     <path d=\"M 120.045274 195.484196 \nL 118.207555 197.100905 \n\" style=\"fill:none;stroke:#000000;stroke-linecap:square;stroke-width:0.8;\"/>\n    </g>\n    <g id=\"text_2\">\n     <!-- 2 -->\n     <g transform=\"translate(108.745665 219.53836)scale(0.1 -0.1)\">\n      <defs>\n       <path d=\"M 1228 531 \nL 3431 531 \nL 3431 0 \nL 469 0 \nL 469 531 \nQ 828 903 1448 1529 \nQ 2069 2156 2228 2338 \nQ 2531 2678 2651 2914 \nQ 2772 3150 2772 3378 \nQ 2772 3750 2511 3984 \nQ 2250 4219 1831 4219 \nQ 1534 4219 1204 4116 \nQ 875 4013 500 3803 \nL 500 4441 \nQ 881 4594 1212 4672 \nQ 1544 4750 1819 4750 \nQ 2544 4750 2975 4387 \nQ 3406 4025 3406 3419 \nQ 3406 3131 3298 2873 \nQ 3191 2616 2906 2266 \nQ 2828 2175 2409 1742 \nQ 1991 1309 1228 531 \nz\n\" id=\"DejaVuSans-32\" transform=\"scale(0.015625)\"/>\n      </defs>\n      <use xlink:href=\"#DejaVuSans-32\"/>\n     </g>\n    </g>\n   </g>\n   <g id=\"xtick_3\">\n    <g id=\"line2d_4\">\n     <path d=\"M 143.347795 203.087279 \nL 141.542323 204.737147 \n\" style=\"fill:none;stroke:#000000;stroke-linecap:square;stroke-width:0.8;\"/>\n    </g>\n    <g id=\"text_3\">\n     <!-- 4 -->\n     <g transform=\"translate(132.090332 227.350958)scale(0.1 -0.1)\">\n      <defs>\n       <path d=\"M 2419 4116 \nL 825 1625 \nL 2419 1625 \nL 2419 4116 \nz\nM 2253 4666 \nL 3047 4666 \nL 3047 1625 \nL 3713 1625 \nL 3713 1100 \nL 3047 1100 \nL 3047 0 \nL 2419 0 \nL 2419 1100 \nL 313 1100 \nL 313 1709 \nL 2253 4666 \nz\n\" id=\"DejaVuSans-34\" transform=\"scale(0.015625)\"/>\n      </defs>\n      <use xlink:href=\"#DejaVuSans-34\"/>\n     </g>\n    </g>\n   </g>\n   <g id=\"xtick_4\">\n    <g id=\"line2d_5\">\n     <path d=\"M 167.130214 210.846941 \nL 165.358716 212.531 \n\" style=\"fill:none;stroke:#000000;stroke-linecap:square;stroke-width:0.8;\"/>\n    </g>\n    <g id=\"text_4\">\n     <!-- 6 -->\n     <g transform=\"translate(155.918377 235.325325)scale(0.1 -0.1)\">\n      <defs>\n       <path d=\"M 2113 2584 \nQ 1688 2584 1439 2293 \nQ 1191 2003 1191 1497 \nQ 1191 994 1439 701 \nQ 1688 409 2113 409 \nQ 2538 409 2786 701 \nQ 3034 994 3034 1497 \nQ 3034 2003 2786 2293 \nQ 2538 2584 2113 2584 \nz\nM 3366 4563 \nL 3366 3988 \nQ 3128 4100 2886 4159 \nQ 2644 4219 2406 4219 \nQ 1781 4219 1451 3797 \nQ 1122 3375 1075 2522 \nQ 1259 2794 1537 2939 \nQ 1816 3084 2150 3084 \nQ 2853 3084 3261 2657 \nQ 3669 2231 3669 1497 \nQ 3669 778 3244 343 \nQ 2819 -91 2113 -91 \nQ 1303 -91 875 529 \nQ 447 1150 447 2328 \nQ 447 3434 972 4092 \nQ 1497 4750 2381 4750 \nQ 2619 4750 2861 4703 \nQ 3103 4656 3366 4563 \nz\n\" id=\"DejaVuSans-36\" transform=\"scale(0.015625)\"/>\n      </defs>\n      <use xlink:href=\"#DejaVuSans-36\"/>\n     </g>\n    </g>\n   </g>\n   <g id=\"xtick_5\">\n    <g id=\"line2d_6\">\n     <path d=\"M 191.407509 218.76807 \nL 189.671799 220.487394 \n\" style=\"fill:none;stroke:#000000;stroke-linecap:square;stroke-width:0.8;\"/>\n    </g>\n    <g id=\"text_5\">\n     <!-- 8 -->\n     <g transform=\"translate(180.244969 243.466536)scale(0.1 -0.1)\">\n      <defs>\n       <path d=\"M 2034 2216 \nQ 1584 2216 1326 1975 \nQ 1069 1734 1069 1313 \nQ 1069 891 1326 650 \nQ 1584 409 2034 409 \nQ 2484 409 2743 651 \nQ 3003 894 3003 1313 \nQ 3003 1734 2745 1975 \nQ 2488 2216 2034 2216 \nz\nM 1403 2484 \nQ 997 2584 770 2862 \nQ 544 3141 544 3541 \nQ 544 4100 942 4425 \nQ 1341 4750 2034 4750 \nQ 2731 4750 3128 4425 \nQ 3525 4100 3525 3541 \nQ 3525 3141 3298 2862 \nQ 3072 2584 2669 2484 \nQ 3125 2378 3379 2068 \nQ 3634 1759 3634 1313 \nQ 3634 634 3220 271 \nQ 2806 -91 2034 -91 \nQ 1263 -91 848 271 \nQ 434 634 434 1313 \nQ 434 1759 690 2068 \nQ 947 2378 1403 2484 \nz\nM 1172 3481 \nQ 1172 3119 1398 2916 \nQ 1625 2713 2034 2713 \nQ 2441 2713 2670 2916 \nQ 2900 3119 2900 3481 \nQ 2900 3844 2670 4047 \nQ 2441 4250 2034 4250 \nQ 1625 4250 1398 4047 \nQ 1172 3844 1172 3481 \nz\n\" id=\"DejaVuSans-38\" transform=\"scale(0.015625)\"/>\n      </defs>\n      <use xlink:href=\"#DejaVuSans-38\"/>\n     </g>\n    </g>\n   </g>\n  </g>\n  <g id=\"axis3d_2\">\n   <g id=\"line2d_7\">\n    <path d=\"M 276.217305 159.446035 \nL 211.330504 226.035855 \n\" style=\"fill:none;stroke:#000000;stroke-linecap:square;stroke-width:0.8;\"/>\n   </g>\n   <g id=\"Line3DCollection_2\">\n    <path d=\"M 89.957573 90.263196 \nL 94.13687 181.996856 \nL 215.820168 221.428355 \n\" style=\"fill:none;stroke:#b0b0b0;stroke-width:0.8;\"/>\n    <path d=\"M 107.340837 77.577681 \nL 110.686535 168.124599 \nL 230.816885 206.038034 \n\" style=\"fill:none;stroke:#b0b0b0;stroke-width:0.8;\"/>\n    <path d=\"M 124.049162 65.384707 \nL 126.620996 154.768018 \nL 245.227289 191.249414 \n\" style=\"fill:none;stroke:#b0b0b0;stroke-width:0.8;\"/>\n    <path d=\"M 140.121108 53.656133 \nL 141.973931 141.898883 \nL 259.085106 177.027886 \n\" style=\"fill:none;stroke:#b0b0b0;stroke-width:0.8;\"/>\n    <path d=\"M 155.592352 42.365924 \nL 156.776605 129.490989 \nL 272.421521 163.341442 \n\" style=\"fill:none;stroke:#b0b0b0;stroke-width:0.8;\"/>\n   </g>\n   <g id=\"xtick_6\">\n    <g id=\"line2d_8\">\n     <path d=\"M 214.79474 221.096064 \nL 217.873678 222.093795 \n\" style=\"fill:none;stroke:#000000;stroke-linecap:square;stroke-width:0.8;\"/>\n    </g>\n    <g id=\"text_6\">\n     <!-- 0 -->\n     <g transform=\"translate(225.521279 242.451884)scale(0.1 -0.1)\">\n      <use xlink:href=\"#DejaVuSans-30\"/>\n     </g>\n    </g>\n   </g>\n   <g id=\"xtick_7\">\n    <g id=\"line2d_9\">\n     <path d=\"M 229.805565 205.718859 \nL 232.842088 206.677193 \n\" style=\"fill:none;stroke:#000000;stroke-linecap:square;stroke-width:0.8;\"/>\n    </g>\n    <g id=\"text_7\">\n     <!-- 5 -->\n     <g transform=\"translate(240.271737 226.782651)scale(0.1 -0.1)\">\n      <defs>\n       <path d=\"M 691 4666 \nL 3169 4666 \nL 3169 4134 \nL 1269 4134 \nL 1269 2991 \nQ 1406 3038 1543 3061 \nQ 1681 3084 1819 3084 \nQ 2600 3084 3056 2656 \nQ 3513 2228 3513 1497 \nQ 3513 744 3044 326 \nQ 2575 -91 1722 -91 \nQ 1428 -91 1123 -41 \nQ 819 9 494 109 \nL 494 744 \nQ 775 591 1075 516 \nQ 1375 441 1709 441 \nQ 2250 441 2565 725 \nQ 2881 1009 2881 1497 \nQ 2881 1984 2565 2268 \nQ 2250 2553 1709 2553 \nQ 1456 2553 1204 2497 \nQ 953 2441 691 2322 \nL 691 4666 \nz\n\" id=\"DejaVuSans-35\" transform=\"scale(0.015625)\"/>\n      </defs>\n      <use xlink:href=\"#DejaVuSans-35\"/>\n     </g>\n    </g>\n   </g>\n   <g id=\"xtick_8\">\n    <g id=\"line2d_10\">\n     <path d=\"M 244.22977 190.942593 \nL 247.224807 191.863819 \n\" style=\"fill:none;stroke:#000000;stroke-linecap:square;stroke-width:0.8;\"/>\n    </g>\n    <g id=\"text_8\">\n     <!-- 10 -->\n     <g transform=\"translate(251.263855 211.726453)scale(0.1 -0.1)\">\n      <defs>\n       <path d=\"M 794 531 \nL 1825 531 \nL 1825 4091 \nL 703 3866 \nL 703 4441 \nL 1819 4666 \nL 2450 4666 \nL 2450 531 \nL 3481 531 \nL 3481 0 \nL 794 0 \nL 794 531 \nz\n\" id=\"DejaVuSans-31\" transform=\"scale(0.015625)\"/>\n      </defs>\n      <use xlink:href=\"#DejaVuSans-31\"/>\n      <use x=\"63.623047\" xlink:href=\"#DejaVuSans-30\"/>\n     </g>\n    </g>\n   </g>\n   <g id=\"xtick_9\">\n    <g id=\"line2d_11\">\n     <path d=\"M 258.101082 176.732715 \nL 261.055552 177.618946 \n\" style=\"fill:none;stroke:#000000;stroke-linecap:square;stroke-width:0.8;\"/>\n    </g>\n    <g id=\"text_9\">\n     <!-- 15 -->\n     <g transform=\"translate(264.893349 197.248007)scale(0.1 -0.1)\">\n      <use xlink:href=\"#DejaVuSans-31\"/>\n      <use x=\"63.623047\" xlink:href=\"#DejaVuSans-35\"/>\n     </g>\n    </g>\n   </g>\n   <g id=\"xtick_10\">\n    <g id=\"line2d_12\">\n     <path d=\"M 271.450693 163.057271 \nL 274.3655 163.910465 \n\" style=\"fill:none;stroke:#000000;stroke-linecap:square;stroke-width:0.8;\"/>\n    </g>\n    <g id=\"text_10\">\n     <!-- 20 -->\n     <g transform=\"translate(278.009685 183.314681)scale(0.1 -0.1)\">\n      <use xlink:href=\"#DejaVuSans-32\"/>\n      <use x=\"63.623047\" xlink:href=\"#DejaVuSans-30\"/>\n     </g>\n    </g>\n   </g>\n  </g>\n  <g id=\"axis3d_3\">\n   <g id=\"line2d_13\">\n    <path d=\"M 276.217305 159.446035 \nL 280.329196 69.652843 \n\" style=\"fill:none;stroke:#000000;stroke-linecap:square;stroke-width:0.8;\"/>\n   </g>\n   <g id=\"Line3DCollection_3\">\n    <path d=\"M 276.296084 157.725696 \nL 160.97547 124.28885 \nL 89.104026 184.383074 \n\" style=\"fill:none;stroke:#b0b0b0;stroke-width:0.8;\"/>\n    <path d=\"M 277.059303 141.058951 \nL 160.789894 108.150645 \nL 88.282013 167.313452 \n\" style=\"fill:none;stroke:#b0b0b0;stroke-width:0.8;\"/>\n    <path d=\"M 277.835309 124.112955 \nL 160.601357 91.755015 \nL 87.445701 149.946878 \n\" style=\"fill:none;stroke:#b0b0b0;stroke-width:0.8;\"/>\n    <path d=\"M 278.624428 106.880632 \nL 160.409789 75.095752 \nL 86.594711 132.275535 \n\" style=\"fill:none;stroke:#b0b0b0;stroke-width:0.8;\"/>\n    <path d=\"M 279.426993 89.354663 \nL 160.215115 58.166446 \nL 85.728656 114.291328 \n\" style=\"fill:none;stroke:#b0b0b0;stroke-width:0.8;\"/>\n    <path d=\"M 280.243351 71.527477 \nL 160.017261 40.960476 \nL 84.84713 95.985876 \n\" style=\"fill:none;stroke:#b0b0b0;stroke-width:0.8;\"/>\n   </g>\n   <g id=\"xtick_11\">\n    <g id=\"line2d_14\">\n     <path d=\"M 275.328188 157.445058 \nL 278.234181 158.287641 \n\" style=\"fill:none;stroke:#000000;stroke-linecap:square;stroke-width:0.8;\"/>\n    </g>\n    <g id=\"text_11\">\n     <!-- 0.0 -->\n     <g transform=\"translate(286.596228 162.724971)scale(0.1 -0.1)\">\n      <defs>\n       <path d=\"M 684 794 \nL 1344 794 \nL 1344 0 \nL 684 0 \nL 684 794 \nz\n\" id=\"DejaVuSans-2e\" transform=\"scale(0.015625)\"/>\n      </defs>\n      <use xlink:href=\"#DejaVuSans-30\"/>\n      <use x=\"63.623047\" xlink:href=\"#DejaVuSans-2e\"/>\n      <use x=\"95.410156\" xlink:href=\"#DejaVuSans-30\"/>\n     </g>\n    </g>\n   </g>\n   <g id=\"xtick_12\">\n    <g id=\"line2d_15\">\n     <path d=\"M 276.083064 140.782641 \nL 279.014125 141.612233 \n\" style=\"fill:none;stroke:#000000;stroke-linecap:square;stroke-width:0.8;\"/>\n    </g>\n    <g id=\"text_12\">\n     <!-- 0.2 -->\n     <g transform=\"translate(287.507693 146.098385)scale(0.1 -0.1)\">\n      <use xlink:href=\"#DejaVuSans-30\"/>\n      <use x=\"63.623047\" xlink:href=\"#DejaVuSans-2e\"/>\n      <use x=\"95.410156\" xlink:href=\"#DejaVuSans-32\"/>\n     </g>\n    </g>\n   </g>\n   <g id=\"xtick_13\">\n    <g id=\"line2d_16\">\n     <path d=\"M 276.850582 123.841159 \nL 279.807147 124.657205 \n\" style=\"fill:none;stroke:#000000;stroke-linecap:square;stroke-width:0.8;\"/>\n    </g>\n    <g id=\"text_13\">\n     <!-- 0.4 -->\n     <g transform=\"translate(288.434374 129.194262)scale(0.1 -0.1)\">\n      <use xlink:href=\"#DejaVuSans-30\"/>\n      <use x=\"63.623047\" xlink:href=\"#DejaVuSans-2e\"/>\n      <use x=\"95.410156\" xlink:href=\"#DejaVuSans-34\"/>\n     </g>\n    </g>\n   </g>\n   <g id=\"xtick_14\">\n    <g id=\"line2d_17\">\n     <path d=\"M 277.631064 106.613542 \nL 280.613579 107.415464 \n\" style=\"fill:none;stroke:#000000;stroke-linecap:square;stroke-width:0.8;\"/>\n    </g>\n    <g id=\"text_14\">\n     <!-- 0.6 -->\n     <g transform=\"translate(289.376653 112.005593)scale(0.1 -0.1)\">\n      <use xlink:href=\"#DejaVuSans-30\"/>\n      <use x=\"63.623047\" xlink:href=\"#DejaVuSans-2e\"/>\n      <use x=\"95.410156\" xlink:href=\"#DejaVuSans-36\"/>\n     </g>\n    </g>\n   </g>\n   <g id=\"xtick_15\">\n    <g id=\"line2d_18\">\n     <path d=\"M 278.42484 89.092479 \nL 281.433765 89.879674 \n\" style=\"fill:none;stroke:#000000;stroke-linecap:square;stroke-width:0.8;\"/>\n    </g>\n    <g id=\"text_15\">\n     <!-- 0.8 -->\n     <g transform=\"translate(290.334928 94.525134)scale(0.1 -0.1)\">\n      <use xlink:href=\"#DejaVuSans-30\"/>\n      <use x=\"63.623047\" xlink:href=\"#DejaVuSans-2e\"/>\n      <use x=\"95.410156\" xlink:href=\"#DejaVuSans-38\"/>\n     </g>\n    </g>\n   </g>\n   <g id=\"xtick_16\">\n    <g id=\"line2d_19\">\n     <path d=\"M 279.232253 71.270409 \nL 282.268058 72.042251 \n\" style=\"fill:none;stroke:#000000;stroke-linecap:square;stroke-width:0.8;\"/>\n    </g>\n    <g id=\"text_16\">\n     <!-- 1.0 -->\n     <g transform=\"translate(291.30961 76.74539)scale(0.1 -0.1)\">\n      <use xlink:href=\"#DejaVuSans-31\"/>\n      <use x=\"63.623047\" xlink:href=\"#DejaVuSans-2e\"/>\n      <use x=\"95.410156\" xlink:href=\"#DejaVuSans-30\"/>\n     </g>\n    </g>\n   </g>\n  </g>\n  <g id=\"axes_1\">\n   <g id=\"Poly3DCollection_1\">\n    <path clip-path=\"url(#pdf60eaa288)\" d=\"M 176.292356 157.509222 \nL 187.599433 160.926585 \nL 190.524371 158.260189 \nL 179.245471 154.868334 \nz\n\" style=\"fill:#3b4cc0;\"/>\n    <path clip-path=\"url(#pdf60eaa288)\" d=\"M 173.317044 160.16996 \nL 184.652405 163.61312 \nL 187.599433 160.926585 \nL 176.292356 157.509222 \nz\n\" style=\"fill:#3b4cc0;\"/>\n    <path clip-path=\"url(#pdf60eaa288)\" d=\"M 159.913413 48.300339 \nL 171.190264 51.203143 \nL 174.189642 48.938221 \nL 162.94062 46.057177 \nz\n\" style=\"fill:#b40426;\"/>\n    <path clip-path=\"url(#pdf60eaa288)\" d=\"M 187.599433 160.926585 \nL 199.016195 164.377098 \nL 201.912268 161.684823 \nL 190.524371 158.260189 \nz\n\" style=\"fill:#3b4cc0;\"/>\n    <path clip-path=\"url(#pdf60eaa288)\" d=\"M 156.863354 50.560434 \nL 168.168134 53.485246 \nL 171.190264 51.203143 \nL 159.913413 48.300339 \nz\n\" style=\"fill:#b40426;\"/>\n    <path clip-path=\"url(#pdf60eaa288)\" d=\"M 184.652405 163.61312 \nL 196.098142 167.089806 \nL 199.016195 164.377098 \nL 187.599433 160.926585 \nz\n\" style=\"fill:#3b4cc0;\"/>\n    <path clip-path=\"url(#pdf60eaa288)\" d=\"M 171.190264 51.203143 \nL 182.576983 54.134228 \nL 185.547847 51.847228 \nL 174.189642 48.938221 \nz\n\" style=\"fill:#b40426;\"/>\n    <path clip-path=\"url(#pdf60eaa288)\" d=\"M 199.016195 164.377098 \nL 210.544243 167.861246 \nL 213.410751 165.142713 \nL 201.912268 161.684823 \nz\n\" style=\"fill:#3b4cc0;\"/>\n    <path clip-path=\"url(#pdf60eaa288)\" d=\"M 153.790183 52.837655 \nL 165.122991 55.784726 \nL 168.168134 53.485246 \nL 156.863354 50.560434 \nz\n\" style=\"fill:#b40426;\"/>\n    <path clip-path=\"url(#pdf60eaa288)\" d=\"M 181.683035 166.320022 \nL 193.157858 169.82318 \nL 196.098142 167.089806 \nL 184.652405 163.61312 \nz\n\" style=\"fill:#3b4cc0;\"/>\n    <path clip-path=\"url(#pdf60eaa288)\" d=\"M 168.168134 53.485246 \nL 179.583473 56.438662 \nL 182.576983 54.134228 \nL 171.190264 51.203143 \nz\n\" style=\"fill:#b40426;\"/>\n    <path clip-path=\"url(#pdf60eaa288)\" d=\"M 196.098142 167.089806 \nL 207.655873 170.600511 \nL 210.544243 167.861246 \nL 199.016195 164.377098 \nz\n\" style=\"fill:#3b4cc0;\"/>\n    <path clip-path=\"url(#pdf60eaa288)\" d=\"M 182.576983 54.134228 \nL 194.075184 57.094011 \nL 197.016831 54.784607 \nL 185.547847 51.847228 \nz\n\" style=\"fill:#b40426;\"/>\n    <path clip-path=\"url(#pdf60eaa288)\" d=\"M 210.544243 167.861246 \nL 222.185213 171.379522 \nL 225.021438 168.634346 \nL 213.410751 165.142713 \nz\n\" style=\"fill:#3b4cc0;\"/>\n    <path clip-path=\"url(#pdf60eaa288)\" d=\"M 150.693637 55.132197 \nL 162.054573 58.101782 \nL 165.122991 55.784726 \nL 153.790183 52.837655 \nz\n\" style=\"fill:#b40426;\"/>\n    <path clip-path=\"url(#pdf60eaa288)\" d=\"M 178.691067 169.047523 \nL 190.195089 172.577458 \nL 193.157858 169.82318 \nL 181.683035 166.320022 \nz\n\" style=\"fill:#3b4cc0;\"/>\n    <path clip-path=\"url(#pdf60eaa288)\" d=\"M 164.266997 68.22944 \nL 176.292356 157.509222 \nL 179.245471 154.868334 \nL 167.377716 65.834777 \nz\n\" style=\"fill:#dddcdc;\"/>\n    <path clip-path=\"url(#pdf60eaa288)\" d=\"M 165.122991 55.784726 \nL 176.567058 58.760729 \nL 179.583473 56.438662 \nL 168.168134 53.485246 \nz\n\" style=\"fill:#b40426;\"/>\n    <path clip-path=\"url(#pdf60eaa288)\" d=\"M 193.157858 169.82318 \nL 204.745391 173.360748 \nL 207.655873 170.600511 \nL 196.098142 167.089806 \nz\n\" style=\"fill:#3b4cc0;\"/>\n    <path clip-path=\"url(#pdf60eaa288)\" d=\"M 179.245471 154.868334 \nL 190.524371 158.260189 \nL 193.8129 69.593088 \nL 182.080641 66.510586 \nz\n\" style=\"fill:#dddcdc;\"/>\n    <path clip-path=\"url(#pdf60eaa288)\" d=\"M 179.583473 56.438662 \nL 191.111003 59.421105 \nL 194.075184 57.094011 \nL 182.576983 54.134228 \nz\n\" style=\"fill:#b40426;\"/>\n    <path clip-path=\"url(#pdf60eaa288)\" d=\"M 169.708453 76.223639 \nL 181.683035 166.320022 \nL 184.652405 163.61312 \nL 173.317044 160.16996 \nz\n\" style=\"fill:#8db0fe;\"/>\n    <path clip-path=\"url(#pdf60eaa288)\" d=\"M 207.655873 170.600511 \nL 219.327251 174.145737 \nL 222.185213 171.379522 \nL 210.544243 167.861246 \nz\n\" style=\"fill:#3b4cc0;\"/>\n    <path clip-path=\"url(#pdf60eaa288)\" d=\"M 194.075184 57.094011 \nL 205.686511 60.082914 \nL 208.598223 57.750776 \nL 197.016831 54.784607 \nz\n\" style=\"fill:#b40426;\"/>\n    <path clip-path=\"url(#pdf60eaa288)\" d=\"M 222.185213 171.379522 \nL 233.940773 174.93243 \nL 236.74598 172.160217 \nL 225.021438 168.634346 \nz\n\" style=\"fill:#3b4cc0;\"/>\n    <path clip-path=\"url(#pdf60eaa288)\" d=\"M 147.573447 57.444259 \nL 158.962612 60.436617 \nL 162.054573 58.101782 \nL 150.693637 55.132197 \nz\n\" style=\"fill:#b40426;\"/>\n    <path clip-path=\"url(#pdf60eaa288)\" d=\"M 175.676243 171.795861 \nL 187.209575 175.352879 \nL 190.195089 172.577458 \nL 178.691067 169.047523 \nz\n\" style=\"fill:#3b4cc0;\"/>\n    <path clip-path=\"url(#pdf60eaa288)\" d=\"M 161.13201 70.642785 \nL 173.317044 160.16996 \nL 176.292356 157.509222 \nL 164.266997 68.22944 \nz\n\" style=\"fill:#dddcdc;\"/>\n    <path clip-path=\"url(#pdf60eaa288)\" d=\"M 162.054573 58.101782 \nL 173.527472 61.100633 \nL 176.567058 58.760729 \nL 165.122991 55.784726 \nz\n\" style=\"fill:#b40426;\"/>\n    <path clip-path=\"url(#pdf60eaa288)\" d=\"M 190.195089 172.577458 \nL 201.812541 176.142197 \nL 204.745391 173.360748 \nL 193.157858 169.82318 \nz\n\" style=\"fill:#3b4cc0;\"/>\n    <path clip-path=\"url(#pdf60eaa288)\" d=\"M 176.567058 58.760729 \nL 188.124029 61.766093 \nL 191.111003 59.421105 \nL 179.583473 56.438662 \nz\n\" style=\"fill:#b40426;\"/>\n    <path clip-path=\"url(#pdf60eaa288)\" d=\"M 190.524371 158.260189 \nL 201.912268 161.684823 \nL 205.662976 72.706544 \nL 193.8129 69.593088 \nz\n\" style=\"fill:#dddcdc;\"/>\n    <path clip-path=\"url(#pdf60eaa288)\" d=\"M 191.111003 59.421105 \nL 202.752385 62.433004 \nL 205.686511 60.082914 \nL 194.075184 57.094011 \nz\n\" style=\"fill:#b40426;\"/>\n    <path clip-path=\"url(#pdf60eaa288)\" d=\"M 167.377716 65.834777 \nL 179.245471 154.868334 \nL 182.080641 66.510586 \nL 170.464449 63.458579 \nz\n\" style=\"fill:#f4987a;\"/>\n    <path clip-path=\"url(#pdf60eaa288)\" d=\"M 219.327251 174.145737 \nL 231.11396 177.725995 \nL 233.940773 174.93243 \nL 222.185213 171.379522 \nz\n\" style=\"fill:#3b4cc0;\"/>\n    <path clip-path=\"url(#pdf60eaa288)\" d=\"M 144.429343 59.774042 \nL 155.846834 62.789436 \nL 158.962612 60.436617 \nL 147.573447 57.444259 \nz\n\" style=\"fill:#b40426;\"/>\n    <path clip-path=\"url(#pdf60eaa288)\" d=\"M 205.686511 60.082914 \nL 217.412643 63.101368 \nL 220.293685 60.74616 \nL 208.598223 57.750776 \nz\n\" style=\"fill:#b40426;\"/>\n    <path clip-path=\"url(#pdf60eaa288)\" d=\"M 233.940773 174.93243 \nL 245.812622 178.520486 \nL 248.586059 175.720834 \nL 236.74598 172.160217 \nz\n\" style=\"fill:#3b4cc0;\"/>\n    <path clip-path=\"url(#pdf60eaa288)\" d=\"M 158.962612 60.436617 \nL 170.464449 63.458579 \nL 173.527472 61.100633 \nL 162.054573 58.101782 \nz\n\" style=\"fill:#b40426;\"/>\n    <path clip-path=\"url(#pdf60eaa288)\" d=\"M 187.209575 175.352879 \nL 198.857065 178.945105 \nL 201.812541 176.142197 \nL 190.195089 172.577458 \nz\n\" style=\"fill:#3b4cc0;\"/>\n    <path clip-path=\"url(#pdf60eaa288)\" d=\"M 173.527472 61.100633 \nL 185.113998 64.129183 \nL 188.124029 61.766093 \nL 176.567058 58.760729 \nz\n\" style=\"fill:#b40426;\"/>\n    <path clip-path=\"url(#pdf60eaa288)\" d=\"M 188.124029 61.766093 \nL 199.795584 64.801255 \nL 202.752385 62.433004 \nL 191.111003 59.421105 \nz\n\" style=\"fill:#b40426;\"/>\n    <path clip-path=\"url(#pdf60eaa288)\" d=\"M 141.261048 62.12175 \nL 152.706965 65.160447 \nL 155.846834 62.789436 \nL 144.429343 59.774042 \nz\n\" style=\"fill:#b40426;\"/>\n    <path clip-path=\"url(#pdf60eaa288)\" d=\"M 201.912268 161.684823 \nL 213.410751 165.142713 \nL 217.632651 75.851424 \nL 205.662976 72.706544 \nz\n\" style=\"fill:#dddcdc;\"/>\n    <path clip-path=\"url(#pdf60eaa288)\" d=\"M 202.752385 62.433004 \nL 214.509313 65.474797 \nL 217.412643 63.101368 \nL 205.686511 60.082914 \nz\n\" style=\"fill:#b40426;\"/>\n    <path clip-path=\"url(#pdf60eaa288)\" d=\"M 231.11396 177.725995 \nL 243.017719 181.341807 \nL 245.812622 178.520486 \nL 233.940773 174.93243 \nz\n\" style=\"fill:#3b4cc0;\"/>\n    <path clip-path=\"url(#pdf60eaa288)\" d=\"M 155.846834 62.789436 \nL 167.377716 65.834777 \nL 170.464449 63.458579 \nL 158.962612 60.436617 \nz\n\" style=\"fill:#b40426;\"/>\n    <path clip-path=\"url(#pdf60eaa288)\" d=\"M 217.412643 63.101368 \nL 229.255291 66.149816 \nL 232.10491 63.771192 \nL 220.293685 60.74616 \nz\n\" style=\"fill:#b40426;\"/>\n    <path clip-path=\"url(#pdf60eaa288)\" d=\"M 170.464449 63.458579 \nL 182.080641 66.510586 \nL 185.113998 64.129183 \nL 173.527472 61.100633 \nz\n\" style=\"fill:#b40426;\"/>\n    <path clip-path=\"url(#pdf60eaa288)\" d=\"M 185.113998 64.129183 \nL 196.815845 67.187878 \nL 199.795584 64.801255 \nL 188.124029 61.766093 \nz\n\" style=\"fill:#b40426;\"/>\n    <path clip-path=\"url(#pdf60eaa288)\" d=\"M 138.068281 64.487592 \nL 149.542723 67.549863 \nL 152.706965 65.160447 \nL 141.261048 62.12175 \nz\n\" style=\"fill:#b40426;\"/>\n    <path clip-path=\"url(#pdf60eaa288)\" d=\"M 199.795584 64.801255 \nL 211.583435 67.866658 \nL 214.509313 65.474797 \nL 202.752385 62.433004 \nz\n\" style=\"fill:#b40426;\"/>\n    <path clip-path=\"url(#pdf60eaa288)\" d=\"M 152.706965 65.160447 \nL 164.266997 68.22944 \nL 167.377716 65.834777 \nL 155.846834 62.789436 \nz\n\" style=\"fill:#b40426;\"/>\n    <path clip-path=\"url(#pdf60eaa288)\" d=\"M 213.410751 165.142713 \nL 225.021438 168.634346 \nL 229.723746 79.028206 \nL 217.632651 75.851424 \nz\n\" style=\"fill:#dddcdc;\"/>\n    <path clip-path=\"url(#pdf60eaa288)\" d=\"M 214.509313 65.474797 \nL 226.383517 68.546933 \nL 229.255291 66.149816 \nL 217.412643 63.101368 \nz\n\" style=\"fill:#b40426;\"/>\n    <path clip-path=\"url(#pdf60eaa288)\" d=\"M 166.5543 78.699874 \nL 178.691067 169.047523 \nL 181.683035 166.320022 \nL 169.708453 76.223639 \nz\n\" style=\"fill:#dddcdc;\"/>\n    <path clip-path=\"url(#pdf60eaa288)\" d=\"M 204.745391 173.360748 \nL 217.861996 89.142602 \nL 219.327251 174.145737 \nL 207.655873 170.600511 \nz\n\" style=\"fill:#8db0fe;\"/>\n    <path clip-path=\"url(#pdf60eaa288)\" d=\"M 229.255291 66.149816 \nL 241.2162 69.228705 \nL 244.033624 66.826316 \nL 232.10491 63.771192 \nz\n\" style=\"fill:#b40426;\"/>\n    <path clip-path=\"url(#pdf60eaa288)\" d=\"M 182.080641 66.510586 \nL 193.8129 69.593088 \nL 196.815845 67.187878 \nL 185.113998 64.129183 \nz\n\" style=\"fill:#b40426;\"/>\n    <path clip-path=\"url(#pdf60eaa288)\" d=\"M 157.972471 73.075029 \nL 169.708453 76.223639 \nL 173.317044 160.16996 \nL 161.13201 70.642785 \nz\n\" style=\"fill:#f4987a;\"/>\n    <path clip-path=\"url(#pdf60eaa288)\" d=\"M 134.850759 66.871778 \nL 146.353824 69.957899 \nL 149.542723 67.549863 \nL 138.068281 64.487592 \nz\n\" style=\"fill:#b40426;\"/>\n    <path clip-path=\"url(#pdf60eaa288)\" d=\"M 196.815845 67.187878 \nL 208.634745 70.277168 \nL 211.583435 67.866658 \nL 199.795584 64.801255 \nz\n\" style=\"fill:#b40426;\"/>\n    <path clip-path=\"url(#pdf60eaa288)\" d=\"M 149.542723 67.549863 \nL 161.13201 70.642785 \nL 164.266997 68.22944 \nL 152.706965 65.160447 \nz\n\" style=\"fill:#b40426;\"/>\n    <path clip-path=\"url(#pdf60eaa288)\" d=\"M 211.583435 67.866658 \nL 223.489329 70.962759 \nL 226.383517 68.546933 \nL 214.509313 65.474797 \nz\n\" style=\"fill:#b40426;\"/>\n    <path clip-path=\"url(#pdf60eaa288)\" d=\"M 163.375124 81.195755 \nL 175.676243 171.795861 \nL 178.691067 169.047523 \nL 166.5543 78.699874 \nz\n\" style=\"fill:#dddcdc;\"/>\n    <path clip-path=\"url(#pdf60eaa288)\" d=\"M 225.021438 168.634346 \nL 236.74598 172.160217 \nL 241.938118 82.237377 \nL 229.723746 79.028206 \nz\n\" style=\"fill:#dddcdc;\"/>\n    <path clip-path=\"url(#pdf60eaa288)\" d=\"M 226.383517 68.546933 \nL 238.376761 71.649866 \nL 241.2162 69.228705 \nL 229.255291 66.149816 \nz\n\" style=\"fill:#b40426;\"/>\n    <path clip-path=\"url(#pdf60eaa288)\" d=\"M 241.2162 69.228705 \nL 253.29715 72.338495 \nL 256.08159 69.911981 \nL 244.033624 66.826316 \nz\n\" style=\"fill:#b40426;\"/>\n    <path clip-path=\"url(#pdf60eaa288)\" d=\"M 131.608191 69.274522 \nL 143.139978 72.384772 \nL 146.353824 69.957899 \nL 134.850759 66.871778 \nz\n\" style=\"fill:#b40426;\"/>\n    <path clip-path=\"url(#pdf60eaa288)\" d=\"M 193.8129 69.593088 \nL 205.662976 72.706544 \nL 208.634745 70.277168 \nL 196.815845 67.187878 \nz\n\" style=\"fill:#b40426;\"/>\n    <path clip-path=\"url(#pdf60eaa288)\" d=\"M 146.353824 69.957899 \nL 157.972471 73.075029 \nL 161.13201 70.642785 \nL 149.542723 67.549863 \nz\n\" style=\"fill:#b40426;\"/>\n    <path clip-path=\"url(#pdf60eaa288)\" d=\"M 208.634745 70.277168 \nL 220.572463 73.397515 \nL 223.489329 70.962759 \nL 211.583435 67.866658 \nz\n\" style=\"fill:#b40426;\"/>\n    <path clip-path=\"url(#pdf60eaa288)\" d=\"M 223.489329 70.962759 \nL 235.515049 74.09002 \nL 238.376761 71.649866 \nL 226.383517 68.546933 \nz\n\" style=\"fill:#b40426;\"/>\n    <path clip-path=\"url(#pdf60eaa288)\" d=\"M 236.74598 172.160217 \nL 248.586059 175.720834 \nL 254.277661 85.479435 \nL 241.938118 82.237377 \nz\n\" style=\"fill:#dddcdc;\"/>\n    <path clip-path=\"url(#pdf60eaa288)\" d=\"M 204.702471 188.30103 \nL 216.646909 192.02289 \nL 219.585586 189.118776 \nL 207.672959 185.425901 \nz\n\" style=\"fill:#3b4cc0;\"/>\n    <path clip-path=\"url(#pdf60eaa288)\" d=\"M 238.376761 71.649866 \nL 250.490843 74.784064 \nL 253.29715 72.338495 \nL 241.2162 69.228705 \nz\n\" style=\"fill:#b40426;\"/>\n    <path clip-path=\"url(#pdf60eaa288)\" d=\"M 128.340285 71.696041 \nL 139.900891 74.830705 \nL 143.139978 72.384772 \nL 131.608191 69.274522 \nz\n\" style=\"fill:#b40426;\"/>\n    <path clip-path=\"url(#pdf60eaa288)\" d=\"M 253.29715 72.338495 \nL 265.499958 75.479652 \nL 268.250605 73.028649 \nL 256.08159 69.911981 \nz\n\" style=\"fill:#b40426;\"/>\n    <path clip-path=\"url(#pdf60eaa288)\" d=\"M 143.139978 72.384772 \nL 154.788091 75.526397 \nL 157.972471 73.075029 \nL 146.353824 69.957899 \nz\n\" style=\"fill:#b40426;\"/>\n    <path clip-path=\"url(#pdf60eaa288)\" d=\"M 205.662976 72.706544 \nL 217.632651 75.851424 \nL 220.572463 73.397515 \nL 208.634745 70.277168 \nz\n\" style=\"fill:#b40426;\"/>\n    <path clip-path=\"url(#pdf60eaa288)\" d=\"M 220.572463 73.397515 \nL 232.630799 76.549391 \nL 235.515049 74.09002 \nL 223.489329 70.962759 \nz\n\" style=\"fill:#b40426;\"/>\n    <path clip-path=\"url(#pdf60eaa288)\" d=\"M 172.119111 86.968738 \nL 184.190965 90.25959 \nL 187.209575 175.352879 \nL 175.676243 171.795861 \nz\n\" style=\"fill:#dddcdc;\"/>\n    <path clip-path=\"url(#pdf60eaa288)\" d=\"M 201.708681 191.198713 \nL 213.685064 194.949899 \nL 216.646909 192.02289 \nL 204.702471 188.30103 \nz\n\" style=\"fill:#3b4cc0;\"/>\n    <path clip-path=\"url(#pdf60eaa288)\" d=\"M 235.515049 74.09002 \nL 247.662411 77.248914 \nL 250.490843 74.784064 \nL 238.376761 71.649866 \nz\n\" style=\"fill:#b40426;\"/>\n    <path clip-path=\"url(#pdf60eaa288)\" d=\"M 125.046743 74.136558 \nL 136.636266 77.295924 \nL 139.900891 74.830705 \nL 128.340285 71.696041 \nz\n\" style=\"fill:#b40426;\"/>\n    <path clip-path=\"url(#pdf60eaa288)\" d=\"M 216.646909 192.02289 \nL 228.712304 195.782439 \nL 231.618374 192.848901 \nL 219.585586 189.118776 \nz\n\" style=\"fill:#3b4cc0;\"/>\n    <path clip-path=\"url(#pdf60eaa288)\" d=\"M 250.490843 74.784064 \nL 262.727599 77.95 \nL 265.499958 75.479652 \nL 253.29715 72.338495 \nz\n\" style=\"fill:#b40426;\"/>\n    <path clip-path=\"url(#pdf60eaa288)\" d=\"M 139.900891 74.830705 \nL 151.578575 77.997115 \nL 154.788091 75.526397 \nL 143.139978 72.384772 \nz\n\" style=\"fill:#b40426;\"/>\n    <path clip-path=\"url(#pdf60eaa288)\" d=\"M 201.812541 176.142197 \nL 214.836762 91.722189 \nL 217.861996 89.142602 \nL 204.745391 173.360748 \nz\n\" style=\"fill:#dddcdc;\"/>\n    <path clip-path=\"url(#pdf60eaa288)\" d=\"M 154.788091 75.526397 \nL 166.5543 78.699874 \nL 169.708453 76.223639 \nL 157.972471 73.075029 \nz\n\" style=\"fill:#b40426;\"/>\n    <path clip-path=\"url(#pdf60eaa288)\" d=\"M 217.861996 89.142602 \nL 230.212186 92.455995 \nL 231.11396 177.725995 \nL 219.327251 174.145737 \nz\n\" style=\"fill:#dddcdc;\"/>\n    <path clip-path=\"url(#pdf60eaa288)\" d=\"M 217.632651 75.851424 \nL 229.723746 79.028206 \nL 232.630799 76.549391 \nL 220.572463 73.397515 \nz\n\" style=\"fill:#b40426;\"/>\n    <path clip-path=\"url(#pdf60eaa288)\" d=\"M 198.691314 194.119215 \nL 210.699774 197.900077 \nL 213.685064 194.949899 \nL 201.708681 191.198713 \nz\n\" style=\"fill:#3b4cc0;\"/>\n    <path clip-path=\"url(#pdf60eaa288)\" d=\"M 232.630799 76.549391 \nL 244.811592 79.733274 \nL 247.662411 77.248914 \nL 235.515049 74.09002 \nz\n\" style=\"fill:#b40426;\"/>\n    <path clip-path=\"url(#pdf60eaa288)\" d=\"M 121.727261 76.596296 \nL 133.345798 79.780657 \nL 136.636266 77.295924 \nL 125.046743 74.136558 \nz\n\" style=\"fill:#b40426;\"/>\n    <path clip-path=\"url(#pdf60eaa288)\" d=\"M 184.190965 90.25959 \nL 196.388106 93.584596 \nL 198.857065 178.945105 \nL 187.209575 175.352879 \nz\n\" style=\"fill:#dddcdc;\"/>\n    <path clip-path=\"url(#pdf60eaa288)\" d=\"M 160.170625 83.711516 \nL 172.119111 86.968738 \nL 175.676243 171.795861 \nL 163.375124 81.195755 \nz\n\" style=\"fill:#f4987a;\"/>\n    <path clip-path=\"url(#pdf60eaa288)\" d=\"M 213.685064 194.949899 \nL 225.783206 198.739223 \nL 228.712304 195.782439 \nL 216.646909 192.02289 \nz\n\" style=\"fill:#3b4cc0;\"/>\n    <path clip-path=\"url(#pdf60eaa288)\" d=\"M 247.662411 77.248914 \nL 259.933273 80.439924 \nL 262.727599 77.95 \nL 250.490843 74.784064 \nz\n\" style=\"fill:#b40426;\"/>\n    <path clip-path=\"url(#pdf60eaa288)\" d=\"M 136.636266 77.295924 \nL 148.343624 80.487413 \nL 151.578575 77.997115 \nL 139.900891 74.830705 \nz\n\" style=\"fill:#b40426;\"/>\n    <path clip-path=\"url(#pdf60eaa288)\" d=\"M 198.857065 178.945105 \nL 211.787028 94.322667 \nL 214.836762 91.722189 \nL 201.812541 176.142197 \nz\n\" style=\"fill:#dddcdc;\"/>\n    <path clip-path=\"url(#pdf60eaa288)\" d=\"M 151.578575 77.997115 \nL 163.375124 81.195755 \nL 166.5543 78.699874 \nL 154.788091 75.526397 \nz\n\" style=\"fill:#b40426;\"/>\n    <path clip-path=\"url(#pdf60eaa288)\" d=\"M 230.212186 92.455995 \nL 242.690993 95.803895 \nL 243.017719 181.341807 \nL 231.11396 177.725995 \nz\n\" style=\"fill:#dddcdc;\"/>\n    <path clip-path=\"url(#pdf60eaa288)\" d=\"M 195.650091 197.062808 \nL 207.690761 200.873699 \nL 210.699774 197.900077 \nL 198.691314 194.119215 \nz\n\" style=\"fill:#3b4cc0;\"/>\n    <path clip-path=\"url(#pdf60eaa288)\" d=\"M 229.723746 79.028206 \nL 241.938118 82.237377 \nL 244.811592 79.733274 \nL 232.630799 76.549391 \nz\n\" style=\"fill:#b40426;\"/>\n    <path clip-path=\"url(#pdf60eaa288)\" d=\"M 118.381532 79.075483 \nL 130.029179 82.285137 \nL 133.345798 79.780657 \nL 121.727261 76.596296 \nz\n\" style=\"fill:#b40426;\"/>\n    <path clip-path=\"url(#pdf60eaa288)\" d=\"M 210.699774 197.900077 \nL 222.830806 201.71953 \nL 225.783206 198.739223 \nL 213.685064 194.949899 \nz\n\" style=\"fill:#3b4cc0;\"/>\n    <path clip-path=\"url(#pdf60eaa288)\" d=\"M 244.811592 79.733274 \nL 257.116715 82.949656 \nL 259.933273 80.439924 \nL 247.662411 77.248914 \nz\n\" style=\"fill:#b40426;\"/>\n    <path clip-path=\"url(#pdf60eaa288)\" d=\"M 133.345798 79.780657 \nL 145.082935 82.997524 \nL 148.343624 80.487413 \nL 136.636266 77.295924 \nz\n\" style=\"fill:#b40426;\"/>\n    <path clip-path=\"url(#pdf60eaa288)\" d=\"M 196.388106 93.584596 \nL 207.672959 185.425901 \nL 211.787028 94.322667 \nL 198.857065 178.945105 \nz\n\" style=\"fill:#dddcdc;\"/>\n    <path clip-path=\"url(#pdf60eaa288)\" d=\"M 148.343624 80.487413 \nL 160.170625 83.711516 \nL 163.375124 81.195755 \nL 151.578575 77.997115 \nz\n\" style=\"fill:#b40426;\"/>\n    <path clip-path=\"url(#pdf60eaa288)\" d=\"M 192.584728 200.029767 \nL 204.657741 203.871046 \nL 207.690761 200.873699 \nL 195.650091 197.062808 \nz\n\" style=\"fill:#3b4cc0;\"/>\n    <path clip-path=\"url(#pdf60eaa288)\" d=\"M 115.009243 81.57435 \nL 126.686098 84.8096 \nL 130.029179 82.285137 \nL 118.381532 79.075483 \nz\n\" style=\"fill:#b40426;\"/>\n    <path clip-path=\"url(#pdf60eaa288)\" d=\"M 207.690761 200.873699 \nL 219.854823 204.723643 \nL 222.830806 201.71953 \nL 210.699774 197.900077 \nz\n\" style=\"fill:#3b4cc0;\"/>\n    <path clip-path=\"url(#pdf60eaa288)\" d=\"M 241.938118 82.237377 \nL 254.277661 85.479435 \nL 257.116715 82.949656 \nL 244.811592 79.733274 \nz\n\" style=\"fill:#b40426;\"/>\n    <path clip-path=\"url(#pdf60eaa288)\" d=\"M 130.029179 82.285137 \nL 141.7962 85.527686 \nL 145.082935 82.997524 \nL 133.345798 79.780657 \nz\n\" style=\"fill:#b40426;\"/>\n    <path clip-path=\"url(#pdf60eaa288)\" d=\"M 193.254571 96.200209 \nL 204.702471 188.30103 \nL 207.672959 185.425901 \nL 196.388106 93.584596 \nz\n\" style=\"fill:#dddcdc;\"/>\n    <path clip-path=\"url(#pdf60eaa288)\" d=\"M 145.082935 82.997524 \nL 156.940499 86.247396 \nL 160.170625 83.711516 \nL 148.343624 80.487413 \nz\n\" style=\"fill:#b40426;\"/>\n    <path clip-path=\"url(#pdf60eaa288)\" d=\"M 207.672959 185.425901 \nL 219.585586 189.118776 \nL 224.206032 97.690086 \nL 211.787028 94.322667 \nz\n\" style=\"fill:#dddcdc;\"/>\n    <path clip-path=\"url(#pdf60eaa288)\" d=\"M 111.610077 84.093134 \nL 123.316235 87.354287 \nL 126.686098 84.8096 \nL 115.009243 81.57435 \nz\n\" style=\"fill:#b40426;\"/>\n    <path clip-path=\"url(#pdf60eaa288)\" d=\"M 204.657741 203.871046 \nL 216.854974 207.751847 \nL 219.854823 204.723643 \nL 207.690761 200.873699 \nz\n\" style=\"fill:#3b4cc0;\"/>\n    <path clip-path=\"url(#pdf60eaa288)\" d=\"M 126.686098 84.8096 \nL 138.483105 88.07814 \nL 141.7962 85.527686 \nL 130.029179 82.285137 \nz\n\" style=\"fill:#b40426;\"/>\n    <path clip-path=\"url(#pdf60eaa288)\" d=\"M 190.095481 98.837153 \nL 201.708681 191.198713 \nL 204.702471 188.30103 \nL 193.254571 96.200209 \nz\n\" style=\"fill:#dddcdc;\"/>\n    <path clip-path=\"url(#pdf60eaa288)\" d=\"M 141.7962 85.527686 \nL 153.684438 88.803637 \nL 156.940499 86.247396 \nL 145.082935 82.997524 \nz\n\" style=\"fill:#b40426;\"/>\n    <path clip-path=\"url(#pdf60eaa288)\" d=\"M 156.940499 86.247396 \nL 168.920352 89.530786 \nL 172.119111 86.968738 \nL 160.170625 83.711516 \nz\n\" style=\"fill:#b40426;\"/>\n    <path clip-path=\"url(#pdf60eaa288)\" d=\"M 219.585586 189.118776 \nL 231.618374 192.848901 \nL 236.75543 101.092861 \nL 224.206032 97.690086 \nz\n\" style=\"fill:#dddcdc;\"/>\n    <path clip-path=\"url(#pdf60eaa288)\" d=\"M 108.183711 86.632073 \nL 119.919267 89.919441 \nL 123.316235 87.354287 \nL 111.610077 84.093134 \nz\n\" style=\"fill:#b40426;\"/>\n    <path clip-path=\"url(#pdf60eaa288)\" d=\"M 123.316235 87.354287 \nL 135.143331 90.649131 \nL 138.483105 88.07814 \nL 126.686098 84.8096 \nz\n\" style=\"fill:#b40426;\"/>\n    <path clip-path=\"url(#pdf60eaa288)\" d=\"M 186.910523 101.49569 \nL 198.691314 194.119215 \nL 201.708681 191.198713 \nL 190.095481 98.837153 \nz\n\" style=\"fill:#dddcdc;\"/>\n    <path clip-path=\"url(#pdf60eaa288)\" d=\"M 138.483105 88.07814 \nL 150.402128 91.380486 \nL 153.684438 88.803637 \nL 141.7962 85.527686 \nz\n\" style=\"fill:#b40426;\"/>\n    <path clip-path=\"url(#pdf60eaa288)\" d=\"M 153.684438 88.803637 \nL 165.695776 92.113511 \nL 168.920352 89.530786 \nL 156.940499 86.247396 \nz\n\" style=\"fill:#b40426;\"/>\n    <path clip-path=\"url(#pdf60eaa288)\" d=\"M 104.729817 89.19141 \nL 116.494867 92.50531 \nL 119.919267 89.919441 \nL 108.183711 86.632073 \nz\n\" style=\"fill:#b40426;\"/>\n    <path clip-path=\"url(#pdf60eaa288)\" d=\"M 168.920352 89.530786 \nL 181.024395 92.848212 \nL 184.190965 90.25959 \nL 172.119111 86.968738 \nz\n\" style=\"fill:#b40426;\"/>\n    <path clip-path=\"url(#pdf60eaa288)\" d=\"M 119.919267 89.919441 \nL 131.776556 93.240909 \nL 135.143331 90.649131 \nL 123.316235 87.354287 \nz\n\" style=\"fill:#b40426;\"/>\n    <path clip-path=\"url(#pdf60eaa288)\" d=\"M 183.699377 104.176086 \nL 195.650091 197.062808 \nL 198.691314 194.119215 \nL 186.910523 101.49569 \nz\n\" style=\"fill:#dddcdc;\"/>\n    <path clip-path=\"url(#pdf60eaa288)\" d=\"M 135.143331 90.649131 \nL 147.09325 93.978192 \nL 150.402128 91.380486 \nL 138.483105 88.07814 \nz\n\" style=\"fill:#b40426;\"/>\n    <path clip-path=\"url(#pdf60eaa288)\" d=\"M 150.402128 91.380486 \nL 162.44507 94.717166 \nL 165.695776 92.113511 \nL 153.684438 88.803637 \nz\n\" style=\"fill:#b40426;\"/>\n    <path clip-path=\"url(#pdf60eaa288)\" d=\"M 214.836762 91.722189 \nL 227.221283 95.062431 \nL 230.212186 92.455995 \nL 217.861996 89.142602 \nz\n\" style=\"fill:#b40426;\"/>\n    <path clip-path=\"url(#pdf60eaa288)\" d=\"M 101.248063 91.771392 \nL 113.0427 95.112147 \nL 116.494867 92.50531 \nL 104.729817 89.19141 \nz\n\" style=\"fill:#b40426;\"/>\n    <path clip-path=\"url(#pdf60eaa288)\" d=\"M 165.695776 92.113511 \nL 177.832136 95.457836 \nL 181.024395 92.848212 \nL 168.920352 89.530786 \nz\n\" style=\"fill:#b40426;\"/>\n    <path clip-path=\"url(#pdf60eaa288)\" d=\"M 116.494867 92.50531 \nL 128.38245 95.853725 \nL 131.776556 93.240909 \nL 119.919267 89.919441 \nz\n\" style=\"fill:#b40426;\"/>\n    <path clip-path=\"url(#pdf60eaa288)\" d=\"M 180.461719 106.878612 \nL 192.584728 200.029767 \nL 195.650091 197.062808 \nL 183.699377 104.176086 \nz\n\" style=\"fill:#dddcdc;\"/>\n    <path clip-path=\"url(#pdf60eaa288)\" d=\"M 181.024395 92.848212 \nL 193.254571 96.200209 \nL 196.388106 93.584596 \nL 184.190965 90.25959 \nz\n\" style=\"fill:#b40426;\"/>\n    <path clip-path=\"url(#pdf60eaa288)\" d=\"M 131.776556 93.240909 \nL 143.757481 96.597009 \nL 147.09325 93.978192 \nL 135.143331 90.649131 \nz\n\" style=\"fill:#b40426;\"/>\n    <path clip-path=\"url(#pdf60eaa288)\" d=\"M 147.09325 93.978192 \nL 159.167915 97.342004 \nL 162.44507 94.717166 \nL 150.402128 91.380486 \nz\n\" style=\"fill:#b40426;\"/>\n    <path clip-path=\"url(#pdf60eaa288)\" d=\"M 211.787028 94.322667 \nL 224.206032 97.690086 \nL 227.221283 95.062431 \nL 214.836762 91.722189 \nz\n\" style=\"fill:#b40426;\"/>\n    <path clip-path=\"url(#pdf60eaa288)\" d=\"M 97.738109 94.372269 \nL 109.562427 97.740207 \nL 113.0427 95.112147 \nL 101.248063 91.771392 \nz\n\" style=\"fill:#b40426;\"/>\n    <path clip-path=\"url(#pdf60eaa288)\" d=\"M 162.44507 94.717166 \nL 174.613874 98.088717 \nL 177.832136 95.457836 \nL 165.695776 92.113511 \nz\n\" style=\"fill:#b40426;\"/>\n    <path clip-path=\"url(#pdf60eaa288)\" d=\"M 227.221283 95.062431 \nL 239.735305 98.437602 \nL 242.690993 95.803895 \nL 230.212186 92.455995 \nz\n\" style=\"fill:#b40426;\"/>\n    <path clip-path=\"url(#pdf60eaa288)\" d=\"M 113.0427 95.112147 \nL 124.960679 98.487839 \nL 128.38245 95.853725 \nL 116.494867 92.50531 \nz\n\" style=\"fill:#b40426;\"/>\n    <path clip-path=\"url(#pdf60eaa288)\" d=\"M 177.832136 95.457836 \nL 190.095481 98.837153 \nL 193.254571 96.200209 \nL 181.024395 92.848212 \nz\n\" style=\"fill:#b40426;\"/>\n    <path clip-path=\"url(#pdf60eaa288)\" d=\"M 128.38245 95.853725 \nL 140.394491 99.237197 \nL 143.757481 96.597009 \nL 131.776556 93.240909 \nz\n\" style=\"fill:#b40426;\"/>\n    <path clip-path=\"url(#pdf60eaa288)\" d=\"M 143.757481 96.597009 \nL 155.863986 99.988287 \nL 159.167915 97.342004 \nL 147.09325 93.978192 \nz\n\" style=\"fill:#b40426;\"/>\n    <path clip-path=\"url(#pdf60eaa288)\" d=\"M 159.167915 97.342004 \nL 171.369289 100.741116 \nL 174.613874 98.088717 \nL 162.44507 94.717166 \nz\n\" style=\"fill:#b40426;\"/>\n    <path clip-path=\"url(#pdf60eaa288)\" d=\"M 224.206032 97.690086 \nL 236.75543 101.092861 \nL 239.735305 98.437602 \nL 227.221283 95.062431 \nz\n\" style=\"fill:#b40426;\"/>\n    <path clip-path=\"url(#pdf60eaa288)\" d=\"M 109.562427 97.740207 \nL 121.510904 101.14351 \nL 124.960679 98.487839 \nL 113.0427 95.112147 \nz\n\" style=\"fill:#b40426;\"/>\n    <path clip-path=\"url(#pdf60eaa288)\" d=\"M 174.613874 98.088717 \nL 186.910523 101.49569 \nL 190.095481 98.837153 \nL 177.832136 95.457836 \nz\n\" style=\"fill:#b40426;\"/>\n    <path clip-path=\"url(#pdf60eaa288)\" d=\"M 124.960679 98.487839 \nL 137.003946 101.899017 \nL 140.394491 99.237197 \nL 128.38245 95.853725 \nz\n\" style=\"fill:#b40426;\"/>\n    <path clip-path=\"url(#pdf60eaa288)\" d=\"M 189.727163 113.132894 \nL 202.391815 116.700188 \nL 204.657741 203.871046 \nL 192.584728 200.029767 \nz\n\" style=\"fill:#dddcdc;\"/>\n    <path clip-path=\"url(#pdf60eaa288)\" d=\"M 140.394491 99.237197 \nL 152.532955 102.656278 \nL 155.863986 99.988287 \nL 143.757481 96.597009 \nz\n\" style=\"fill:#b40426;\"/>\n    <path clip-path=\"url(#pdf60eaa288)\" d=\"M 155.863986 99.988287 \nL 168.098057 103.415299 \nL 171.369289 100.741116 \nL 159.167915 97.342004 \nz\n\" style=\"fill:#b40426;\"/>\n    <path clip-path=\"url(#pdf60eaa288)\" d=\"M 171.369289 100.741116 \nL 183.699377 104.176086 \nL 186.910523 101.49569 \nL 174.613874 98.088717 \nz\n\" style=\"fill:#b40426;\"/>\n    <path clip-path=\"url(#pdf60eaa288)\" d=\"M 121.510904 101.14351 \nL 133.585506 104.582738 \nL 137.003946 101.899017 \nL 124.960679 98.487839 \nz\n\" style=\"fill:#b40426;\"/>\n    <path clip-path=\"url(#pdf60eaa288)\" d=\"M 137.003946 101.899017 \nL 149.174487 105.346245 \nL 152.532955 102.656278 \nL 140.394491 99.237197 \nz\n\" style=\"fill:#b40426;\"/>\n    <path clip-path=\"url(#pdf60eaa288)\" d=\"M 202.391815 116.700188 \nL 215.19336 120.306042 \nL 216.854974 207.751847 \nL 204.657741 203.871046 \nz\n\" style=\"fill:#dddcdc;\"/>\n    <path clip-path=\"url(#pdf60eaa288)\" d=\"M 177.19722 109.603543 \nL 189.727163 113.132894 \nL 192.584728 200.029767 \nL 180.461719 106.878612 \nz\n\" style=\"fill:#f4987a;\"/>\n    <path clip-path=\"url(#pdf60eaa288)\" d=\"M 152.532955 102.656278 \nL 164.799848 106.111535 \nL 168.098057 103.415299 \nL 155.863986 99.988287 \nz\n\" style=\"fill:#b40426;\"/>\n    <path clip-path=\"url(#pdf60eaa288)\" d=\"M 168.098057 103.415299 \nL 180.461719 106.878612 \nL 183.699377 104.176086 \nL 171.369289 100.741116 \nz\n\" style=\"fill:#b40426;\"/>\n    <path clip-path=\"url(#pdf60eaa288)\" d=\"M 133.585506 104.582738 \nL 145.78824 108.058461 \nL 149.174487 105.346245 \nL 137.003946 101.899017 \nz\n\" style=\"fill:#b40426;\"/>\n    <path clip-path=\"url(#pdf60eaa288)\" d=\"M 149.174487 105.346245 \nL 161.474329 108.830097 \nL 164.799848 106.111535 \nL 152.532955 102.656278 \nz\n\" style=\"fill:#b40426;\"/>\n    <path clip-path=\"url(#pdf60eaa288)\" d=\"M 164.799848 106.111535 \nL 177.19722 109.603543 \nL 180.461719 106.878612 \nL 168.098057 103.415299 \nz\n\" style=\"fill:#b40426;\"/>\n    <path clip-path=\"url(#pdf60eaa288)\" d=\"M 145.78824 108.058461 \nL 158.121157 111.571264 \nL 161.474329 108.830097 \nL 149.174487 105.346245 \nz\n\" style=\"fill:#b40426;\"/>\n    <path clip-path=\"url(#pdf60eaa288)\" d=\"M 161.474329 108.830097 \nL 173.905544 112.351159 \nL 177.19722 109.603543 \nL 164.799848 106.111535 \nz\n\" style=\"fill:#b40426;\"/>\n    <path clip-path=\"url(#pdf60eaa288)\" d=\"M 158.121157 111.571264 \nL 170.586351 115.121745 \nL 173.905544 112.351159 \nL 161.474329 108.830097 \nz\n\" style=\"fill:#b40426;\"/>\n    <path clip-path=\"url(#pdf60eaa288)\" d=\"M 173.905544 112.351159 \nL 186.470249 115.910032 \nL 189.727163 113.132894 \nL 177.19722 109.603543 \nz\n\" style=\"fill:#b40426;\"/>\n    <path clip-path=\"url(#pdf60eaa288)\" d=\"M 170.586351 115.121745 \nL 183.185961 118.710511 \nL 186.470249 115.910032 \nL 173.905544 112.351159 \nz\n\" style=\"fill:#b40426;\"/>\n    <path clip-path=\"url(#pdf60eaa288)\" d=\"M 186.470249 115.910032 \nL 199.170605 119.507327 \nL 202.391815 116.700188 \nL 189.727163 113.132894 \nz\n\" style=\"fill:#b40426;\"/>\n    <path clip-path=\"url(#pdf60eaa288)\" d=\"M 183.185961 118.710511 \nL 195.922175 122.338186 \nL 199.170605 119.507327 \nL 186.470249 115.910032 \nz\n\" style=\"fill:#b40426;\"/>\n    <path clip-path=\"url(#pdf60eaa288)\" d=\"M 199.170605 119.507327 \nL 212.008821 123.143669 \nL 215.19336 120.306042 \nL 202.391815 116.700188 \nz\n\" style=\"fill:#b40426;\"/>\n    <path clip-path=\"url(#pdf60eaa288)\" d=\"M 195.922175 122.338186 \nL 208.797225 126.005406 \nL 212.008821 123.143669 \nL 199.170605 119.507327 \nz\n\" style=\"fill:#b40426;\"/>\n   </g>\n   <g id=\"text_17\">\n    <!-- MC score:51.31198658662684 frame:31 step_size:65536  -->\n    <g transform=\"translate(7.2 16.318125)scale(0.12 -0.12)\">\n     <defs>\n      <path d=\"M 628 4666 \nL 1569 4666 \nL 2759 1491 \nL 3956 4666 \nL 4897 4666 \nL 4897 0 \nL 4281 0 \nL 4281 4097 \nL 3078 897 \nL 2444 897 \nL 1241 4097 \nL 1241 0 \nL 628 0 \nL 628 4666 \nz\n\" id=\"DejaVuSans-4d\" transform=\"scale(0.015625)\"/>\n      <path d=\"M 4122 4306 \nL 4122 3641 \nQ 3803 3938 3442 4084 \nQ 3081 4231 2675 4231 \nQ 1875 4231 1450 3742 \nQ 1025 3253 1025 2328 \nQ 1025 1406 1450 917 \nQ 1875 428 2675 428 \nQ 3081 428 3442 575 \nQ 3803 722 4122 1019 \nL 4122 359 \nQ 3791 134 3420 21 \nQ 3050 -91 2638 -91 \nQ 1578 -91 968 557 \nQ 359 1206 359 2328 \nQ 359 3453 968 4101 \nQ 1578 4750 2638 4750 \nQ 3056 4750 3426 4639 \nQ 3797 4528 4122 4306 \nz\n\" id=\"DejaVuSans-43\" transform=\"scale(0.015625)\"/>\n      <path id=\"DejaVuSans-20\" transform=\"scale(0.015625)\"/>\n      <path d=\"M 2834 3397 \nL 2834 2853 \nQ 2591 2978 2328 3040 \nQ 2066 3103 1784 3103 \nQ 1356 3103 1142 2972 \nQ 928 2841 928 2578 \nQ 928 2378 1081 2264 \nQ 1234 2150 1697 2047 \nL 1894 2003 \nQ 2506 1872 2764 1633 \nQ 3022 1394 3022 966 \nQ 3022 478 2636 193 \nQ 2250 -91 1575 -91 \nQ 1294 -91 989 -36 \nQ 684 19 347 128 \nL 347 722 \nQ 666 556 975 473 \nQ 1284 391 1588 391 \nQ 1994 391 2212 530 \nQ 2431 669 2431 922 \nQ 2431 1156 2273 1281 \nQ 2116 1406 1581 1522 \nL 1381 1569 \nQ 847 1681 609 1914 \nQ 372 2147 372 2553 \nQ 372 3047 722 3315 \nQ 1072 3584 1716 3584 \nQ 2034 3584 2315 3537 \nQ 2597 3491 2834 3397 \nz\n\" id=\"DejaVuSans-73\" transform=\"scale(0.015625)\"/>\n      <path d=\"M 3122 3366 \nL 3122 2828 \nQ 2878 2963 2633 3030 \nQ 2388 3097 2138 3097 \nQ 1578 3097 1268 2742 \nQ 959 2388 959 1747 \nQ 959 1106 1268 751 \nQ 1578 397 2138 397 \nQ 2388 397 2633 464 \nQ 2878 531 3122 666 \nL 3122 134 \nQ 2881 22 2623 -34 \nQ 2366 -91 2075 -91 \nQ 1284 -91 818 406 \nQ 353 903 353 1747 \nQ 353 2603 823 3093 \nQ 1294 3584 2113 3584 \nQ 2378 3584 2631 3529 \nQ 2884 3475 3122 3366 \nz\n\" id=\"DejaVuSans-63\" transform=\"scale(0.015625)\"/>\n      <path d=\"M 1959 3097 \nQ 1497 3097 1228 2736 \nQ 959 2375 959 1747 \nQ 959 1119 1226 758 \nQ 1494 397 1959 397 \nQ 2419 397 2687 759 \nQ 2956 1122 2956 1747 \nQ 2956 2369 2687 2733 \nQ 2419 3097 1959 3097 \nz\nM 1959 3584 \nQ 2709 3584 3137 3096 \nQ 3566 2609 3566 1747 \nQ 3566 888 3137 398 \nQ 2709 -91 1959 -91 \nQ 1206 -91 779 398 \nQ 353 888 353 1747 \nQ 353 2609 779 3096 \nQ 1206 3584 1959 3584 \nz\n\" id=\"DejaVuSans-6f\" transform=\"scale(0.015625)\"/>\n      <path d=\"M 2631 2963 \nQ 2534 3019 2420 3045 \nQ 2306 3072 2169 3072 \nQ 1681 3072 1420 2755 \nQ 1159 2438 1159 1844 \nL 1159 0 \nL 581 0 \nL 581 3500 \nL 1159 3500 \nL 1159 2956 \nQ 1341 3275 1631 3429 \nQ 1922 3584 2338 3584 \nQ 2397 3584 2469 3576 \nQ 2541 3569 2628 3553 \nL 2631 2963 \nz\n\" id=\"DejaVuSans-72\" transform=\"scale(0.015625)\"/>\n      <path d=\"M 3597 1894 \nL 3597 1613 \nL 953 1613 \nQ 991 1019 1311 708 \nQ 1631 397 2203 397 \nQ 2534 397 2845 478 \nQ 3156 559 3463 722 \nL 3463 178 \nQ 3153 47 2828 -22 \nQ 2503 -91 2169 -91 \nQ 1331 -91 842 396 \nQ 353 884 353 1716 \nQ 353 2575 817 3079 \nQ 1281 3584 2069 3584 \nQ 2775 3584 3186 3129 \nQ 3597 2675 3597 1894 \nz\nM 3022 2063 \nQ 3016 2534 2758 2815 \nQ 2500 3097 2075 3097 \nQ 1594 3097 1305 2825 \nQ 1016 2553 972 2059 \nL 3022 2063 \nz\n\" id=\"DejaVuSans-65\" transform=\"scale(0.015625)\"/>\n      <path d=\"M 750 794 \nL 1409 794 \nL 1409 0 \nL 750 0 \nL 750 794 \nz\nM 750 3309 \nL 1409 3309 \nL 1409 2516 \nL 750 2516 \nL 750 3309 \nz\n\" id=\"DejaVuSans-3a\" transform=\"scale(0.015625)\"/>\n      <path d=\"M 2597 2516 \nQ 3050 2419 3304 2112 \nQ 3559 1806 3559 1356 \nQ 3559 666 3084 287 \nQ 2609 -91 1734 -91 \nQ 1441 -91 1130 -33 \nQ 819 25 488 141 \nL 488 750 \nQ 750 597 1062 519 \nQ 1375 441 1716 441 \nQ 2309 441 2620 675 \nQ 2931 909 2931 1356 \nQ 2931 1769 2642 2001 \nQ 2353 2234 1838 2234 \nL 1294 2234 \nL 1294 2753 \nL 1863 2753 \nQ 2328 2753 2575 2939 \nQ 2822 3125 2822 3475 \nQ 2822 3834 2567 4026 \nQ 2313 4219 1838 4219 \nQ 1578 4219 1281 4162 \nQ 984 4106 628 3988 \nL 628 4550 \nQ 988 4650 1302 4700 \nQ 1616 4750 1894 4750 \nQ 2613 4750 3031 4423 \nQ 3450 4097 3450 3541 \nQ 3450 3153 3228 2886 \nQ 3006 2619 2597 2516 \nz\n\" id=\"DejaVuSans-33\" transform=\"scale(0.015625)\"/>\n      <path d=\"M 703 97 \nL 703 672 \nQ 941 559 1184 500 \nQ 1428 441 1663 441 \nQ 2288 441 2617 861 \nQ 2947 1281 2994 2138 \nQ 2813 1869 2534 1725 \nQ 2256 1581 1919 1581 \nQ 1219 1581 811 2004 \nQ 403 2428 403 3163 \nQ 403 3881 828 4315 \nQ 1253 4750 1959 4750 \nQ 2769 4750 3195 4129 \nQ 3622 3509 3622 2328 \nQ 3622 1225 3098 567 \nQ 2575 -91 1691 -91 \nQ 1453 -91 1209 -44 \nQ 966 3 703 97 \nz\nM 1959 2075 \nQ 2384 2075 2632 2365 \nQ 2881 2656 2881 3163 \nQ 2881 3666 2632 3958 \nQ 2384 4250 1959 4250 \nQ 1534 4250 1286 3958 \nQ 1038 3666 1038 3163 \nQ 1038 2656 1286 2365 \nQ 1534 2075 1959 2075 \nz\n\" id=\"DejaVuSans-39\" transform=\"scale(0.015625)\"/>\n      <path d=\"M 2375 4863 \nL 2375 4384 \nL 1825 4384 \nQ 1516 4384 1395 4259 \nQ 1275 4134 1275 3809 \nL 1275 3500 \nL 2222 3500 \nL 2222 3053 \nL 1275 3053 \nL 1275 0 \nL 697 0 \nL 697 3053 \nL 147 3053 \nL 147 3500 \nL 697 3500 \nL 697 3744 \nQ 697 4328 969 4595 \nQ 1241 4863 1831 4863 \nL 2375 4863 \nz\n\" id=\"DejaVuSans-66\" transform=\"scale(0.015625)\"/>\n      <path d=\"M 2194 1759 \nQ 1497 1759 1228 1600 \nQ 959 1441 959 1056 \nQ 959 750 1161 570 \nQ 1363 391 1709 391 \nQ 2188 391 2477 730 \nQ 2766 1069 2766 1631 \nL 2766 1759 \nL 2194 1759 \nz\nM 3341 1997 \nL 3341 0 \nL 2766 0 \nL 2766 531 \nQ 2569 213 2275 61 \nQ 1981 -91 1556 -91 \nQ 1019 -91 701 211 \nQ 384 513 384 1019 \nQ 384 1609 779 1909 \nQ 1175 2209 1959 2209 \nL 2766 2209 \nL 2766 2266 \nQ 2766 2663 2505 2880 \nQ 2244 3097 1772 3097 \nQ 1472 3097 1187 3025 \nQ 903 2953 641 2809 \nL 641 3341 \nQ 956 3463 1253 3523 \nQ 1550 3584 1831 3584 \nQ 2591 3584 2966 3190 \nQ 3341 2797 3341 1997 \nz\n\" id=\"DejaVuSans-61\" transform=\"scale(0.015625)\"/>\n      <path d=\"M 3328 2828 \nQ 3544 3216 3844 3400 \nQ 4144 3584 4550 3584 \nQ 5097 3584 5394 3201 \nQ 5691 2819 5691 2113 \nL 5691 0 \nL 5113 0 \nL 5113 2094 \nQ 5113 2597 4934 2840 \nQ 4756 3084 4391 3084 \nQ 3944 3084 3684 2787 \nQ 3425 2491 3425 1978 \nL 3425 0 \nL 2847 0 \nL 2847 2094 \nQ 2847 2600 2669 2842 \nQ 2491 3084 2119 3084 \nQ 1678 3084 1418 2786 \nQ 1159 2488 1159 1978 \nL 1159 0 \nL 581 0 \nL 581 3500 \nL 1159 3500 \nL 1159 2956 \nQ 1356 3278 1631 3431 \nQ 1906 3584 2284 3584 \nQ 2666 3584 2933 3390 \nQ 3200 3197 3328 2828 \nz\n\" id=\"DejaVuSans-6d\" transform=\"scale(0.015625)\"/>\n      <path d=\"M 1172 4494 \nL 1172 3500 \nL 2356 3500 \nL 2356 3053 \nL 1172 3053 \nL 1172 1153 \nQ 1172 725 1289 603 \nQ 1406 481 1766 481 \nL 2356 481 \nL 2356 0 \nL 1766 0 \nQ 1100 0 847 248 \nQ 594 497 594 1153 \nL 594 3053 \nL 172 3053 \nL 172 3500 \nL 594 3500 \nL 594 4494 \nL 1172 4494 \nz\n\" id=\"DejaVuSans-74\" transform=\"scale(0.015625)\"/>\n      <path d=\"M 1159 525 \nL 1159 -1331 \nL 581 -1331 \nL 581 3500 \nL 1159 3500 \nL 1159 2969 \nQ 1341 3281 1617 3432 \nQ 1894 3584 2278 3584 \nQ 2916 3584 3314 3078 \nQ 3713 2572 3713 1747 \nQ 3713 922 3314 415 \nQ 2916 -91 2278 -91 \nQ 1894 -91 1617 61 \nQ 1341 213 1159 525 \nz\nM 3116 1747 \nQ 3116 2381 2855 2742 \nQ 2594 3103 2138 3103 \nQ 1681 3103 1420 2742 \nQ 1159 2381 1159 1747 \nQ 1159 1113 1420 752 \nQ 1681 391 2138 391 \nQ 2594 391 2855 752 \nQ 3116 1113 3116 1747 \nz\n\" id=\"DejaVuSans-70\" transform=\"scale(0.015625)\"/>\n      <path d=\"M 3263 -1063 \nL 3263 -1509 \nL -63 -1509 \nL -63 -1063 \nL 3263 -1063 \nz\n\" id=\"DejaVuSans-5f\" transform=\"scale(0.015625)\"/>\n      <path d=\"M 603 3500 \nL 1178 3500 \nL 1178 0 \nL 603 0 \nL 603 3500 \nz\nM 603 4863 \nL 1178 4863 \nL 1178 4134 \nL 603 4134 \nL 603 4863 \nz\n\" id=\"DejaVuSans-69\" transform=\"scale(0.015625)\"/>\n      <path d=\"M 353 3500 \nL 3084 3500 \nL 3084 2975 \nL 922 459 \nL 3084 459 \nL 3084 0 \nL 275 0 \nL 275 525 \nL 2438 3041 \nL 353 3041 \nL 353 3500 \nz\n\" id=\"DejaVuSans-7a\" transform=\"scale(0.015625)\"/>\n     </defs>\n     <use xlink:href=\"#DejaVuSans-4d\"/>\n     <use x=\"86.279297\" xlink:href=\"#DejaVuSans-43\"/>\n     <use x=\"156.103516\" xlink:href=\"#DejaVuSans-20\"/>\n     <use x=\"187.890625\" xlink:href=\"#DejaVuSans-73\"/>\n     <use x=\"239.990234\" xlink:href=\"#DejaVuSans-63\"/>\n     <use x=\"294.970703\" xlink:href=\"#DejaVuSans-6f\"/>\n     <use x=\"356.152344\" xlink:href=\"#DejaVuSans-72\"/>\n     <use x=\"395.015625\" xlink:href=\"#DejaVuSans-65\"/>\n     <use x=\"456.539062\" xlink:href=\"#DejaVuSans-3a\"/>\n     <use x=\"490.230469\" xlink:href=\"#DejaVuSans-35\"/>\n     <use x=\"553.853516\" xlink:href=\"#DejaVuSans-31\"/>\n     <use x=\"617.476562\" xlink:href=\"#DejaVuSans-2e\"/>\n     <use x=\"649.263672\" xlink:href=\"#DejaVuSans-33\"/>\n     <use x=\"712.886719\" xlink:href=\"#DejaVuSans-31\"/>\n     <use x=\"776.509766\" xlink:href=\"#DejaVuSans-31\"/>\n     <use x=\"840.132812\" xlink:href=\"#DejaVuSans-39\"/>\n     <use x=\"903.755859\" xlink:href=\"#DejaVuSans-38\"/>\n     <use x=\"967.378906\" xlink:href=\"#DejaVuSans-36\"/>\n     <use x=\"1031.001953\" xlink:href=\"#DejaVuSans-35\"/>\n     <use x=\"1094.625\" xlink:href=\"#DejaVuSans-38\"/>\n     <use x=\"1158.248047\" xlink:href=\"#DejaVuSans-36\"/>\n     <use x=\"1221.871094\" xlink:href=\"#DejaVuSans-36\"/>\n     <use x=\"1285.494141\" xlink:href=\"#DejaVuSans-32\"/>\n     <use x=\"1349.117188\" xlink:href=\"#DejaVuSans-36\"/>\n     <use x=\"1412.740234\" xlink:href=\"#DejaVuSans-38\"/>\n     <use x=\"1476.363281\" xlink:href=\"#DejaVuSans-34\"/>\n     <use x=\"1539.986328\" xlink:href=\"#DejaVuSans-20\"/>\n     <use x=\"1571.773438\" xlink:href=\"#DejaVuSans-66\"/>\n     <use x=\"1606.978516\" xlink:href=\"#DejaVuSans-72\"/>\n     <use x=\"1648.091797\" xlink:href=\"#DejaVuSans-61\"/>\n     <use x=\"1709.371094\" xlink:href=\"#DejaVuSans-6d\"/>\n     <use x=\"1806.783203\" xlink:href=\"#DejaVuSans-65\"/>\n     <use x=\"1868.306641\" xlink:href=\"#DejaVuSans-3a\"/>\n     <use x=\"1901.998047\" xlink:href=\"#DejaVuSans-33\"/>\n     <use x=\"1965.621094\" xlink:href=\"#DejaVuSans-31\"/>\n     <use x=\"2029.244141\" xlink:href=\"#DejaVuSans-20\"/>\n     <use x=\"2061.03125\" xlink:href=\"#DejaVuSans-73\"/>\n     <use x=\"2113.130859\" xlink:href=\"#DejaVuSans-74\"/>\n     <use x=\"2152.339844\" xlink:href=\"#DejaVuSans-65\"/>\n     <use x=\"2213.863281\" xlink:href=\"#DejaVuSans-70\"/>\n     <use x=\"2277.339844\" xlink:href=\"#DejaVuSans-5f\"/>\n     <use x=\"2327.339844\" xlink:href=\"#DejaVuSans-73\"/>\n     <use x=\"2379.439453\" xlink:href=\"#DejaVuSans-69\"/>\n     <use x=\"2407.222656\" xlink:href=\"#DejaVuSans-7a\"/>\n     <use x=\"2459.712891\" xlink:href=\"#DejaVuSans-65\"/>\n     <use x=\"2521.236328\" xlink:href=\"#DejaVuSans-3a\"/>\n     <use x=\"2554.927734\" xlink:href=\"#DejaVuSans-36\"/>\n     <use x=\"2618.550781\" xlink:href=\"#DejaVuSans-35\"/>\n     <use x=\"2682.173828\" xlink:href=\"#DejaVuSans-35\"/>\n     <use x=\"2745.796875\" xlink:href=\"#DejaVuSans-33\"/>\n     <use x=\"2809.419922\" xlink:href=\"#DejaVuSans-36\"/>\n     <use x=\"2873.042969\" xlink:href=\"#DejaVuSans-20\"/>\n    </g>\n   </g>\n  </g>\n </g>\n <defs>\n  <clipPath id=\"pdf60eaa288\">\n   <rect height=\"217.44\" width=\"217.44\" x=\"72.770625\" y=\"22.318125\"/>\n  </clipPath>\n </defs>\n</svg>\n",
      "image/png": "[encoded data removed]"
     },
     "metadata": {
      "needs_background": "light"
     }
    }
   ],
   "metadata": {}
  },
  {
   "cell_type": "markdown",
   "source": [
    "## TD Learning in Easy21"
   ],
   "metadata": {}
  },
  {
   "cell_type": "markdown",
   "source": [
    "Run the algorithm with parameter values λ ∈ {0, 0.1, 0.2, ..., 1}. Stop each run after 1000 episodes\n",
    "2\n",
    " \n",
    "and report the mean-squared error Sums,a(Q(s, a) − Q∗(s, a))2 over all states s and actions a, comparing the true values Q∗(s,a) computed in the previous section with the estimated values Q(s, a) computed by Sarsa.\n",
    "\n",
    "Plot the mean- squared error against λ."
   ],
   "metadata": {}
  },
  {
   "cell_type": "code",
   "execution_count": null,
   "source": [
    "mc_agent = MC_Agent(Environment(), 100)\n",
    "mc_agent.train(1000000)\n",
    "\n",
    "N0 = 100\n",
    "lambda_list = [0,0.1,0.2,0.3,0.4,0.5,0.6,0.7,0.8,0.9,1]\n",
    "mse_list = []\n",
    "n_elements = mc_agent.Q.shape[0]*mc_agent.Q.shape[1]*2\n",
    "for mlambda in lambda_list:\n",
    "    agent = TD_Agent(Environment(), N0, mlambda, 1)\n",
    "\n",
    "    agent.train(1000,disable_logging = True)\n",
    "    mse = np.sum(np.square(agent.Q-mc_agent.Q))/float(n_elements)\n",
    "    mse_list.append(mse)\n",
    "\n",
    "fig = plt.figure(\"N100\")\n",
    "surf = plt.plot(lambda_list[0:11], mse_list[0:11])\n",
    "\n",
    "plt.show()"
   ],
   "outputs": [],
   "metadata": {}
  },
  {
   "cell_type": "markdown",
   "source": [
    "For λ = 0 and λ = 1 only, plot the learning curve of mean-squared error against episode number."
   ],
   "metadata": {}
  },
  {
   "cell_type": "code",
   "execution_count": null,
   "source": [
    "N0 = 100\n",
    "mlambda = 0.0\n",
    "mse_list = []\n",
    "episode_number = range(1000)\n",
    "n_elements = len(mc_agent.Q)\n",
    "agent = TD_Agent(Environment(), N0, mlambda, gamma=1)\n",
    "for i in episode_number:\n",
    "    agent.train(1,disable_logging = True)\n",
    "    mse = np.sum(np.square(agent.Q-mc_agent.Q))/float(1000)\n",
    "    mse_list.append(mse)\n",
    "\n",
    "fig = plt.figure(\"0.0\")\n",
    "surf = plt.plot( episode_number,mse_list)\n",
    "plt.show()"
   ],
   "outputs": [],
   "metadata": {}
  },
  {
   "cell_type": "code",
   "execution_count": null,
   "source": [
    "N0 = 100\n",
    "mlambda = 1.0\n",
    "mse_list = []\n",
    "episode_number = range(1000)\n",
    "n_elements = len(mc_agent.Q)\n",
    "agent = TD_Agent(Environment(), N0, mlambda, gamma=1)\n",
    "for i in episode_number:\n",
    "    agent.train(1,disable_logging = True)\n",
    "    mse = np.sum(np.square(agent.Q-mc_agent.Q))/float(1000)\n",
    "    mse_list.append(mse)\n",
    "\n",
    "fig = plt.figure(\"1.0\")\n",
    "surf = plt.plot( episode_number,mse_list)\n",
    "plt.show()"
   ],
   "outputs": [],
   "metadata": {}
  },
  {
   "cell_type": "markdown",
   "source": [
    "## Linear Function Approximation in Easy21"
   ],
   "metadata": {}
  },
  {
   "cell_type": "markdown",
   "source": [
    "We now consider a simple value function approximator using coarse coding. Use a binary feature vector φ(s, a) with 3 ∗ 6 ∗ 2 = 36 features. Each binary feature has a value of 1 iff (s, a) lies within the cuboid of state-space corresponding to that feature, and the action corresponding to that feature. The cuboids have the following overlapping intervals:\n",
    "dealer(s) = {[1, 4], [4, 7], [7, 10]}\n",
    "player(s) = {[1, 6], [4, 9], [7, 12], [10, 15], [13, 18], [16, 21]}\n",
    "a = {hit, stick}\n",
    "where\n",
    "• dealer(s) is the value of the dealer’s first card (1–10) • sum(s) is the sum of the player’s cards (1–21)\n",
    "Repeat the Sarsa(λ) experiment from the previous section, but using linear value function approximation Q(s, a) = φ(s, a)⊤θ. Use a constant exploration of ε = 0.05 and a constant step-size of 0.01. Plot the mean-squared error against λ. For λ = 0 and λ = 1 only, plot the learning curve of mean-squared error against episode number."
   ],
   "metadata": {}
  },
  {
   "cell_type": "code",
   "execution_count": null,
   "source": [],
   "outputs": [],
   "metadata": {}
  },
  {
   "cell_type": "code",
   "execution_count": null,
   "source": [
    "N0 = 100\n",
    "mlambda = 0.0\n",
    "mse_list = []\n",
    "episode_number = range(1000)\n",
    "n_elements = len(mc_agent.Q)\n",
    "agent = Linear_Approximation_Agent(Environment(), N0, mlambda, gamma=1)\n",
    "for i in episode_number:\n",
    "    agent.train(1,disable_logging = True)\n",
    "    mse = np.sum(np.square(agent.Q-mc_agent.Q))/float(1000)\n",
    "    mse_list.append(mse)\n",
    "\n",
    "fig = plt.figure(\"0.0\")\n",
    "surf = plt.plot( episode_number,mse_list)\n",
    "plt.show()"
   ],
   "outputs": [],
   "metadata": {}
  },
  {
   "cell_type": "code",
   "execution_count": null,
   "source": [
    "N0 = 100\n",
    "mlambda = 1.0\n",
    "mse_list = []\n",
    "episode_number = range(1000)\n",
    "n_elements = len(mc_agent.Q)\n",
    "agent = Linear_Approximation_Agent(Environment(), N0, mlambda, gamma=1)\n",
    "for i in episode_number:\n",
    "    agent.train(1,disable_logging = True)\n",
    "    mse = np.sum(np.square(agent.Q-mc_agent.Q))/float(1000)\n",
    "    mse_list.append(mse)\n",
    "\n",
    "fig = plt.figure(\"1.0\")\n",
    "surf = plt.plot( episode_number,mse_list)\n",
    "plt.show()"
   ],
   "outputs": [],
   "metadata": {}
  }
 ],
 "metadata": {
  "orig_nbformat": 4,
  "language_info": {
   "name": "python",
   "version": "3.8.9",
   "mimetype": "text/x-python",
   "codemirror_mode": {
    "name": "ipython",
    "version": 3
   },
   "pygments_lexer": "ipython3",
   "nbconvert_exporter": "python",
   "file_extension": ".py"
  },
  "kernelspec": {
   "name": "python3",
   "display_name": "Python 3.8.9 64-bit ('venv': venv)"
  },
  "interpreter": {
   "hash": "49da1de80cb45c5c6192eccb955cb587c884be8f511c8b98ac86557bd55d710a"
  }
 },
 "nbformat": 4,
 "nbformat_minor": 2
}