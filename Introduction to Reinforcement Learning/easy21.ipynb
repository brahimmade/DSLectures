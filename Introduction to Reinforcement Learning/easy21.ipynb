{
 "cells": [
  {
   "cell_type": "code",
   "execution_count": 4,
   "source": [
    "import random"
   ],
   "outputs": [],
   "metadata": {}
  },
  {
   "cell_type": "code",
   "execution_count": 19,
   "source": [
    "def draw_card():\n",
    "    value = random.randint(1, 10)\n",
    "    colour = random.randint(1,3)\n",
    "    # black: 1,2 , red: 3\n",
    "    if colour > 2:\n",
    "        value = -value\n",
    "    return value\n",
    "\n",
    "def draw_black_card():\n",
    "    value = random.randint(1, 10)\n",
    "    return value"
   ],
   "outputs": [],
   "metadata": {}
  },
  {
   "cell_type": "code",
   "execution_count": null,
   "source": [
    "def step(dealer_sum, player_sum, action):\n",
    "    if action == 'hit':\n",
    "        player_sum = player_sum + draw_card()\n",
    "        if player_sum < 1 or player_sum > 21:\n",
    "            return (-1 , -1, -1)\n",
    "        else:\n",
    "            return(dealer_sum, player_sum, 0)\n",
    "    \n",
    "    if action == 'stick':\n",
    "        while True:\n",
    "            if (dealer_card > player_sum):\n",
    "                return (-1 , -1, -1)\n",
    "\n",
    "            dealer_card = dealer_card + draw_card()\n",
    "\n",
    "            if (dealer_card >= 17 and dealer_card == player_sum):\n",
    "                return (-1 , -1, 0)\n",
    "            if (dealer_card >= 17 and dealer_card < player_sum):\n",
    "                return (-1 , -1, 1)\n",
    "            if (dealer_card < 1 or dealer_card > 21):\n",
    "                return (-1 , -1, 1)\n"
   ],
   "outputs": [],
   "metadata": {}
  },
  {
   "cell_type": "code",
   "execution_count": null,
   "source": [],
   "outputs": [],
   "metadata": {}
  }
 ],
 "metadata": {
  "orig_nbformat": 4,
  "language_info": {
   "name": "python",
   "version": "3.8.9",
   "mimetype": "text/x-python",
   "codemirror_mode": {
    "name": "ipython",
    "version": 3
   },
   "pygments_lexer": "ipython3",
   "nbconvert_exporter": "python",
   "file_extension": ".py"
  },
  "kernelspec": {
   "name": "python3",
   "display_name": "Python 3.8.9 64-bit ('venv': venv)"
  },
  "interpreter": {
   "hash": "49da1de80cb45c5c6192eccb955cb587c884be8f511c8b98ac86557bd55d710a"
  }
 },
 "nbformat": 4,
 "nbformat_minor": 2
}